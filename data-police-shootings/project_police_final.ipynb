{
 "cells": [
  {
   "cell_type": "code",
   "execution_count": 1,
   "metadata": {},
   "outputs": [
    {
     "name": "stderr",
     "output_type": "stream",
     "text": [
      "C:\\Users\\Utilizador\\Anaconda3\\lib\\site-packages\\pandas\\compat\\_optional.py:138: UserWarning: Pandas requires version '2.7.0' or newer of 'numexpr' (version '2.6.9' currently installed).\n",
      "  warnings.warn(msg, UserWarning)\n"
     ]
    }
   ],
   "source": [
    "import pandas as pd\n",
    "import numpy as np\n",
    "import matplotlib.pyplot as plt\n",
    "import seaborn as sns"
   ]
  },
  {
   "cell_type": "code",
   "execution_count": 3,
   "metadata": {},
   "outputs": [
    {
     "data": {
      "text/plain": [
       "(7110, 17)"
      ]
     },
     "execution_count": 3,
     "metadata": {},
     "output_type": "execute_result"
    }
   ],
   "source": [
    "police = pd.read_csv('fatal-police-shootings-data.csv')\n",
    "police.shape"
   ]
  },
  {
   "cell_type": "code",
   "execution_count": 4,
   "metadata": {},
   "outputs": [
    {
     "data": {
      "text/plain": [
       "id                           int64\n",
       "name                        object\n",
       "date                        object\n",
       "manner_of_death             object\n",
       "armed                       object\n",
       "age                        float64\n",
       "gender                      object\n",
       "race                        object\n",
       "city                        object\n",
       "state                       object\n",
       "signs_of_mental_illness       bool\n",
       "threat_level                object\n",
       "flee                        object\n",
       "body_camera                   bool\n",
       "longitude                  float64\n",
       "latitude                   float64\n",
       "is_geocoding_exact            bool\n",
       "dtype: object"
      ]
     },
     "execution_count": 4,
     "metadata": {},
     "output_type": "execute_result"
    }
   ],
   "source": [
    "police.dtypes"
   ]
  },
  {
   "cell_type": "code",
   "execution_count": 6,
   "metadata": {},
   "outputs": [
    {
     "data": {
      "text/plain": [
       "id                            0\n",
       "name                        324\n",
       "date                          0\n",
       "manner_of_death               0\n",
       "armed                       209\n",
       "age                         380\n",
       "gender                        5\n",
       "race                       1171\n",
       "city                          0\n",
       "state                         0\n",
       "signs_of_mental_illness       0\n",
       "threat_level                  0\n",
       "flee                        595\n",
       "body_camera                   0\n",
       "longitude                   683\n",
       "latitude                    683\n",
       "is_geocoding_exact            0\n",
       "dtype: int64"
      ]
     },
     "execution_count": 6,
     "metadata": {},
     "output_type": "execute_result"
    }
   ],
   "source": [
    "police.isnull().sum()"
   ]
  },
  {
   "cell_type": "code",
   "execution_count": 7,
   "metadata": {},
   "outputs": [
    {
     "data": {
      "text/plain": [
       "id                           0\n",
       "name                        45\n",
       "date                         0\n",
       "manner_of_death              0\n",
       "armed                      199\n",
       "age                        114\n",
       "gender                       1\n",
       "race                         0\n",
       "city                         0\n",
       "state                        0\n",
       "signs_of_mental_illness      0\n",
       "threat_level                 0\n",
       "flee                       380\n",
       "body_camera                  0\n",
       "longitude                  331\n",
       "latitude                   331\n",
       "is_geocoding_exact           0\n",
       "dtype: int64"
      ]
     },
     "execution_count": 7,
     "metadata": {},
     "output_type": "execute_result"
    }
   ],
   "source": [
    "# drop rows with 'race' null\n",
    "police=police[police['race'].notna()]\n",
    "police.isnull().sum()"
   ]
  },
  {
   "cell_type": "code",
   "execution_count": 8,
   "metadata": {},
   "outputs": [],
   "source": [
    "police.drop(columns=['name'],inplace=True)"
   ]
  },
  {
   "cell_type": "code",
   "execution_count": 9,
   "metadata": {},
   "outputs": [
    {
     "data": {
      "text/plain": [
       "id                           0\n",
       "date                         0\n",
       "manner_of_death              0\n",
       "armed                      199\n",
       "age                        114\n",
       "gender                       0\n",
       "race                         0\n",
       "city                         0\n",
       "state                        0\n",
       "signs_of_mental_illness      0\n",
       "threat_level                 0\n",
       "flee                       380\n",
       "body_camera                  0\n",
       "longitude                  330\n",
       "latitude                   330\n",
       "is_geocoding_exact           0\n",
       "dtype: int64"
      ]
     },
     "execution_count": 9,
     "metadata": {},
     "output_type": "execute_result"
    }
   ],
   "source": [
    "police=police[police['gender'].notna()]\n",
    "police.isnull().sum()"
   ]
  },
  {
   "cell_type": "code",
   "execution_count": 10,
   "metadata": {},
   "outputs": [
    {
     "data": {
      "text/plain": [
       "W    3014\n",
       "B    1592\n",
       "H    1088\n",
       "A     106\n",
       "N      91\n",
       "O      47\n",
       "Name: race, dtype: int64"
      ]
     },
     "execution_count": 10,
     "metadata": {},
     "output_type": "execute_result"
    }
   ],
   "source": [
    "police['race'].value_counts()"
   ]
  },
  {
   "cell_type": "code",
   "execution_count": 11,
   "metadata": {},
   "outputs": [],
   "source": [
    "police['race'].replace({'N':'O'},inplace=True)"
   ]
  },
  {
   "cell_type": "code",
   "execution_count": 63,
   "metadata": {},
   "outputs": [],
   "source": [
    "# make a copy of the dataset\n",
    "police_final=police.drop(columns=['date','manner_of_death','armed','city','signs_of_mental_illness','threat_level','body_camera','longitude','latitude','is_geocoding_exact'])"
   ]
  },
  {
   "cell_type": "code",
   "execution_count": 64,
   "metadata": {},
   "outputs": [
    {
     "data": {
      "text/plain": [
       "id            0\n",
       "age         114\n",
       "gender        0\n",
       "race          0\n",
       "state         0\n",
       "flee        380\n",
       "age_bins    114\n",
       "dtype: int64"
      ]
     },
     "execution_count": 64,
     "metadata": {},
     "output_type": "execute_result"
    }
   ],
   "source": [
    "police_final.isnull().sum()"
   ]
  },
  {
   "cell_type": "code",
   "execution_count": 65,
   "metadata": {},
   "outputs": [],
   "source": [
    "police_final['flee'].replace({'Car':'Yes','Foot':'Yes','Other':'Yes','Not fleeing':'No'},inplace=True)\n",
    "police_final=police_final[police_final['flee'].notna()]\n",
    "police_final=police_final[police_final['age'].notna()]"
   ]
  },
  {
   "cell_type": "code",
   "execution_count": 66,
   "metadata": {},
   "outputs": [
    {
     "data": {
      "text/plain": [
       "id          0\n",
       "age         0\n",
       "gender      0\n",
       "race        0\n",
       "state       0\n",
       "flee        0\n",
       "age_bins    0\n",
       "dtype: int64"
      ]
     },
     "execution_count": 66,
     "metadata": {},
     "output_type": "execute_result"
    }
   ],
   "source": [
    "police_final.isnull().sum()"
   ]
  },
  {
   "cell_type": "code",
   "execution_count": 78,
   "metadata": {},
   "outputs": [],
   "source": [
    "# turn age into bins\n",
    "# first change age type to int\n",
    "police_final=police_final.astype({'age':'int32'})\n",
    "bins=[0,12,18,35,50, police_final['age'].max()]\n",
    "police_final['age_bins']=pd.cut(police_final['age'], bins=bins,labels=[\"<12\",\"12-18\",\"18-35\",\"35-50\",\">50\"])\n",
    "#police[['age','age_bins']]"
   ]
  },
  {
   "cell_type": "code",
   "execution_count": 79,
   "metadata": {},
   "outputs": [
    {
     "data": {
      "text/plain": [
       "18-35    2712\n",
       "35-50    1704\n",
       ">50       833\n",
       "12-18     204\n",
       "<12         3\n",
       "Name: age_bins, dtype: int64"
      ]
     },
     "execution_count": 79,
     "metadata": {},
     "output_type": "execute_result"
    }
   ],
   "source": [
    "police_final['age_bins'].value_counts()"
   ]
  },
  {
   "cell_type": "code",
   "execution_count": 80,
   "metadata": {},
   "outputs": [
    {
     "data": {
      "image/png": "[encoded data removed]",
      "text/plain": [
       "<Figure size 432x288 with 1 Axes>"
      ]
     },
     "metadata": {
      "needs_background": "light"
     },
     "output_type": "display_data"
    }
   ],
   "source": [
    "plt.bar(police_final['age_bins'].value_counts().index, police_final['age_bins'].value_counts().values)\n",
    "plt.show()"
   ]
  },
  {
   "cell_type": "code",
   "execution_count": 110,
   "metadata": {},
   "outputs": [
    {
     "data": {
      "text/plain": [
       "W    2772\n",
       "B    1471\n",
       "H     990\n",
       "O     125\n",
       "A      98\n",
       "Name: race, dtype: int64"
      ]
     },
     "execution_count": 110,
     "metadata": {},
     "output_type": "execute_result"
    }
   ],
   "source": [
    "police_final['race'].value_counts()"
   ]
  },
  {
   "cell_type": "markdown",
   "metadata": {},
   "source": [
    "### Create dataframe with the population by race, pop by age, pop by state and pop by gender in usa"
   ]
  },
  {
   "cell_type": "code",
   "execution_count": 130,
   "metadata": {},
   "outputs": [],
   "source": [
    "# for the states we'll need a dictionary to pass from state name to state abbreviation\n",
    "\n",
    "us_state_to_abbrev = {\n",
    "    \"Alabama\": \"AL\",\n",
    "    \"Alaska\": \"AK\",\n",
    "    \"Arizona\": \"AZ\",\n",
    "    \"Arkansas\": \"AR\",\n",
    "    \"California\": \"CA\",\n",
    "    \"Colorado\": \"CO\",\n",
    "    \"Connecticut\": \"CT\",\n",
    "    \"Delaware\": \"DE\",\n",
    "    \"Florida\": \"FL\",\n",
    "    \"Georgia\": \"GA\",\n",
    "    \"Hawaii\": \"HI\",\n",
    "    \"Idaho\": \"ID\",\n",
    "    \"Illinois\": \"IL\",\n",
    "    \"Indiana\": \"IN\",\n",
    "    \"Iowa\": \"IA\",\n",
    "    \"Kansas\": \"KS\",\n",
    "    \"Kentucky\": \"KY\",\n",
    "    \"Louisiana\": \"LA\",\n",
    "    \"Maine\": \"ME\",\n",
    "    \"Maryland\": \"MD\",\n",
    "    \"Massachusetts\": \"MA\",\n",
    "    \"Michigan\": \"MI\",\n",
    "    \"Minnesota\": \"MN\",\n",
    "    \"Mississippi\": \"MS\",\n",
    "    \"Missouri\": \"MO\",\n",
    "    \"Montana\": \"MT\",\n",
    "    \"Nebraska\": \"NE\",\n",
    "    \"Nevada\": \"NV\",\n",
    "    \"New Hampshire\": \"NH\",\n",
    "    \"New Jersey\": \"NJ\",\n",
    "    \"New Mexico\": \"NM\",\n",
    "    \"New York\": \"NY\",\n",
    "    \"North Carolina\": \"NC\",\n",
    "    \"North Dakota\": \"ND\",\n",
    "    \"Ohio\": \"OH\",\n",
    "    \"Oklahoma\": \"OK\",\n",
    "    \"Oregon\": \"OR\",\n",
    "    \"Pennsylvania\": \"PA\",\n",
    "    \"Rhode Island\": \"RI\",\n",
    "    \"South Carolina\": \"SC\",\n",
    "    \"South Dakota\": \"SD\",\n",
    "    \"Tennessee\": \"TN\",\n",
    "    \"Texas\": \"TX\",\n",
    "    \"Utah\": \"UT\",\n",
    "    \"Vermont\": \"VT\",\n",
    "    \"Virginia\": \"VA\",\n",
    "    \"Washington\": \"WA\",\n",
    "    \"West Virginia\": \"WV\",\n",
    "    \"Wisconsin\": \"WI\",\n",
    "    \"Wyoming\": \"WY\",\n",
    "    \"District of Columbia\": \"DC\",\n",
    "    \"American Samoa\": \"AS\",\n",
    "    \"Guam\": \"GU\",\n",
    "    \"Northern Mariana Islands\": \"MP\",\n",
    "    \"Puerto Rico\": \"PR\",\n",
    "    \"United States Minor Outlying Islands\": \"UM\",\n",
    "    \"U.S. Virgin Islands\": \"VI\",\n",
    "}"
   ]
  },
  {
   "cell_type": "code",
   "execution_count": 502,
   "metadata": {},
   "outputs": [
    {
     "data": {
      "text/html": [
       "<div>\n",
       "<style scoped>\n",
       "    .dataframe tbody tr th:only-of-type {\n",
       "        vertical-align: middle;\n",
       "    }\n",
       "\n",
       "    .dataframe tbody tr th {\n",
       "        vertical-align: top;\n",
       "    }\n",
       "\n",
       "    .dataframe thead th {\n",
       "        text-align: right;\n",
       "    }\n",
       "</style>\n",
       "<table border=\"1\" class=\"dataframe\">\n",
       "  <thead>\n",
       "    <tr style=\"text-align: right;\">\n",
       "      <th></th>\n",
       "      <th>STATE</th>\n",
       "      <th>Total</th>\n",
       "      <th>Below poverty</th>\n",
       "      <th>Standard error</th>\n",
       "      <th>Percent</th>\n",
       "      <th>Standard error.1</th>\n",
       "    </tr>\n",
       "  </thead>\n",
       "  <tbody>\n",
       "    <tr>\n",
       "      <th>0</th>\n",
       "      <td>Alabama</td>\n",
       "      <td>4885</td>\n",
       "      <td>727</td>\n",
       "      <td>84</td>\n",
       "      <td>14.9</td>\n",
       "      <td>1.8</td>\n",
       "    </tr>\n",
       "    <tr>\n",
       "      <th>1</th>\n",
       "      <td>Alaska</td>\n",
       "      <td>705</td>\n",
       "      <td>94</td>\n",
       "      <td>9</td>\n",
       "      <td>13.3</td>\n",
       "      <td>1.3</td>\n",
       "    </tr>\n",
       "  </tbody>\n",
       "</table>\n",
       "</div>"
      ],
      "text/plain": [
       "     STATE  Total  Below poverty  Standard error  Percent  Standard error.1\n",
       "0  Alabama   4885            727              84     14.9               1.8\n",
       "1   Alaska    705             94               9     13.3               1.3"
      ]
     },
     "execution_count": 502,
     "metadata": {},
     "output_type": "execute_result"
    }
   ],
   "source": [
    "#states=pd.read_html('https://www.infoplease.com/us/states/state-population-by-rank')\n",
    "#states=states[0]\n",
    "#states.head(2)\n",
    "states = pd.read_excel('poverty_state_2.xlsx')\n",
    "states.head(2)"
   ]
  },
  {
   "cell_type": "code",
   "execution_count": 503,
   "metadata": {},
   "outputs": [],
   "source": [
    "states2=states.replace({'STATE':us_state_to_abbrev})\n",
    "states2.rename(columns={'STATE':'state', 'Total':'population_states','Below poverty':'N_poor_by_state'},inplace=True)\n",
    "states2.drop(columns=['Standard error','Percent','Standard error.1'],inplace=True)\n",
    "states2['population_states']=states2['population_states']*1000\n",
    "states2['N_poor_by_state']=states2['N_poor_by_state']*1000\n"
   ]
  },
  {
   "cell_type": "code",
   "execution_count": 504,
   "metadata": {},
   "outputs": [],
   "source": [
    "population_race = pd.DataFrame(data=np.array([['W',191698000],['H',62080000],['B',39940000],['A',19619000],['O',18113000]]), columns=['race','population_race'])\n",
    "population_gender = pd.DataFrame(data=np.array([['M',162826299],['F',166238618]]), columns=['gender','population_gender'])\n",
    "#population_age = pd.DataFrame(data=np.array([]), columns=['Population_Race']                                \n",
    "population_states=states2.copy()#.drop(columns=['Rank','Percent of Total'])"
   ]
  },
  {
   "cell_type": "code",
   "execution_count": 505,
   "metadata": {},
   "outputs": [],
   "source": [
    "# Merge the information regarding all population with the information of police killings\n",
    "final = police_final.merge(population_race, how='inner', left_on='race', right_on='race')\n",
    "final = final.merge(population_gender, how='inner', left_on='gender', right_on='gender')\n",
    "final = final.merge(population_states, how='inner', left_on='state', right_on='state')"
   ]
  },
  {
   "cell_type": "code",
   "execution_count": 506,
   "metadata": {},
   "outputs": [
    {
     "data": {
      "text/plain": [
       "population_states    325714000\n",
       "N_poor_by_state       37248000\n",
       "dtype: int64"
      ]
     },
     "execution_count": 506,
     "metadata": {},
     "output_type": "execute_result"
    }
   ],
   "source": [
    "final.head(2)\n",
    "(final.groupby('state').agg({'population_states':'max','N_poor_by_state':'max'})).sum()"
   ]
  },
  {
   "cell_type": "code",
   "execution_count": null,
   "metadata": {},
   "outputs": [],
   "source": []
  },
  {
   "cell_type": "code",
   "execution_count": 507,
   "metadata": {},
   "outputs": [],
   "source": [
    "# with this excel file I could already insert the number of poor by state"
   ]
  },
  {
   "cell_type": "markdown",
   "metadata": {},
   "source": [
    "## Now it's time to merge information regarding race, gender, poverty and state of the all country"
   ]
  },
  {
   "cell_type": "markdown",
   "metadata": {},
   "source": [
    "### Race"
   ]
  },
  {
   "cell_type": "code",
   "execution_count": 508,
   "metadata": {},
   "outputs": [
    {
     "data": {
      "text/html": [
       "<div>\n",
       "<style scoped>\n",
       "    .dataframe tbody tr th:only-of-type {\n",
       "        vertical-align: middle;\n",
       "    }\n",
       "\n",
       "    .dataframe tbody tr th {\n",
       "        vertical-align: top;\n",
       "    }\n",
       "\n",
       "    .dataframe thead th {\n",
       "        text-align: right;\n",
       "    }\n",
       "</style>\n",
       "<table border=\"1\" class=\"dataframe\">\n",
       "  <thead>\n",
       "    <tr style=\"text-align: right;\">\n",
       "      <th></th>\n",
       "      <th>Year</th>\n",
       "      <th>Total</th>\n",
       "      <th>White alone (22)</th>\n",
       "      <th>White alone, not Hispanic (22)</th>\n",
       "      <th>Black alone or in combination</th>\n",
       "      <th>Black alone (24)</th>\n",
       "      <th>Asian alone or in combination</th>\n",
       "      <th>Asian alone (25)</th>\n",
       "      <th>Hispanic (any race) (26)</th>\n",
       "    </tr>\n",
       "  </thead>\n",
       "  <tbody>\n",
       "    <tr>\n",
       "      <th>0</th>\n",
       "      <td>2020</td>\n",
       "      <td>37247.0</td>\n",
       "      <td>25007</td>\n",
       "      <td>15942</td>\n",
       "      <td>9219</td>\n",
       "      <td>8472</td>\n",
       "      <td>1808</td>\n",
       "      <td>1629</td>\n",
       "      <td>10409</td>\n",
       "    </tr>\n",
       "    <tr>\n",
       "      <th>1</th>\n",
       "      <td>2019</td>\n",
       "      <td>33984.0</td>\n",
       "      <td>22512</td>\n",
       "      <td>14152</td>\n",
       "      <td>8836</td>\n",
       "      <td>8073</td>\n",
       "      <td>1588</td>\n",
       "      <td>1464</td>\n",
       "      <td>9545</td>\n",
       "    </tr>\n",
       "  </tbody>\n",
       "</table>\n",
       "</div>"
      ],
      "text/plain": [
       "   Year    Total White alone (22) White alone, not Hispanic (22)  \\\n",
       "0  2020  37247.0            25007                          15942   \n",
       "1  2019  33984.0            22512                          14152   \n",
       "\n",
       "  Black alone or in combination Black alone (24)  \\\n",
       "0                          9219             8472   \n",
       "1                          8836             8073   \n",
       "\n",
       "  Asian alone or in combination Asian alone (25) Hispanic (any race) (26)  \n",
       "0                          1808             1629                    10409  \n",
       "1                          1588             1464                     9545  "
      ]
     },
     "execution_count": 508,
     "metadata": {},
     "output_type": "execute_result"
    }
   ],
   "source": [
    "race = pd.read_excel('poverty_race_2.xlsx')\n",
    "race.head(2)"
   ]
  },
  {
   "cell_type": "code",
   "execution_count": 509,
   "metadata": {},
   "outputs": [],
   "source": [
    "# until 2002 we have all values. Before 2002 there are missing values so i'll filter that dataset\n",
    "# to have only values until 2002\n",
    "#race=race[:21]\n",
    "race=race[:1]"
   ]
  },
  {
   "cell_type": "code",
   "execution_count": 510,
   "metadata": {},
   "outputs": [
    {
     "data": {
      "text/plain": [
       "Year                              object\n",
       "Total                              int32\n",
       "White alone, not Hispanic (22)     int32\n",
       "Black alone (24)                   int32\n",
       "Asian alone (25)                   int32\n",
       "Hispanic (any race) (26)           int32\n",
       "dtype: object"
      ]
     },
     "execution_count": 510,
     "metadata": {},
     "output_type": "execute_result"
    }
   ],
   "source": [
    "# Keep only columns that are 'race' alone\n",
    "race = race.drop(columns=['White alone (22)', 'Black alone or in combination','Asian alone or in combination'])\n",
    "race=race.astype({'Total':'int32','White alone, not Hispanic (22)':'int32','Black alone (24)':'int32','Asian alone (25)':'int32','Hispanic (any race) (26)':'int32'})\n",
    "race.dtypes"
   ]
  },
  {
   "cell_type": "code",
   "execution_count": 511,
   "metadata": {},
   "outputs": [
    {
     "data": {
      "text/html": [
       "<div>\n",
       "<style scoped>\n",
       "    .dataframe tbody tr th:only-of-type {\n",
       "        vertical-align: middle;\n",
       "    }\n",
       "\n",
       "    .dataframe tbody tr th {\n",
       "        vertical-align: top;\n",
       "    }\n",
       "\n",
       "    .dataframe thead th {\n",
       "        text-align: right;\n",
       "    }\n",
       "</style>\n",
       "<table border=\"1\" class=\"dataframe\">\n",
       "  <thead>\n",
       "    <tr style=\"text-align: right;\">\n",
       "      <th></th>\n",
       "      <th>Year</th>\n",
       "      <th>Total</th>\n",
       "      <th>White alone, not Hispanic (22)</th>\n",
       "      <th>Black alone (24)</th>\n",
       "      <th>Asian alone (25)</th>\n",
       "      <th>Hispanic (any race) (26)</th>\n",
       "      <th>Total_2</th>\n",
       "      <th>Other</th>\n",
       "    </tr>\n",
       "  </thead>\n",
       "  <tbody>\n",
       "    <tr>\n",
       "      <th>0</th>\n",
       "      <td>2020</td>\n",
       "      <td>37247</td>\n",
       "      <td>15942</td>\n",
       "      <td>8472</td>\n",
       "      <td>1629</td>\n",
       "      <td>10409</td>\n",
       "      <td>36452</td>\n",
       "      <td>795</td>\n",
       "    </tr>\n",
       "  </tbody>\n",
       "</table>\n",
       "</div>"
      ],
      "text/plain": [
       "   Year  Total  White alone, not Hispanic (22)  Black alone (24)  \\\n",
       "0  2020  37247                           15942              8472   \n",
       "\n",
       "   Asian alone (25)  Hispanic (any race) (26)  Total_2  Other  \n",
       "0              1629                     10409    36452    795  "
      ]
     },
     "execution_count": 511,
     "metadata": {},
     "output_type": "execute_result"
    }
   ],
   "source": [
    "# Calculate the amount of 'other' race\n",
    "race['Total_2']=race.loc[:,'White alone, not Hispanic (22)':'Hispanic (any race) (26)'].sum(axis=1)\n",
    "race['Other']=race['Total']-race['Total_2']\n",
    "race.head()"
   ]
  },
  {
   "cell_type": "code",
   "execution_count": 512,
   "metadata": {},
   "outputs": [],
   "source": [
    "race.drop(columns=['Total_2'], inplace=True)\n",
    "race.rename(columns={'White alone, not Hispanic (22)':'W','Black alone (24)':'B','Asian alone (25)':'A','Hispanic (any race) (26)':'H','Other':'O'},inplace=True)"
   ]
  },
  {
   "cell_type": "code",
   "execution_count": 513,
   "metadata": {},
   "outputs": [
    {
     "data": {
      "text/html": [
       "<div>\n",
       "<style scoped>\n",
       "    .dataframe tbody tr th:only-of-type {\n",
       "        vertical-align: middle;\n",
       "    }\n",
       "\n",
       "    .dataframe tbody tr th {\n",
       "        vertical-align: top;\n",
       "    }\n",
       "\n",
       "    .dataframe thead th {\n",
       "        text-align: right;\n",
       "    }\n",
       "</style>\n",
       "<table border=\"1\" class=\"dataframe\">\n",
       "  <thead>\n",
       "    <tr style=\"text-align: right;\">\n",
       "      <th></th>\n",
       "      <th>Year</th>\n",
       "      <th>Total</th>\n",
       "      <th>race</th>\n",
       "      <th>N_poor_by_race</th>\n",
       "    </tr>\n",
       "  </thead>\n",
       "  <tbody>\n",
       "    <tr>\n",
       "      <th>0</th>\n",
       "      <td>2020</td>\n",
       "      <td>37247</td>\n",
       "      <td>W</td>\n",
       "      <td>15942</td>\n",
       "    </tr>\n",
       "    <tr>\n",
       "      <th>1</th>\n",
       "      <td>2020</td>\n",
       "      <td>37247</td>\n",
       "      <td>B</td>\n",
       "      <td>8472</td>\n",
       "    </tr>\n",
       "    <tr>\n",
       "      <th>2</th>\n",
       "      <td>2020</td>\n",
       "      <td>37247</td>\n",
       "      <td>A</td>\n",
       "      <td>1629</td>\n",
       "    </tr>\n",
       "    <tr>\n",
       "      <th>3</th>\n",
       "      <td>2020</td>\n",
       "      <td>37247</td>\n",
       "      <td>H</td>\n",
       "      <td>10409</td>\n",
       "    </tr>\n",
       "    <tr>\n",
       "      <th>4</th>\n",
       "      <td>2020</td>\n",
       "      <td>37247</td>\n",
       "      <td>O</td>\n",
       "      <td>795</td>\n",
       "    </tr>\n",
       "  </tbody>\n",
       "</table>\n",
       "</div>"
      ],
      "text/plain": [
       "   Year  Total race  N_poor_by_race\n",
       "0  2020  37247    W           15942\n",
       "1  2020  37247    B            8472\n",
       "2  2020  37247    A            1629\n",
       "3  2020  37247    H           10409\n",
       "4  2020  37247    O             795"
      ]
     },
     "execution_count": 513,
     "metadata": {},
     "output_type": "execute_result"
    }
   ],
   "source": [
    "columns = ['Year', 'Total']\n",
    "race = pd.melt(race,columns, var_name='race', value_name='N_poor_by_race')\n",
    "race.head()"
   ]
  },
  {
   "cell_type": "code",
   "execution_count": 514,
   "metadata": {},
   "outputs": [],
   "source": [
    "#race=(race.groupby('race').agg({'N_poor_by_race':'mean'}).reset_index().round(0))\n",
    "#race"
   ]
  },
  {
   "cell_type": "code",
   "execution_count": 515,
   "metadata": {},
   "outputs": [],
   "source": [
    "# Number are in thousands. Need to convert\n",
    "race['N_poor_by_race']=race['N_poor_by_race']*1000\n",
    "#race['Total']=race['Total']*1000\n",
    "race.drop(columns=['Year','Total'],inplace=True)"
   ]
  },
  {
   "cell_type": "markdown",
   "metadata": {},
   "source": [
    "### Gender"
   ]
  },
  {
   "cell_type": "code",
   "execution_count": 516,
   "metadata": {},
   "outputs": [
    {
     "data": {
      "text/plain": [
       "16334.0"
      ]
     },
     "execution_count": 516,
     "metadata": {},
     "output_type": "execute_result"
    }
   ],
   "source": [
    "gender = pd.read_excel('poverty_gender_2.xlsx')\n",
    "gender.drop(columns=['Unnamed: 0'],inplace=True)\n",
    "gender=gender[:1]\n",
    "gender.values[0][0]"
   ]
  },
  {
   "cell_type": "code",
   "execution_count": 517,
   "metadata": {},
   "outputs": [],
   "source": [
    "gender = pd.DataFrame(data=([['M',gender.values[0][0]],['F',gender.values[0][1]]]), columns=['gender','N_poor_by_gender'])"
   ]
  },
  {
   "cell_type": "code",
   "execution_count": 518,
   "metadata": {},
   "outputs": [
    {
     "data": {
      "text/html": [
       "<div>\n",
       "<style scoped>\n",
       "    .dataframe tbody tr th:only-of-type {\n",
       "        vertical-align: middle;\n",
       "    }\n",
       "\n",
       "    .dataframe tbody tr th {\n",
       "        vertical-align: top;\n",
       "    }\n",
       "\n",
       "    .dataframe thead th {\n",
       "        text-align: right;\n",
       "    }\n",
       "</style>\n",
       "<table border=\"1\" class=\"dataframe\">\n",
       "  <thead>\n",
       "    <tr style=\"text-align: right;\">\n",
       "      <th></th>\n",
       "      <th>gender</th>\n",
       "      <th>N_poor_by_gender</th>\n",
       "    </tr>\n",
       "  </thead>\n",
       "  <tbody>\n",
       "    <tr>\n",
       "      <th>0</th>\n",
       "      <td>M</td>\n",
       "      <td>16334.0</td>\n",
       "    </tr>\n",
       "    <tr>\n",
       "      <th>1</th>\n",
       "      <td>F</td>\n",
       "      <td>20912.0</td>\n",
       "    </tr>\n",
       "  </tbody>\n",
       "</table>\n",
       "</div>"
      ],
      "text/plain": [
       "  gender  N_poor_by_gender\n",
       "0      M           16334.0\n",
       "1      F           20912.0"
      ]
     },
     "execution_count": 518,
     "metadata": {},
     "output_type": "execute_result"
    }
   ],
   "source": [
    "gender"
   ]
  },
  {
   "cell_type": "code",
   "execution_count": 519,
   "metadata": {},
   "outputs": [],
   "source": [
    "gender['N_poor_by_gender']=gender['N_poor_by_gender']*1000"
   ]
  },
  {
   "cell_type": "code",
   "execution_count": null,
   "metadata": {},
   "outputs": [],
   "source": []
  },
  {
   "cell_type": "code",
   "execution_count": 520,
   "metadata": {},
   "outputs": [],
   "source": [
    "final = final.merge(race, how='inner', left_on='race', right_on='race')\n",
    "final = final.merge(gender, how='inner', left_on='gender', right_on='gender')"
   ]
  },
  {
   "cell_type": "code",
   "execution_count": 521,
   "metadata": {},
   "outputs": [
    {
     "data": {
      "text/html": [
       "<div>\n",
       "<style scoped>\n",
       "    .dataframe tbody tr th:only-of-type {\n",
       "        vertical-align: middle;\n",
       "    }\n",
       "\n",
       "    .dataframe tbody tr th {\n",
       "        vertical-align: top;\n",
       "    }\n",
       "\n",
       "    .dataframe thead th {\n",
       "        text-align: right;\n",
       "    }\n",
       "</style>\n",
       "<table border=\"1\" class=\"dataframe\">\n",
       "  <thead>\n",
       "    <tr style=\"text-align: right;\">\n",
       "      <th></th>\n",
       "      <th>id</th>\n",
       "      <th>age</th>\n",
       "      <th>gender</th>\n",
       "      <th>race</th>\n",
       "      <th>state</th>\n",
       "      <th>flee</th>\n",
       "      <th>age_bins</th>\n",
       "      <th>population_race</th>\n",
       "      <th>population_gender</th>\n",
       "      <th>population_states</th>\n",
       "      <th>N_poor_by_state</th>\n",
       "      <th>N_poor_by_race</th>\n",
       "      <th>N_poor_by_gender</th>\n",
       "    </tr>\n",
       "  </thead>\n",
       "  <tbody>\n",
       "    <tr>\n",
       "      <th>0</th>\n",
       "      <td>3</td>\n",
       "      <td>53</td>\n",
       "      <td>M</td>\n",
       "      <td>A</td>\n",
       "      <td>WA</td>\n",
       "      <td>No</td>\n",
       "      <td>&gt;50</td>\n",
       "      <td>19619000</td>\n",
       "      <td>162826299</td>\n",
       "      <td>7588000</td>\n",
       "      <td>628000</td>\n",
       "      <td>1629000</td>\n",
       "      <td>16334000.0</td>\n",
       "    </tr>\n",
       "    <tr>\n",
       "      <th>1</th>\n",
       "      <td>1957</td>\n",
       "      <td>44</td>\n",
       "      <td>M</td>\n",
       "      <td>A</td>\n",
       "      <td>WA</td>\n",
       "      <td>No</td>\n",
       "      <td>35-50</td>\n",
       "      <td>19619000</td>\n",
       "      <td>162826299</td>\n",
       "      <td>7588000</td>\n",
       "      <td>628000</td>\n",
       "      <td>1629000</td>\n",
       "      <td>16334000.0</td>\n",
       "    </tr>\n",
       "  </tbody>\n",
       "</table>\n",
       "</div>"
      ],
      "text/plain": [
       "     id  age gender race state flee age_bins population_race  \\\n",
       "0     3   53      M    A    WA   No      >50        19619000   \n",
       "1  1957   44      M    A    WA   No    35-50        19619000   \n",
       "\n",
       "  population_gender  population_states  N_poor_by_state  N_poor_by_race  \\\n",
       "0         162826299            7588000           628000         1629000   \n",
       "1         162826299            7588000           628000         1629000   \n",
       "\n",
       "   N_poor_by_gender  \n",
       "0        16334000.0  \n",
       "1        16334000.0  "
      ]
     },
     "execution_count": 521,
     "metadata": {},
     "output_type": "execute_result"
    }
   ],
   "source": [
    "final.head(2)"
   ]
  },
  {
   "cell_type": "code",
   "execution_count": 522,
   "metadata": {},
   "outputs": [],
   "source": [
    "final['Total_Population']=states2['population_states'].sum()"
   ]
  },
  {
   "cell_type": "code",
   "execution_count": 523,
   "metadata": {},
   "outputs": [
    {
     "data": {
      "text/html": [
       "<div>\n",
       "<style scoped>\n",
       "    .dataframe tbody tr th:only-of-type {\n",
       "        vertical-align: middle;\n",
       "    }\n",
       "\n",
       "    .dataframe tbody tr th {\n",
       "        vertical-align: top;\n",
       "    }\n",
       "\n",
       "    .dataframe thead th {\n",
       "        text-align: right;\n",
       "    }\n",
       "</style>\n",
       "<table border=\"1\" class=\"dataframe\">\n",
       "  <thead>\n",
       "    <tr style=\"text-align: right;\">\n",
       "      <th></th>\n",
       "      <th>id</th>\n",
       "      <th>age</th>\n",
       "      <th>gender</th>\n",
       "      <th>race</th>\n",
       "      <th>state</th>\n",
       "      <th>flee</th>\n",
       "      <th>age_bins</th>\n",
       "      <th>population_race</th>\n",
       "      <th>population_gender</th>\n",
       "      <th>population_states</th>\n",
       "      <th>N_poor_by_state</th>\n",
       "      <th>N_poor_by_race</th>\n",
       "      <th>N_poor_by_gender</th>\n",
       "      <th>Total_Population</th>\n",
       "    </tr>\n",
       "  </thead>\n",
       "  <tbody>\n",
       "    <tr>\n",
       "      <th>0</th>\n",
       "      <td>3</td>\n",
       "      <td>53</td>\n",
       "      <td>M</td>\n",
       "      <td>A</td>\n",
       "      <td>WA</td>\n",
       "      <td>No</td>\n",
       "      <td>&gt;50</td>\n",
       "      <td>19619000</td>\n",
       "      <td>162826299</td>\n",
       "      <td>7588000</td>\n",
       "      <td>628000</td>\n",
       "      <td>1629000</td>\n",
       "      <td>16334000.0</td>\n",
       "      <td>325714000</td>\n",
       "    </tr>\n",
       "    <tr>\n",
       "      <th>1</th>\n",
       "      <td>1957</td>\n",
       "      <td>44</td>\n",
       "      <td>M</td>\n",
       "      <td>A</td>\n",
       "      <td>WA</td>\n",
       "      <td>No</td>\n",
       "      <td>35-50</td>\n",
       "      <td>19619000</td>\n",
       "      <td>162826299</td>\n",
       "      <td>7588000</td>\n",
       "      <td>628000</td>\n",
       "      <td>1629000</td>\n",
       "      <td>16334000.0</td>\n",
       "      <td>325714000</td>\n",
       "    </tr>\n",
       "    <tr>\n",
       "      <th>2</th>\n",
       "      <td>2666</td>\n",
       "      <td>20</td>\n",
       "      <td>M</td>\n",
       "      <td>A</td>\n",
       "      <td>WA</td>\n",
       "      <td>No</td>\n",
       "      <td>18-35</td>\n",
       "      <td>19619000</td>\n",
       "      <td>162826299</td>\n",
       "      <td>7588000</td>\n",
       "      <td>628000</td>\n",
       "      <td>1629000</td>\n",
       "      <td>16334000.0</td>\n",
       "      <td>325714000</td>\n",
       "    </tr>\n",
       "    <tr>\n",
       "      <th>3</th>\n",
       "      <td>2757</td>\n",
       "      <td>22</td>\n",
       "      <td>M</td>\n",
       "      <td>A</td>\n",
       "      <td>WA</td>\n",
       "      <td>No</td>\n",
       "      <td>18-35</td>\n",
       "      <td>19619000</td>\n",
       "      <td>162826299</td>\n",
       "      <td>7588000</td>\n",
       "      <td>628000</td>\n",
       "      <td>1629000</td>\n",
       "      <td>16334000.0</td>\n",
       "      <td>325714000</td>\n",
       "    </tr>\n",
       "    <tr>\n",
       "      <th>4</th>\n",
       "      <td>4332</td>\n",
       "      <td>36</td>\n",
       "      <td>M</td>\n",
       "      <td>A</td>\n",
       "      <td>WA</td>\n",
       "      <td>Yes</td>\n",
       "      <td>35-50</td>\n",
       "      <td>19619000</td>\n",
       "      <td>162826299</td>\n",
       "      <td>7588000</td>\n",
       "      <td>628000</td>\n",
       "      <td>1629000</td>\n",
       "      <td>16334000.0</td>\n",
       "      <td>325714000</td>\n",
       "    </tr>\n",
       "  </tbody>\n",
       "</table>\n",
       "</div>"
      ],
      "text/plain": [
       "     id  age gender race state flee age_bins population_race  \\\n",
       "0     3   53      M    A    WA   No      >50        19619000   \n",
       "1  1957   44      M    A    WA   No    35-50        19619000   \n",
       "2  2666   20      M    A    WA   No    18-35        19619000   \n",
       "3  2757   22      M    A    WA   No    18-35        19619000   \n",
       "4  4332   36      M    A    WA  Yes    35-50        19619000   \n",
       "\n",
       "  population_gender  population_states  N_poor_by_state  N_poor_by_race  \\\n",
       "0         162826299            7588000           628000         1629000   \n",
       "1         162826299            7588000           628000         1629000   \n",
       "2         162826299            7588000           628000         1629000   \n",
       "3         162826299            7588000           628000         1629000   \n",
       "4         162826299            7588000           628000         1629000   \n",
       "\n",
       "   N_poor_by_gender  Total_Population  \n",
       "0        16334000.0         325714000  \n",
       "1        16334000.0         325714000  \n",
       "2        16334000.0         325714000  \n",
       "3        16334000.0         325714000  \n",
       "4        16334000.0         325714000  "
      ]
     },
     "execution_count": 523,
     "metadata": {},
     "output_type": "execute_result"
    }
   ],
   "source": [
    "final.head()"
   ]
  },
  {
   "cell_type": "code",
   "execution_count": 524,
   "metadata": {},
   "outputs": [],
   "source": [
    "final=final.astype({'population_race':'int64','population_gender':'int64','N_poor_by_gender':'int64'})"
   ]
  },
  {
   "cell_type": "code",
   "execution_count": 525,
   "metadata": {},
   "outputs": [
    {
     "data": {
      "text/html": [
       "<div>\n",
       "<style scoped>\n",
       "    .dataframe tbody tr th:only-of-type {\n",
       "        vertical-align: middle;\n",
       "    }\n",
       "\n",
       "    .dataframe tbody tr th {\n",
       "        vertical-align: top;\n",
       "    }\n",
       "\n",
       "    .dataframe thead th {\n",
       "        text-align: right;\n",
       "    }\n",
       "</style>\n",
       "<table border=\"1\" class=\"dataframe\">\n",
       "  <thead>\n",
       "    <tr style=\"text-align: right;\">\n",
       "      <th></th>\n",
       "      <th>id</th>\n",
       "      <th>age</th>\n",
       "      <th>gender</th>\n",
       "      <th>race</th>\n",
       "      <th>state</th>\n",
       "      <th>flee</th>\n",
       "      <th>age_bins</th>\n",
       "      <th>population_race</th>\n",
       "      <th>population_gender</th>\n",
       "      <th>population_states</th>\n",
       "      <th>N_poor_by_state</th>\n",
       "      <th>N_poor_by_race</th>\n",
       "      <th>N_poor_by_gender</th>\n",
       "      <th>Total_Population</th>\n",
       "    </tr>\n",
       "  </thead>\n",
       "  <tbody>\n",
       "    <tr>\n",
       "      <th>0</th>\n",
       "      <td>3</td>\n",
       "      <td>53</td>\n",
       "      <td>M</td>\n",
       "      <td>A</td>\n",
       "      <td>WA</td>\n",
       "      <td>No</td>\n",
       "      <td>&gt;50</td>\n",
       "      <td>19619000</td>\n",
       "      <td>162826299</td>\n",
       "      <td>7588000</td>\n",
       "      <td>628000</td>\n",
       "      <td>1629000</td>\n",
       "      <td>16334000</td>\n",
       "      <td>325714000</td>\n",
       "    </tr>\n",
       "    <tr>\n",
       "      <th>1</th>\n",
       "      <td>1957</td>\n",
       "      <td>44</td>\n",
       "      <td>M</td>\n",
       "      <td>A</td>\n",
       "      <td>WA</td>\n",
       "      <td>No</td>\n",
       "      <td>35-50</td>\n",
       "      <td>19619000</td>\n",
       "      <td>162826299</td>\n",
       "      <td>7588000</td>\n",
       "      <td>628000</td>\n",
       "      <td>1629000</td>\n",
       "      <td>16334000</td>\n",
       "      <td>325714000</td>\n",
       "    </tr>\n",
       "    <tr>\n",
       "      <th>2</th>\n",
       "      <td>2666</td>\n",
       "      <td>20</td>\n",
       "      <td>M</td>\n",
       "      <td>A</td>\n",
       "      <td>WA</td>\n",
       "      <td>No</td>\n",
       "      <td>18-35</td>\n",
       "      <td>19619000</td>\n",
       "      <td>162826299</td>\n",
       "      <td>7588000</td>\n",
       "      <td>628000</td>\n",
       "      <td>1629000</td>\n",
       "      <td>16334000</td>\n",
       "      <td>325714000</td>\n",
       "    </tr>\n",
       "    <tr>\n",
       "      <th>3</th>\n",
       "      <td>2757</td>\n",
       "      <td>22</td>\n",
       "      <td>M</td>\n",
       "      <td>A</td>\n",
       "      <td>WA</td>\n",
       "      <td>No</td>\n",
       "      <td>18-35</td>\n",
       "      <td>19619000</td>\n",
       "      <td>162826299</td>\n",
       "      <td>7588000</td>\n",
       "      <td>628000</td>\n",
       "      <td>1629000</td>\n",
       "      <td>16334000</td>\n",
       "      <td>325714000</td>\n",
       "    </tr>\n",
       "    <tr>\n",
       "      <th>4</th>\n",
       "      <td>4332</td>\n",
       "      <td>36</td>\n",
       "      <td>M</td>\n",
       "      <td>A</td>\n",
       "      <td>WA</td>\n",
       "      <td>Yes</td>\n",
       "      <td>35-50</td>\n",
       "      <td>19619000</td>\n",
       "      <td>162826299</td>\n",
       "      <td>7588000</td>\n",
       "      <td>628000</td>\n",
       "      <td>1629000</td>\n",
       "      <td>16334000</td>\n",
       "      <td>325714000</td>\n",
       "    </tr>\n",
       "  </tbody>\n",
       "</table>\n",
       "</div>"
      ],
      "text/plain": [
       "     id  age gender race state flee age_bins  population_race  \\\n",
       "0     3   53      M    A    WA   No      >50         19619000   \n",
       "1  1957   44      M    A    WA   No    35-50         19619000   \n",
       "2  2666   20      M    A    WA   No    18-35         19619000   \n",
       "3  2757   22      M    A    WA   No    18-35         19619000   \n",
       "4  4332   36      M    A    WA  Yes    35-50         19619000   \n",
       "\n",
       "   population_gender  population_states  N_poor_by_state  N_poor_by_race  \\\n",
       "0          162826299            7588000           628000         1629000   \n",
       "1          162826299            7588000           628000         1629000   \n",
       "2          162826299            7588000           628000         1629000   \n",
       "3          162826299            7588000           628000         1629000   \n",
       "4          162826299            7588000           628000         1629000   \n",
       "\n",
       "   N_poor_by_gender  Total_Population  \n",
       "0          16334000         325714000  \n",
       "1          16334000         325714000  \n",
       "2          16334000         325714000  \n",
       "3          16334000         325714000  \n",
       "4          16334000         325714000  "
      ]
     },
     "execution_count": 525,
     "metadata": {},
     "output_type": "execute_result"
    }
   ],
   "source": [
    "final.head()"
   ]
  },
  {
   "cell_type": "code",
   "execution_count": 526,
   "metadata": {},
   "outputs": [],
   "source": [
    "final.drop(columns=['id'],inplace=True)"
   ]
  },
  {
   "cell_type": "code",
   "execution_count": 527,
   "metadata": {},
   "outputs": [],
   "source": [
    "# P(race|killed), P(gender|killed) and P(state|killed)\n",
    "\n",
    "race_knowing_was_killed=final.groupby('race').apply(lambda x : x['age'].count()/len(final)).reset_index().round(3)\n",
    "race_knowing_was_killed.rename(columns={0:'prob_race_knowing_was_killed'},inplace=True)\n",
    "final = final.merge(race_knowing_was_killed, how='inner', left_on='race', right_on='race')\n",
    "\n",
    "gender_knowing_was_killed=final.groupby('gender').apply(lambda x : x['age'].count()/len(final)).reset_index().round(3)\n",
    "gender_knowing_was_killed.rename(columns={0:'prob_gender_knowing_was_killed'},inplace=True)\n",
    "final = final.merge(gender_knowing_was_killed, how='inner', left_on='gender', right_on='gender')\n",
    "\n",
    "state_knowing_was_killed=final.groupby('state').apply(lambda x : x['age'].count()/len(final)).reset_index().round(3)\n",
    "state_knowing_was_killed.rename(columns={0:'prob_state_knowing_was_killed'},inplace=True)\n",
    "final = final.merge(state_knowing_was_killed, how='inner', left_on='state', right_on='state')"
   ]
  },
  {
   "cell_type": "code",
   "execution_count": 528,
   "metadata": {},
   "outputs": [
    {
     "data": {
      "text/html": [
       "<div>\n",
       "<style scoped>\n",
       "    .dataframe tbody tr th:only-of-type {\n",
       "        vertical-align: middle;\n",
       "    }\n",
       "\n",
       "    .dataframe tbody tr th {\n",
       "        vertical-align: top;\n",
       "    }\n",
       "\n",
       "    .dataframe thead th {\n",
       "        text-align: right;\n",
       "    }\n",
       "</style>\n",
       "<table border=\"1\" class=\"dataframe\">\n",
       "  <thead>\n",
       "    <tr style=\"text-align: right;\">\n",
       "      <th></th>\n",
       "      <th>age</th>\n",
       "      <th>gender</th>\n",
       "      <th>race</th>\n",
       "      <th>state</th>\n",
       "      <th>flee</th>\n",
       "      <th>age_bins</th>\n",
       "      <th>population_race</th>\n",
       "      <th>population_gender</th>\n",
       "      <th>population_states</th>\n",
       "      <th>N_poor_by_state</th>\n",
       "      <th>N_poor_by_race</th>\n",
       "      <th>N_poor_by_gender</th>\n",
       "      <th>Total_Population</th>\n",
       "      <th>prob_race_knowing_was_killed</th>\n",
       "      <th>prob_gender_knowing_was_killed</th>\n",
       "      <th>prob_state_knowing_was_killed</th>\n",
       "    </tr>\n",
       "  </thead>\n",
       "  <tbody>\n",
       "    <tr>\n",
       "      <th>0</th>\n",
       "      <td>53</td>\n",
       "      <td>M</td>\n",
       "      <td>A</td>\n",
       "      <td>WA</td>\n",
       "      <td>No</td>\n",
       "      <td>&gt;50</td>\n",
       "      <td>19619000</td>\n",
       "      <td>162826299</td>\n",
       "      <td>7588000</td>\n",
       "      <td>628000</td>\n",
       "      <td>1629000</td>\n",
       "      <td>16334000</td>\n",
       "      <td>325714000</td>\n",
       "      <td>0.018</td>\n",
       "      <td>0.953</td>\n",
       "      <td>0.025</td>\n",
       "    </tr>\n",
       "    <tr>\n",
       "      <th>1</th>\n",
       "      <td>44</td>\n",
       "      <td>M</td>\n",
       "      <td>A</td>\n",
       "      <td>WA</td>\n",
       "      <td>No</td>\n",
       "      <td>35-50</td>\n",
       "      <td>19619000</td>\n",
       "      <td>162826299</td>\n",
       "      <td>7588000</td>\n",
       "      <td>628000</td>\n",
       "      <td>1629000</td>\n",
       "      <td>16334000</td>\n",
       "      <td>325714000</td>\n",
       "      <td>0.018</td>\n",
       "      <td>0.953</td>\n",
       "      <td>0.025</td>\n",
       "    </tr>\n",
       "    <tr>\n",
       "      <th>2</th>\n",
       "      <td>20</td>\n",
       "      <td>M</td>\n",
       "      <td>A</td>\n",
       "      <td>WA</td>\n",
       "      <td>No</td>\n",
       "      <td>18-35</td>\n",
       "      <td>19619000</td>\n",
       "      <td>162826299</td>\n",
       "      <td>7588000</td>\n",
       "      <td>628000</td>\n",
       "      <td>1629000</td>\n",
       "      <td>16334000</td>\n",
       "      <td>325714000</td>\n",
       "      <td>0.018</td>\n",
       "      <td>0.953</td>\n",
       "      <td>0.025</td>\n",
       "    </tr>\n",
       "    <tr>\n",
       "      <th>3</th>\n",
       "      <td>22</td>\n",
       "      <td>M</td>\n",
       "      <td>A</td>\n",
       "      <td>WA</td>\n",
       "      <td>No</td>\n",
       "      <td>18-35</td>\n",
       "      <td>19619000</td>\n",
       "      <td>162826299</td>\n",
       "      <td>7588000</td>\n",
       "      <td>628000</td>\n",
       "      <td>1629000</td>\n",
       "      <td>16334000</td>\n",
       "      <td>325714000</td>\n",
       "      <td>0.018</td>\n",
       "      <td>0.953</td>\n",
       "      <td>0.025</td>\n",
       "    </tr>\n",
       "    <tr>\n",
       "      <th>4</th>\n",
       "      <td>36</td>\n",
       "      <td>M</td>\n",
       "      <td>A</td>\n",
       "      <td>WA</td>\n",
       "      <td>Yes</td>\n",
       "      <td>35-50</td>\n",
       "      <td>19619000</td>\n",
       "      <td>162826299</td>\n",
       "      <td>7588000</td>\n",
       "      <td>628000</td>\n",
       "      <td>1629000</td>\n",
       "      <td>16334000</td>\n",
       "      <td>325714000</td>\n",
       "      <td>0.018</td>\n",
       "      <td>0.953</td>\n",
       "      <td>0.025</td>\n",
       "    </tr>\n",
       "  </tbody>\n",
       "</table>\n",
       "</div>"
      ],
      "text/plain": [
       "   age gender race state flee age_bins  population_race  population_gender  \\\n",
       "0   53      M    A    WA   No      >50         19619000          162826299   \n",
       "1   44      M    A    WA   No    35-50         19619000          162826299   \n",
       "2   20      M    A    WA   No    18-35         19619000          162826299   \n",
       "3   22      M    A    WA   No    18-35         19619000          162826299   \n",
       "4   36      M    A    WA  Yes    35-50         19619000          162826299   \n",
       "\n",
       "   population_states  N_poor_by_state  N_poor_by_race  N_poor_by_gender  \\\n",
       "0            7588000           628000         1629000          16334000   \n",
       "1            7588000           628000         1629000          16334000   \n",
       "2            7588000           628000         1629000          16334000   \n",
       "3            7588000           628000         1629000          16334000   \n",
       "4            7588000           628000         1629000          16334000   \n",
       "\n",
       "   Total_Population  prob_race_knowing_was_killed  \\\n",
       "0         325714000                         0.018   \n",
       "1         325714000                         0.018   \n",
       "2         325714000                         0.018   \n",
       "3         325714000                         0.018   \n",
       "4         325714000                         0.018   \n",
       "\n",
       "   prob_gender_knowing_was_killed  prob_state_knowing_was_killed  \n",
       "0                           0.953                          0.025  \n",
       "1                           0.953                          0.025  \n",
       "2                           0.953                          0.025  \n",
       "3                           0.953                          0.025  \n",
       "4                           0.953                          0.025  "
      ]
     },
     "execution_count": 528,
     "metadata": {},
     "output_type": "execute_result"
    }
   ],
   "source": [
    "final.head()"
   ]
  },
  {
   "cell_type": "code",
   "execution_count": 529,
   "metadata": {},
   "outputs": [],
   "source": [
    "# Probabilities of race, gender and age regarding all population\n",
    "final['prob_race']=final['population_race']/final['Total_Population']\n",
    "final['prob_gender']=final['population_gender']/final['Total_Population']\n",
    "final['prob_state']=final['population_states']/final['Total_Population']"
   ]
  },
  {
   "cell_type": "code",
   "execution_count": 530,
   "metadata": {},
   "outputs": [
    {
     "data": {
      "text/html": [
       "<div>\n",
       "<style scoped>\n",
       "    .dataframe tbody tr th:only-of-type {\n",
       "        vertical-align: middle;\n",
       "    }\n",
       "\n",
       "    .dataframe tbody tr th {\n",
       "        vertical-align: top;\n",
       "    }\n",
       "\n",
       "    .dataframe thead th {\n",
       "        text-align: right;\n",
       "    }\n",
       "</style>\n",
       "<table border=\"1\" class=\"dataframe\">\n",
       "  <thead>\n",
       "    <tr style=\"text-align: right;\">\n",
       "      <th></th>\n",
       "      <th>age</th>\n",
       "      <th>gender</th>\n",
       "      <th>race</th>\n",
       "      <th>state</th>\n",
       "      <th>flee</th>\n",
       "      <th>age_bins</th>\n",
       "      <th>population_race</th>\n",
       "      <th>population_gender</th>\n",
       "      <th>population_states</th>\n",
       "      <th>N_poor_by_state</th>\n",
       "      <th>N_poor_by_race</th>\n",
       "      <th>N_poor_by_gender</th>\n",
       "      <th>Total_Population</th>\n",
       "      <th>prob_race_knowing_was_killed</th>\n",
       "      <th>prob_gender_knowing_was_killed</th>\n",
       "      <th>prob_state_knowing_was_killed</th>\n",
       "      <th>prob_race</th>\n",
       "      <th>prob_gender</th>\n",
       "      <th>prob_state</th>\n",
       "    </tr>\n",
       "  </thead>\n",
       "  <tbody>\n",
       "    <tr>\n",
       "      <th>0</th>\n",
       "      <td>53</td>\n",
       "      <td>M</td>\n",
       "      <td>A</td>\n",
       "      <td>WA</td>\n",
       "      <td>No</td>\n",
       "      <td>&gt;50</td>\n",
       "      <td>19619000</td>\n",
       "      <td>162826299</td>\n",
       "      <td>7588000</td>\n",
       "      <td>628000</td>\n",
       "      <td>1629000</td>\n",
       "      <td>16334000</td>\n",
       "      <td>325714000</td>\n",
       "      <td>0.018</td>\n",
       "      <td>0.953</td>\n",
       "      <td>0.025</td>\n",
       "      <td>0.060234</td>\n",
       "      <td>0.499906</td>\n",
       "      <td>0.023297</td>\n",
       "    </tr>\n",
       "    <tr>\n",
       "      <th>1</th>\n",
       "      <td>44</td>\n",
       "      <td>M</td>\n",
       "      <td>A</td>\n",
       "      <td>WA</td>\n",
       "      <td>No</td>\n",
       "      <td>35-50</td>\n",
       "      <td>19619000</td>\n",
       "      <td>162826299</td>\n",
       "      <td>7588000</td>\n",
       "      <td>628000</td>\n",
       "      <td>1629000</td>\n",
       "      <td>16334000</td>\n",
       "      <td>325714000</td>\n",
       "      <td>0.018</td>\n",
       "      <td>0.953</td>\n",
       "      <td>0.025</td>\n",
       "      <td>0.060234</td>\n",
       "      <td>0.499906</td>\n",
       "      <td>0.023297</td>\n",
       "    </tr>\n",
       "  </tbody>\n",
       "</table>\n",
       "</div>"
      ],
      "text/plain": [
       "   age gender race state flee age_bins  population_race  population_gender  \\\n",
       "0   53      M    A    WA   No      >50         19619000          162826299   \n",
       "1   44      M    A    WA   No    35-50         19619000          162826299   \n",
       "\n",
       "   population_states  N_poor_by_state  N_poor_by_race  N_poor_by_gender  \\\n",
       "0            7588000           628000         1629000          16334000   \n",
       "1            7588000           628000         1629000          16334000   \n",
       "\n",
       "   Total_Population  prob_race_knowing_was_killed  \\\n",
       "0         325714000                         0.018   \n",
       "1         325714000                         0.018   \n",
       "\n",
       "   prob_gender_knowing_was_killed  prob_state_knowing_was_killed  prob_race  \\\n",
       "0                           0.953                          0.025   0.060234   \n",
       "1                           0.953                          0.025   0.060234   \n",
       "\n",
       "   prob_gender  prob_state  \n",
       "0     0.499906    0.023297  \n",
       "1     0.499906    0.023297  "
      ]
     },
     "execution_count": 530,
     "metadata": {},
     "output_type": "execute_result"
    }
   ],
   "source": [
    "final.head(2)"
   ]
  },
  {
   "cell_type": "code",
   "execution_count": 531,
   "metadata": {},
   "outputs": [],
   "source": [
    "final['prob_killed_knowing_race']=final['prob_race_knowing_was_killed']/final['prob_race']\n",
    "final['prob_killed_knowing_gender']=final['prob_gender_knowing_was_killed']/final['prob_gender']\n",
    "final['prob_killed_knowing_state']=final['prob_state_knowing_was_killed']/final['prob_state']"
   ]
  },
  {
   "cell_type": "code",
   "execution_count": 532,
   "metadata": {},
   "outputs": [
    {
     "data": {
      "text/html": [
       "<div>\n",
       "<style scoped>\n",
       "    .dataframe tbody tr th:only-of-type {\n",
       "        vertical-align: middle;\n",
       "    }\n",
       "\n",
       "    .dataframe tbody tr th {\n",
       "        vertical-align: top;\n",
       "    }\n",
       "\n",
       "    .dataframe thead th {\n",
       "        text-align: right;\n",
       "    }\n",
       "</style>\n",
       "<table border=\"1\" class=\"dataframe\">\n",
       "  <thead>\n",
       "    <tr style=\"text-align: right;\">\n",
       "      <th></th>\n",
       "      <th>age</th>\n",
       "      <th>gender</th>\n",
       "      <th>race</th>\n",
       "      <th>state</th>\n",
       "      <th>flee</th>\n",
       "      <th>age_bins</th>\n",
       "      <th>population_race</th>\n",
       "      <th>population_gender</th>\n",
       "      <th>population_states</th>\n",
       "      <th>N_poor_by_state</th>\n",
       "      <th>...</th>\n",
       "      <th>Total_Population</th>\n",
       "      <th>prob_race_knowing_was_killed</th>\n",
       "      <th>prob_gender_knowing_was_killed</th>\n",
       "      <th>prob_state_knowing_was_killed</th>\n",
       "      <th>prob_race</th>\n",
       "      <th>prob_gender</th>\n",
       "      <th>prob_state</th>\n",
       "      <th>prob_killed_knowing_race</th>\n",
       "      <th>prob_killed_knowing_gender</th>\n",
       "      <th>prob_killed_knowing_state</th>\n",
       "    </tr>\n",
       "  </thead>\n",
       "  <tbody>\n",
       "    <tr>\n",
       "      <th>0</th>\n",
       "      <td>53</td>\n",
       "      <td>M</td>\n",
       "      <td>A</td>\n",
       "      <td>WA</td>\n",
       "      <td>No</td>\n",
       "      <td>&gt;50</td>\n",
       "      <td>19619000</td>\n",
       "      <td>162826299</td>\n",
       "      <td>7588000</td>\n",
       "      <td>628000</td>\n",
       "      <td>...</td>\n",
       "      <td>325714000</td>\n",
       "      <td>0.018</td>\n",
       "      <td>0.953</td>\n",
       "      <td>0.025</td>\n",
       "      <td>0.060234</td>\n",
       "      <td>0.499906</td>\n",
       "      <td>0.023297</td>\n",
       "      <td>0.298835</td>\n",
       "      <td>1.906359</td>\n",
       "      <td>1.073122</td>\n",
       "    </tr>\n",
       "    <tr>\n",
       "      <th>1</th>\n",
       "      <td>44</td>\n",
       "      <td>M</td>\n",
       "      <td>A</td>\n",
       "      <td>WA</td>\n",
       "      <td>No</td>\n",
       "      <td>35-50</td>\n",
       "      <td>19619000</td>\n",
       "      <td>162826299</td>\n",
       "      <td>7588000</td>\n",
       "      <td>628000</td>\n",
       "      <td>...</td>\n",
       "      <td>325714000</td>\n",
       "      <td>0.018</td>\n",
       "      <td>0.953</td>\n",
       "      <td>0.025</td>\n",
       "      <td>0.060234</td>\n",
       "      <td>0.499906</td>\n",
       "      <td>0.023297</td>\n",
       "      <td>0.298835</td>\n",
       "      <td>1.906359</td>\n",
       "      <td>1.073122</td>\n",
       "    </tr>\n",
       "    <tr>\n",
       "      <th>2</th>\n",
       "      <td>20</td>\n",
       "      <td>M</td>\n",
       "      <td>A</td>\n",
       "      <td>WA</td>\n",
       "      <td>No</td>\n",
       "      <td>18-35</td>\n",
       "      <td>19619000</td>\n",
       "      <td>162826299</td>\n",
       "      <td>7588000</td>\n",
       "      <td>628000</td>\n",
       "      <td>...</td>\n",
       "      <td>325714000</td>\n",
       "      <td>0.018</td>\n",
       "      <td>0.953</td>\n",
       "      <td>0.025</td>\n",
       "      <td>0.060234</td>\n",
       "      <td>0.499906</td>\n",
       "      <td>0.023297</td>\n",
       "      <td>0.298835</td>\n",
       "      <td>1.906359</td>\n",
       "      <td>1.073122</td>\n",
       "    </tr>\n",
       "    <tr>\n",
       "      <th>3</th>\n",
       "      <td>22</td>\n",
       "      <td>M</td>\n",
       "      <td>A</td>\n",
       "      <td>WA</td>\n",
       "      <td>No</td>\n",
       "      <td>18-35</td>\n",
       "      <td>19619000</td>\n",
       "      <td>162826299</td>\n",
       "      <td>7588000</td>\n",
       "      <td>628000</td>\n",
       "      <td>...</td>\n",
       "      <td>325714000</td>\n",
       "      <td>0.018</td>\n",
       "      <td>0.953</td>\n",
       "      <td>0.025</td>\n",
       "      <td>0.060234</td>\n",
       "      <td>0.499906</td>\n",
       "      <td>0.023297</td>\n",
       "      <td>0.298835</td>\n",
       "      <td>1.906359</td>\n",
       "      <td>1.073122</td>\n",
       "    </tr>\n",
       "    <tr>\n",
       "      <th>4</th>\n",
       "      <td>36</td>\n",
       "      <td>M</td>\n",
       "      <td>A</td>\n",
       "      <td>WA</td>\n",
       "      <td>Yes</td>\n",
       "      <td>35-50</td>\n",
       "      <td>19619000</td>\n",
       "      <td>162826299</td>\n",
       "      <td>7588000</td>\n",
       "      <td>628000</td>\n",
       "      <td>...</td>\n",
       "      <td>325714000</td>\n",
       "      <td>0.018</td>\n",
       "      <td>0.953</td>\n",
       "      <td>0.025</td>\n",
       "      <td>0.060234</td>\n",
       "      <td>0.499906</td>\n",
       "      <td>0.023297</td>\n",
       "      <td>0.298835</td>\n",
       "      <td>1.906359</td>\n",
       "      <td>1.073122</td>\n",
       "    </tr>\n",
       "  </tbody>\n",
       "</table>\n",
       "<p>5 rows × 22 columns</p>\n",
       "</div>"
      ],
      "text/plain": [
       "   age gender race state flee age_bins  population_race  population_gender  \\\n",
       "0   53      M    A    WA   No      >50         19619000          162826299   \n",
       "1   44      M    A    WA   No    35-50         19619000          162826299   \n",
       "2   20      M    A    WA   No    18-35         19619000          162826299   \n",
       "3   22      M    A    WA   No    18-35         19619000          162826299   \n",
       "4   36      M    A    WA  Yes    35-50         19619000          162826299   \n",
       "\n",
       "   population_states  N_poor_by_state  ...  Total_Population  \\\n",
       "0            7588000           628000  ...         325714000   \n",
       "1            7588000           628000  ...         325714000   \n",
       "2            7588000           628000  ...         325714000   \n",
       "3            7588000           628000  ...         325714000   \n",
       "4            7588000           628000  ...         325714000   \n",
       "\n",
       "   prob_race_knowing_was_killed  prob_gender_knowing_was_killed  \\\n",
       "0                         0.018                           0.953   \n",
       "1                         0.018                           0.953   \n",
       "2                         0.018                           0.953   \n",
       "3                         0.018                           0.953   \n",
       "4                         0.018                           0.953   \n",
       "\n",
       "   prob_state_knowing_was_killed  prob_race  prob_gender  prob_state  \\\n",
       "0                          0.025   0.060234     0.499906    0.023297   \n",
       "1                          0.025   0.060234     0.499906    0.023297   \n",
       "2                          0.025   0.060234     0.499906    0.023297   \n",
       "3                          0.025   0.060234     0.499906    0.023297   \n",
       "4                          0.025   0.060234     0.499906    0.023297   \n",
       "\n",
       "   prob_killed_knowing_race  prob_killed_knowing_gender  \\\n",
       "0                  0.298835                    1.906359   \n",
       "1                  0.298835                    1.906359   \n",
       "2                  0.298835                    1.906359   \n",
       "3                  0.298835                    1.906359   \n",
       "4                  0.298835                    1.906359   \n",
       "\n",
       "   prob_killed_knowing_state  \n",
       "0                   1.073122  \n",
       "1                   1.073122  \n",
       "2                   1.073122  \n",
       "3                   1.073122  \n",
       "4                   1.073122  \n",
       "\n",
       "[5 rows x 22 columns]"
      ]
     },
     "execution_count": 532,
     "metadata": {},
     "output_type": "execute_result"
    }
   ],
   "source": [
    "final.head()"
   ]
  },
  {
   "cell_type": "code",
   "execution_count": 533,
   "metadata": {},
   "outputs": [],
   "source": [
    "#final['prob_killed_knowing_race_norm']=final['prob_killed_knowing_race']/final['prob_killed_knowing_race'].sum()\n",
    "#final['prob_killed_knowing_gender_norm']=final['prob_killed_knowing_gender']/final['prob_killed_knowing_gender'].sum()\n",
    "#final['prob_killed_knowing_state_norm']=final['prob_killed_knowing_state']/final['prob_killed_knowing_state'].sum()"
   ]
  },
  {
   "cell_type": "code",
   "execution_count": 534,
   "metadata": {},
   "outputs": [
    {
     "data": {
      "text/html": [
       "<div>\n",
       "<style scoped>\n",
       "    .dataframe tbody tr th:only-of-type {\n",
       "        vertical-align: middle;\n",
       "    }\n",
       "\n",
       "    .dataframe tbody tr th {\n",
       "        vertical-align: top;\n",
       "    }\n",
       "\n",
       "    .dataframe thead th {\n",
       "        text-align: right;\n",
       "    }\n",
       "</style>\n",
       "<table border=\"1\" class=\"dataframe\">\n",
       "  <thead>\n",
       "    <tr style=\"text-align: right;\">\n",
       "      <th></th>\n",
       "      <th>age</th>\n",
       "      <th>gender</th>\n",
       "      <th>race</th>\n",
       "      <th>state</th>\n",
       "      <th>flee</th>\n",
       "      <th>age_bins</th>\n",
       "      <th>population_race</th>\n",
       "      <th>population_gender</th>\n",
       "      <th>population_states</th>\n",
       "      <th>N_poor_by_state</th>\n",
       "      <th>...</th>\n",
       "      <th>Total_Population</th>\n",
       "      <th>prob_race_knowing_was_killed</th>\n",
       "      <th>prob_gender_knowing_was_killed</th>\n",
       "      <th>prob_state_knowing_was_killed</th>\n",
       "      <th>prob_race</th>\n",
       "      <th>prob_gender</th>\n",
       "      <th>prob_state</th>\n",
       "      <th>prob_killed_knowing_race</th>\n",
       "      <th>prob_killed_knowing_gender</th>\n",
       "      <th>prob_killed_knowing_state</th>\n",
       "    </tr>\n",
       "  </thead>\n",
       "  <tbody>\n",
       "    <tr>\n",
       "      <th>0</th>\n",
       "      <td>53</td>\n",
       "      <td>M</td>\n",
       "      <td>A</td>\n",
       "      <td>WA</td>\n",
       "      <td>No</td>\n",
       "      <td>&gt;50</td>\n",
       "      <td>19619000</td>\n",
       "      <td>162826299</td>\n",
       "      <td>7588000</td>\n",
       "      <td>628000</td>\n",
       "      <td>...</td>\n",
       "      <td>325714000</td>\n",
       "      <td>0.018</td>\n",
       "      <td>0.953</td>\n",
       "      <td>0.025</td>\n",
       "      <td>0.060234</td>\n",
       "      <td>0.499906</td>\n",
       "      <td>0.023297</td>\n",
       "      <td>0.298835</td>\n",
       "      <td>1.906359</td>\n",
       "      <td>1.073122</td>\n",
       "    </tr>\n",
       "    <tr>\n",
       "      <th>1</th>\n",
       "      <td>44</td>\n",
       "      <td>M</td>\n",
       "      <td>A</td>\n",
       "      <td>WA</td>\n",
       "      <td>No</td>\n",
       "      <td>35-50</td>\n",
       "      <td>19619000</td>\n",
       "      <td>162826299</td>\n",
       "      <td>7588000</td>\n",
       "      <td>628000</td>\n",
       "      <td>...</td>\n",
       "      <td>325714000</td>\n",
       "      <td>0.018</td>\n",
       "      <td>0.953</td>\n",
       "      <td>0.025</td>\n",
       "      <td>0.060234</td>\n",
       "      <td>0.499906</td>\n",
       "      <td>0.023297</td>\n",
       "      <td>0.298835</td>\n",
       "      <td>1.906359</td>\n",
       "      <td>1.073122</td>\n",
       "    </tr>\n",
       "    <tr>\n",
       "      <th>2</th>\n",
       "      <td>20</td>\n",
       "      <td>M</td>\n",
       "      <td>A</td>\n",
       "      <td>WA</td>\n",
       "      <td>No</td>\n",
       "      <td>18-35</td>\n",
       "      <td>19619000</td>\n",
       "      <td>162826299</td>\n",
       "      <td>7588000</td>\n",
       "      <td>628000</td>\n",
       "      <td>...</td>\n",
       "      <td>325714000</td>\n",
       "      <td>0.018</td>\n",
       "      <td>0.953</td>\n",
       "      <td>0.025</td>\n",
       "      <td>0.060234</td>\n",
       "      <td>0.499906</td>\n",
       "      <td>0.023297</td>\n",
       "      <td>0.298835</td>\n",
       "      <td>1.906359</td>\n",
       "      <td>1.073122</td>\n",
       "    </tr>\n",
       "    <tr>\n",
       "      <th>3</th>\n",
       "      <td>22</td>\n",
       "      <td>M</td>\n",
       "      <td>A</td>\n",
       "      <td>WA</td>\n",
       "      <td>No</td>\n",
       "      <td>18-35</td>\n",
       "      <td>19619000</td>\n",
       "      <td>162826299</td>\n",
       "      <td>7588000</td>\n",
       "      <td>628000</td>\n",
       "      <td>...</td>\n",
       "      <td>325714000</td>\n",
       "      <td>0.018</td>\n",
       "      <td>0.953</td>\n",
       "      <td>0.025</td>\n",
       "      <td>0.060234</td>\n",
       "      <td>0.499906</td>\n",
       "      <td>0.023297</td>\n",
       "      <td>0.298835</td>\n",
       "      <td>1.906359</td>\n",
       "      <td>1.073122</td>\n",
       "    </tr>\n",
       "    <tr>\n",
       "      <th>4</th>\n",
       "      <td>36</td>\n",
       "      <td>M</td>\n",
       "      <td>A</td>\n",
       "      <td>WA</td>\n",
       "      <td>Yes</td>\n",
       "      <td>35-50</td>\n",
       "      <td>19619000</td>\n",
       "      <td>162826299</td>\n",
       "      <td>7588000</td>\n",
       "      <td>628000</td>\n",
       "      <td>...</td>\n",
       "      <td>325714000</td>\n",
       "      <td>0.018</td>\n",
       "      <td>0.953</td>\n",
       "      <td>0.025</td>\n",
       "      <td>0.060234</td>\n",
       "      <td>0.499906</td>\n",
       "      <td>0.023297</td>\n",
       "      <td>0.298835</td>\n",
       "      <td>1.906359</td>\n",
       "      <td>1.073122</td>\n",
       "    </tr>\n",
       "  </tbody>\n",
       "</table>\n",
       "<p>5 rows × 22 columns</p>\n",
       "</div>"
      ],
      "text/plain": [
       "   age gender race state flee age_bins  population_race  population_gender  \\\n",
       "0   53      M    A    WA   No      >50         19619000          162826299   \n",
       "1   44      M    A    WA   No    35-50         19619000          162826299   \n",
       "2   20      M    A    WA   No    18-35         19619000          162826299   \n",
       "3   22      M    A    WA   No    18-35         19619000          162826299   \n",
       "4   36      M    A    WA  Yes    35-50         19619000          162826299   \n",
       "\n",
       "   population_states  N_poor_by_state  ...  Total_Population  \\\n",
       "0            7588000           628000  ...         325714000   \n",
       "1            7588000           628000  ...         325714000   \n",
       "2            7588000           628000  ...         325714000   \n",
       "3            7588000           628000  ...         325714000   \n",
       "4            7588000           628000  ...         325714000   \n",
       "\n",
       "   prob_race_knowing_was_killed  prob_gender_knowing_was_killed  \\\n",
       "0                         0.018                           0.953   \n",
       "1                         0.018                           0.953   \n",
       "2                         0.018                           0.953   \n",
       "3                         0.018                           0.953   \n",
       "4                         0.018                           0.953   \n",
       "\n",
       "   prob_state_knowing_was_killed  prob_race  prob_gender  prob_state  \\\n",
       "0                          0.025   0.060234     0.499906    0.023297   \n",
       "1                          0.025   0.060234     0.499906    0.023297   \n",
       "2                          0.025   0.060234     0.499906    0.023297   \n",
       "3                          0.025   0.060234     0.499906    0.023297   \n",
       "4                          0.025   0.060234     0.499906    0.023297   \n",
       "\n",
       "   prob_killed_knowing_race  prob_killed_knowing_gender  \\\n",
       "0                  0.298835                    1.906359   \n",
       "1                  0.298835                    1.906359   \n",
       "2                  0.298835                    1.906359   \n",
       "3                  0.298835                    1.906359   \n",
       "4                  0.298835                    1.906359   \n",
       "\n",
       "   prob_killed_knowing_state  \n",
       "0                   1.073122  \n",
       "1                   1.073122  \n",
       "2                   1.073122  \n",
       "3                   1.073122  \n",
       "4                   1.073122  \n",
       "\n",
       "[5 rows x 22 columns]"
      ]
     },
     "execution_count": 534,
     "metadata": {},
     "output_type": "execute_result"
    }
   ],
   "source": [
    "final.head()"
   ]
  },
  {
   "cell_type": "code",
   "execution_count": 535,
   "metadata": {},
   "outputs": [
    {
     "data": {
      "text/html": [
       "<div>\n",
       "<style scoped>\n",
       "    .dataframe tbody tr th:only-of-type {\n",
       "        vertical-align: middle;\n",
       "    }\n",
       "\n",
       "    .dataframe tbody tr th {\n",
       "        vertical-align: top;\n",
       "    }\n",
       "\n",
       "    .dataframe thead th {\n",
       "        text-align: right;\n",
       "    }\n",
       "</style>\n",
       "<table border=\"1\" class=\"dataframe\">\n",
       "  <thead>\n",
       "    <tr style=\"text-align: right;\">\n",
       "      <th></th>\n",
       "      <th>prob_killed_knowing_gender</th>\n",
       "    </tr>\n",
       "    <tr>\n",
       "      <th>gender</th>\n",
       "      <th></th>\n",
       "    </tr>\n",
       "  </thead>\n",
       "  <tbody>\n",
       "    <tr>\n",
       "      <th>F</th>\n",
       "      <td>0.092088</td>\n",
       "    </tr>\n",
       "    <tr>\n",
       "      <th>M</th>\n",
       "      <td>1.906359</td>\n",
       "    </tr>\n",
       "  </tbody>\n",
       "</table>\n",
       "</div>"
      ],
      "text/plain": [
       "        prob_killed_knowing_gender\n",
       "gender                            \n",
       "F                         0.092088\n",
       "M                         1.906359"
      ]
     },
     "execution_count": 535,
     "metadata": {},
     "output_type": "execute_result"
    }
   ],
   "source": [
    "k=(final.groupby('gender').agg({'prob_killed_knowing_gender':'max'}))\n",
    "k"
   ]
  },
  {
   "cell_type": "code",
   "execution_count": 536,
   "metadata": {},
   "outputs": [
    {
     "data": {
      "text/plain": [
       "<BarContainer object of 5456 artists>"
      ]
     },
     "execution_count": 536,
     "metadata": {},
     "output_type": "execute_result"
    },
    {
     "data": {
      "image/png": "[encoded data removed]",
      "text/plain": [
       "<Figure size 432x288 with 1 Axes>"
      ]
     },
     "metadata": {
      "needs_background": "light"
     },
     "output_type": "display_data"
    }
   ],
   "source": [
    "plt.bar(final['race'],final['prob_race'])"
   ]
  },
  {
   "cell_type": "code",
   "execution_count": 537,
   "metadata": {},
   "outputs": [
    {
     "data": {
      "image/png": "[encoded data removed]",
      "text/plain": [
       "<Figure size 432x288 with 1 Axes>"
      ]
     },
     "metadata": {
      "needs_background": "light"
     },
     "output_type": "display_data"
    }
   ],
   "source": [
    "plt.bar((final.groupby('race')['prob_killed_knowing_race'].max()).index,(final.groupby('race')['prob_killed_knowing_race'].max()).values)\n",
    "plt.show()\n"
   ]
  },
  {
   "cell_type": "markdown",
   "metadata": {},
   "source": [
    "## Assumption: The majority of people killed by police are poor (live in poor neighboors, violent crimes,etc)"
   ]
  },
  {
   "cell_type": "code",
   "execution_count": null,
   "metadata": {},
   "outputs": [],
   "source": [
    "# P(race and poor), P(gender and poor), P(state and poor)\n",
    "\n",
    "# Assumption: P(race and poor | killed) = P(race| killed)\n",
    "\n",
    "# P(killed | race and poor) = P(race and poor | killed) / P(race and poor)\n",
    "# P(race and poor) = P(race | poor) * P(poor) \n",
    "#        --> P(killed | race and poor) = P(race and poor | killed) / (P(race | poor) * P(poor))\n",
    "#        --> P(killed | race and poor) = P(race | killed) / (P(race | poor) * P(poor))"
   ]
  },
  {
   "cell_type": "code",
   "execution_count": 538,
   "metadata": {},
   "outputs": [
    {
     "data": {
      "text/plain": [
       "Index(['age', 'gender', 'race', 'state', 'flee', 'age_bins', 'population_race',\n",
       "       'population_gender', 'population_states', 'N_poor_by_state',\n",
       "       'N_poor_by_race', 'N_poor_by_gender', 'Total_Population',\n",
       "       'prob_race_knowing_was_killed', 'prob_gender_knowing_was_killed',\n",
       "       'prob_state_knowing_was_killed', 'prob_race', 'prob_gender',\n",
       "       'prob_state', 'prob_killed_knowing_race', 'prob_killed_knowing_gender',\n",
       "       'prob_killed_knowing_state'],\n",
       "      dtype='object')"
      ]
     },
     "execution_count": 538,
     "metadata": {},
     "output_type": "execute_result"
    }
   ],
   "source": [
    "final.columns"
   ]
  },
  {
   "cell_type": "code",
   "execution_count": 548,
   "metadata": {},
   "outputs": [],
   "source": [
    "p_poor=((final.groupby('race').agg({'N_poor_by_race':'max'})).sum()/final['Total_Population'].max()).values[0]"
   ]
  },
  {
   "cell_type": "code",
   "execution_count": 549,
   "metadata": {},
   "outputs": [
    {
     "data": {
      "text/plain": [
       "0.11435492487274111"
      ]
     },
     "execution_count": 549,
     "metadata": {},
     "output_type": "execute_result"
    }
   ],
   "source": [
    "p_poor"
   ]
  },
  {
   "cell_type": "code",
   "execution_count": 554,
   "metadata": {},
   "outputs": [
    {
     "data": {
      "text/html": [
       "<div>\n",
       "<style scoped>\n",
       "    .dataframe tbody tr th:only-of-type {\n",
       "        vertical-align: middle;\n",
       "    }\n",
       "\n",
       "    .dataframe tbody tr th {\n",
       "        vertical-align: top;\n",
       "    }\n",
       "\n",
       "    .dataframe thead th {\n",
       "        text-align: right;\n",
       "    }\n",
       "</style>\n",
       "<table border=\"1\" class=\"dataframe\">\n",
       "  <thead>\n",
       "    <tr style=\"text-align: right;\">\n",
       "      <th></th>\n",
       "      <th>race</th>\n",
       "      <th>N_poor_by_race</th>\n",
       "      <th>prob_race_knowing_poor</th>\n",
       "    </tr>\n",
       "  </thead>\n",
       "  <tbody>\n",
       "    <tr>\n",
       "      <th>0</th>\n",
       "      <td>A</td>\n",
       "      <td>1629000</td>\n",
       "      <td>0.043735</td>\n",
       "    </tr>\n",
       "    <tr>\n",
       "      <th>1</th>\n",
       "      <td>B</td>\n",
       "      <td>8472000</td>\n",
       "      <td>0.227455</td>\n",
       "    </tr>\n",
       "    <tr>\n",
       "      <th>2</th>\n",
       "      <td>H</td>\n",
       "      <td>10409000</td>\n",
       "      <td>0.279459</td>\n",
       "    </tr>\n",
       "    <tr>\n",
       "      <th>3</th>\n",
       "      <td>O</td>\n",
       "      <td>795000</td>\n",
       "      <td>0.021344</td>\n",
       "    </tr>\n",
       "    <tr>\n",
       "      <th>4</th>\n",
       "      <td>W</td>\n",
       "      <td>15942000</td>\n",
       "      <td>0.428008</td>\n",
       "    </tr>\n",
       "  </tbody>\n",
       "</table>\n",
       "</div>"
      ],
      "text/plain": [
       "  race  N_poor_by_race  prob_race_knowing_poor\n",
       "0    A         1629000                0.043735\n",
       "1    B         8472000                0.227455\n",
       "2    H        10409000                0.279459\n",
       "3    O          795000                0.021344\n",
       "4    W        15942000                0.428008"
      ]
     },
     "execution_count": 554,
     "metadata": {},
     "output_type": "execute_result"
    }
   ],
   "source": [
    "k=(final.groupby('race').agg({'N_poor_by_race':'max'})).reset_index()\n",
    "k['prob_race_knowing_poor'] = k['N_poor_by_race']/k['N_poor_by_race'].sum()\n",
    "k"
   ]
  },
  {
   "cell_type": "code",
   "execution_count": 555,
   "metadata": {},
   "outputs": [],
   "source": [
    "k.drop(columns=['N_poor_by_race'],inplace=True)"
   ]
  },
  {
   "cell_type": "code",
   "execution_count": 557,
   "metadata": {},
   "outputs": [
    {
     "data": {
      "text/html": [
       "<div>\n",
       "<style scoped>\n",
       "    .dataframe tbody tr th:only-of-type {\n",
       "        vertical-align: middle;\n",
       "    }\n",
       "\n",
       "    .dataframe tbody tr th {\n",
       "        vertical-align: top;\n",
       "    }\n",
       "\n",
       "    .dataframe thead th {\n",
       "        text-align: right;\n",
       "    }\n",
       "</style>\n",
       "<table border=\"1\" class=\"dataframe\">\n",
       "  <thead>\n",
       "    <tr style=\"text-align: right;\">\n",
       "      <th></th>\n",
       "      <th>age</th>\n",
       "      <th>gender</th>\n",
       "      <th>race</th>\n",
       "      <th>state</th>\n",
       "      <th>flee</th>\n",
       "      <th>age_bins</th>\n",
       "      <th>population_race</th>\n",
       "      <th>population_gender</th>\n",
       "      <th>population_states</th>\n",
       "      <th>N_poor_by_state</th>\n",
       "      <th>...</th>\n",
       "      <th>prob_race_knowing_was_killed</th>\n",
       "      <th>prob_gender_knowing_was_killed</th>\n",
       "      <th>prob_state_knowing_was_killed</th>\n",
       "      <th>prob_race</th>\n",
       "      <th>prob_gender</th>\n",
       "      <th>prob_state</th>\n",
       "      <th>prob_killed_knowing_race</th>\n",
       "      <th>prob_killed_knowing_gender</th>\n",
       "      <th>prob_killed_knowing_state</th>\n",
       "      <th>prob_race_knowing_poor</th>\n",
       "    </tr>\n",
       "  </thead>\n",
       "  <tbody>\n",
       "    <tr>\n",
       "      <th>0</th>\n",
       "      <td>53</td>\n",
       "      <td>M</td>\n",
       "      <td>A</td>\n",
       "      <td>WA</td>\n",
       "      <td>No</td>\n",
       "      <td>&gt;50</td>\n",
       "      <td>19619000</td>\n",
       "      <td>162826299</td>\n",
       "      <td>7588000</td>\n",
       "      <td>628000</td>\n",
       "      <td>...</td>\n",
       "      <td>0.018</td>\n",
       "      <td>0.953</td>\n",
       "      <td>0.025</td>\n",
       "      <td>0.060234</td>\n",
       "      <td>0.499906</td>\n",
       "      <td>0.023297</td>\n",
       "      <td>0.298835</td>\n",
       "      <td>1.906359</td>\n",
       "      <td>1.073122</td>\n",
       "      <td>0.043735</td>\n",
       "    </tr>\n",
       "    <tr>\n",
       "      <th>1</th>\n",
       "      <td>44</td>\n",
       "      <td>M</td>\n",
       "      <td>A</td>\n",
       "      <td>WA</td>\n",
       "      <td>No</td>\n",
       "      <td>35-50</td>\n",
       "      <td>19619000</td>\n",
       "      <td>162826299</td>\n",
       "      <td>7588000</td>\n",
       "      <td>628000</td>\n",
       "      <td>...</td>\n",
       "      <td>0.018</td>\n",
       "      <td>0.953</td>\n",
       "      <td>0.025</td>\n",
       "      <td>0.060234</td>\n",
       "      <td>0.499906</td>\n",
       "      <td>0.023297</td>\n",
       "      <td>0.298835</td>\n",
       "      <td>1.906359</td>\n",
       "      <td>1.073122</td>\n",
       "      <td>0.043735</td>\n",
       "    </tr>\n",
       "    <tr>\n",
       "      <th>2</th>\n",
       "      <td>20</td>\n",
       "      <td>M</td>\n",
       "      <td>A</td>\n",
       "      <td>WA</td>\n",
       "      <td>No</td>\n",
       "      <td>18-35</td>\n",
       "      <td>19619000</td>\n",
       "      <td>162826299</td>\n",
       "      <td>7588000</td>\n",
       "      <td>628000</td>\n",
       "      <td>...</td>\n",
       "      <td>0.018</td>\n",
       "      <td>0.953</td>\n",
       "      <td>0.025</td>\n",
       "      <td>0.060234</td>\n",
       "      <td>0.499906</td>\n",
       "      <td>0.023297</td>\n",
       "      <td>0.298835</td>\n",
       "      <td>1.906359</td>\n",
       "      <td>1.073122</td>\n",
       "      <td>0.043735</td>\n",
       "    </tr>\n",
       "    <tr>\n",
       "      <th>3</th>\n",
       "      <td>22</td>\n",
       "      <td>M</td>\n",
       "      <td>A</td>\n",
       "      <td>WA</td>\n",
       "      <td>No</td>\n",
       "      <td>18-35</td>\n",
       "      <td>19619000</td>\n",
       "      <td>162826299</td>\n",
       "      <td>7588000</td>\n",
       "      <td>628000</td>\n",
       "      <td>...</td>\n",
       "      <td>0.018</td>\n",
       "      <td>0.953</td>\n",
       "      <td>0.025</td>\n",
       "      <td>0.060234</td>\n",
       "      <td>0.499906</td>\n",
       "      <td>0.023297</td>\n",
       "      <td>0.298835</td>\n",
       "      <td>1.906359</td>\n",
       "      <td>1.073122</td>\n",
       "      <td>0.043735</td>\n",
       "    </tr>\n",
       "    <tr>\n",
       "      <th>4</th>\n",
       "      <td>36</td>\n",
       "      <td>M</td>\n",
       "      <td>A</td>\n",
       "      <td>WA</td>\n",
       "      <td>Yes</td>\n",
       "      <td>35-50</td>\n",
       "      <td>19619000</td>\n",
       "      <td>162826299</td>\n",
       "      <td>7588000</td>\n",
       "      <td>628000</td>\n",
       "      <td>...</td>\n",
       "      <td>0.018</td>\n",
       "      <td>0.953</td>\n",
       "      <td>0.025</td>\n",
       "      <td>0.060234</td>\n",
       "      <td>0.499906</td>\n",
       "      <td>0.023297</td>\n",
       "      <td>0.298835</td>\n",
       "      <td>1.906359</td>\n",
       "      <td>1.073122</td>\n",
       "      <td>0.043735</td>\n",
       "    </tr>\n",
       "  </tbody>\n",
       "</table>\n",
       "<p>5 rows × 23 columns</p>\n",
       "</div>"
      ],
      "text/plain": [
       "   age gender race state flee age_bins  population_race  population_gender  \\\n",
       "0   53      M    A    WA   No      >50         19619000          162826299   \n",
       "1   44      M    A    WA   No    35-50         19619000          162826299   \n",
       "2   20      M    A    WA   No    18-35         19619000          162826299   \n",
       "3   22      M    A    WA   No    18-35         19619000          162826299   \n",
       "4   36      M    A    WA  Yes    35-50         19619000          162826299   \n",
       "\n",
       "   population_states  N_poor_by_state  ...  prob_race_knowing_was_killed  \\\n",
       "0            7588000           628000  ...                         0.018   \n",
       "1            7588000           628000  ...                         0.018   \n",
       "2            7588000           628000  ...                         0.018   \n",
       "3            7588000           628000  ...                         0.018   \n",
       "4            7588000           628000  ...                         0.018   \n",
       "\n",
       "   prob_gender_knowing_was_killed  prob_state_knowing_was_killed  prob_race  \\\n",
       "0                           0.953                          0.025   0.060234   \n",
       "1                           0.953                          0.025   0.060234   \n",
       "2                           0.953                          0.025   0.060234   \n",
       "3                           0.953                          0.025   0.060234   \n",
       "4                           0.953                          0.025   0.060234   \n",
       "\n",
       "   prob_gender  prob_state  prob_killed_knowing_race  \\\n",
       "0     0.499906    0.023297                  0.298835   \n",
       "1     0.499906    0.023297                  0.298835   \n",
       "2     0.499906    0.023297                  0.298835   \n",
       "3     0.499906    0.023297                  0.298835   \n",
       "4     0.499906    0.023297                  0.298835   \n",
       "\n",
       "   prob_killed_knowing_gender  prob_killed_knowing_state  \\\n",
       "0                    1.906359                   1.073122   \n",
       "1                    1.906359                   1.073122   \n",
       "2                    1.906359                   1.073122   \n",
       "3                    1.906359                   1.073122   \n",
       "4                    1.906359                   1.073122   \n",
       "\n",
       "   prob_race_knowing_poor  \n",
       "0                0.043735  \n",
       "1                0.043735  \n",
       "2                0.043735  \n",
       "3                0.043735  \n",
       "4                0.043735  \n",
       "\n",
       "[5 rows x 23 columns]"
      ]
     },
     "execution_count": 557,
     "metadata": {},
     "output_type": "execute_result"
    }
   ],
   "source": [
    "final = final.merge(k, how='inner', left_on='race', right_on='race')\n",
    "final.head()"
   ]
  },
  {
   "cell_type": "code",
   "execution_count": 558,
   "metadata": {},
   "outputs": [],
   "source": [
    "final['prob_killed_knowing_race_and_poor']=final['prob_race_knowing_was_killed']/(final['prob_race_knowing_poor']*p_poor)"
   ]
  },
  {
   "cell_type": "code",
   "execution_count": 560,
   "metadata": {},
   "outputs": [
    {
     "data": {
      "text/plain": [
       "10.379044    2772\n",
       "10.380404    1471\n",
       "5.663775      990\n",
       "9.423172      125\n",
       "3.599050       98\n",
       "Name: prob_killed_knowing_race_and_poor, dtype: int64"
      ]
     },
     "execution_count": 560,
     "metadata": {},
     "output_type": "execute_result"
    }
   ],
   "source": [
    "final['prob_killed_knowing_race_and_poor'].value_counts()"
   ]
  },
  {
   "cell_type": "code",
   "execution_count": 561,
   "metadata": {},
   "outputs": [
    {
     "data": {
      "text/html": [
       "<div>\n",
       "<style scoped>\n",
       "    .dataframe tbody tr th:only-of-type {\n",
       "        vertical-align: middle;\n",
       "    }\n",
       "\n",
       "    .dataframe tbody tr th {\n",
       "        vertical-align: top;\n",
       "    }\n",
       "\n",
       "    .dataframe thead th {\n",
       "        text-align: right;\n",
       "    }\n",
       "</style>\n",
       "<table border=\"1\" class=\"dataframe\">\n",
       "  <thead>\n",
       "    <tr style=\"text-align: right;\">\n",
       "      <th></th>\n",
       "      <th>prob_killed_knowing_race_and_poor</th>\n",
       "    </tr>\n",
       "    <tr>\n",
       "      <th>race</th>\n",
       "      <th></th>\n",
       "    </tr>\n",
       "  </thead>\n",
       "  <tbody>\n",
       "    <tr>\n",
       "      <th>A</th>\n",
       "      <td>3.599050</td>\n",
       "    </tr>\n",
       "    <tr>\n",
       "      <th>B</th>\n",
       "      <td>10.380404</td>\n",
       "    </tr>\n",
       "    <tr>\n",
       "      <th>H</th>\n",
       "      <td>5.663775</td>\n",
       "    </tr>\n",
       "    <tr>\n",
       "      <th>O</th>\n",
       "      <td>9.423172</td>\n",
       "    </tr>\n",
       "    <tr>\n",
       "      <th>W</th>\n",
       "      <td>10.379044</td>\n",
       "    </tr>\n",
       "  </tbody>\n",
       "</table>\n",
       "</div>"
      ],
      "text/plain": [
       "      prob_killed_knowing_race_and_poor\n",
       "race                                   \n",
       "A                              3.599050\n",
       "B                             10.380404\n",
       "H                              5.663775\n",
       "O                              9.423172\n",
       "W                             10.379044"
      ]
     },
     "execution_count": 561,
     "metadata": {},
     "output_type": "execute_result"
    }
   ],
   "source": [
    "final.groupby('race').agg({'prob_killed_knowing_race_and_poor':'max'})"
   ]
  },
  {
   "cell_type": "markdown",
   "metadata": {},
   "source": [
    "## Normalize"
   ]
  },
  {
   "cell_type": "code",
   "execution_count": 573,
   "metadata": {},
   "outputs": [],
   "source": [
    "prob_killed_knowing_race_and_poor_norm=(final.groupby('race').agg({'prob_killed_knowing_race_and_poor':'max'})).reset_index()"
   ]
  },
  {
   "cell_type": "code",
   "execution_count": 574,
   "metadata": {},
   "outputs": [],
   "source": [
    "prob_killed_knowing_race_and_poor_norm['prob_killed_knowing_race_and_poor_norm']=prob_killed_knowing_race_and_poor_norm['prob_killed_knowing_race_and_poor']/prob_killed_knowing_race_and_poor_norm['prob_killed_knowing_race_and_poor'].sum()"
   ]
  },
  {
   "cell_type": "code",
   "execution_count": 576,
   "metadata": {},
   "outputs": [],
   "source": [
    "prob_killed_knowing_race_and_poor_norm.drop(columns=['prob_killed_knowing_race_and_poor'],inplace=True)"
   ]
  },
  {
   "cell_type": "code",
   "execution_count": 577,
   "metadata": {},
   "outputs": [
    {
     "data": {
      "text/html": [
       "<div>\n",
       "<style scoped>\n",
       "    .dataframe tbody tr th:only-of-type {\n",
       "        vertical-align: middle;\n",
       "    }\n",
       "\n",
       "    .dataframe tbody tr th {\n",
       "        vertical-align: top;\n",
       "    }\n",
       "\n",
       "    .dataframe thead th {\n",
       "        text-align: right;\n",
       "    }\n",
       "</style>\n",
       "<table border=\"1\" class=\"dataframe\">\n",
       "  <thead>\n",
       "    <tr style=\"text-align: right;\">\n",
       "      <th></th>\n",
       "      <th>race</th>\n",
       "      <th>prob_killed_knowing_race_and_poor_norm</th>\n",
       "    </tr>\n",
       "  </thead>\n",
       "  <tbody>\n",
       "    <tr>\n",
       "      <th>0</th>\n",
       "      <td>A</td>\n",
       "      <td>0.091241</td>\n",
       "    </tr>\n",
       "    <tr>\n",
       "      <th>1</th>\n",
       "      <td>B</td>\n",
       "      <td>0.263158</td>\n",
       "    </tr>\n",
       "    <tr>\n",
       "      <th>2</th>\n",
       "      <td>H</td>\n",
       "      <td>0.143585</td>\n",
       "    </tr>\n",
       "    <tr>\n",
       "      <th>3</th>\n",
       "      <td>O</td>\n",
       "      <td>0.238891</td>\n",
       "    </tr>\n",
       "    <tr>\n",
       "      <th>4</th>\n",
       "      <td>W</td>\n",
       "      <td>0.263124</td>\n",
       "    </tr>\n",
       "  </tbody>\n",
       "</table>\n",
       "</div>"
      ],
      "text/plain": [
       "  race  prob_killed_knowing_race_and_poor_norm\n",
       "0    A                                0.091241\n",
       "1    B                                0.263158\n",
       "2    H                                0.143585\n",
       "3    O                                0.238891\n",
       "4    W                                0.263124"
      ]
     },
     "execution_count": 577,
     "metadata": {},
     "output_type": "execute_result"
    }
   ],
   "source": [
    "prob_killed_knowing_race_and_poor_norm"
   ]
  },
  {
   "cell_type": "code",
   "execution_count": 578,
   "metadata": {},
   "outputs": [],
   "source": [
    "final = final.merge(prob_killed_knowing_race_and_poor_norm, how='inner', left_on='race', right_on='race')"
   ]
  },
  {
   "cell_type": "code",
   "execution_count": null,
   "metadata": {},
   "outputs": [],
   "source": []
  },
  {
   "cell_type": "code",
   "execution_count": 582,
   "metadata": {},
   "outputs": [
    {
     "data": {
      "text/html": [
       "<div>\n",
       "<style scoped>\n",
       "    .dataframe tbody tr th:only-of-type {\n",
       "        vertical-align: middle;\n",
       "    }\n",
       "\n",
       "    .dataframe tbody tr th {\n",
       "        vertical-align: top;\n",
       "    }\n",
       "\n",
       "    .dataframe thead th {\n",
       "        text-align: right;\n",
       "    }\n",
       "</style>\n",
       "<table border=\"1\" class=\"dataframe\">\n",
       "  <thead>\n",
       "    <tr style=\"text-align: right;\">\n",
       "      <th></th>\n",
       "      <th>race</th>\n",
       "      <th>prob_killed_knowing_race_norm</th>\n",
       "    </tr>\n",
       "  </thead>\n",
       "  <tbody>\n",
       "    <tr>\n",
       "      <th>0</th>\n",
       "      <td>A</td>\n",
       "      <td>0.063218</td>\n",
       "    </tr>\n",
       "    <tr>\n",
       "      <th>1</th>\n",
       "      <td>B</td>\n",
       "      <td>0.465798</td>\n",
       "    </tr>\n",
       "    <tr>\n",
       "      <th>2</th>\n",
       "      <td>H</td>\n",
       "      <td>0.200895</td>\n",
       "    </tr>\n",
       "    <tr>\n",
       "      <th>3</th>\n",
       "      <td>O</td>\n",
       "      <td>0.087494</td>\n",
       "    </tr>\n",
       "    <tr>\n",
       "      <th>4</th>\n",
       "      <td>W</td>\n",
       "      <td>0.182595</td>\n",
       "    </tr>\n",
       "  </tbody>\n",
       "</table>\n",
       "</div>"
      ],
      "text/plain": [
       "  race  prob_killed_knowing_race_norm\n",
       "0    A                       0.063218\n",
       "1    B                       0.465798\n",
       "2    H                       0.200895\n",
       "3    O                       0.087494\n",
       "4    W                       0.182595"
      ]
     },
     "execution_count": 582,
     "metadata": {},
     "output_type": "execute_result"
    }
   ],
   "source": [
    "prob_killed_knowing_race_norm=(final.groupby('race').agg({'prob_killed_knowing_race':'max'})).reset_index()\n",
    "prob_killed_knowing_race_norm['prob_killed_knowing_race_norm']=prob_killed_knowing_race_norm['prob_killed_knowing_race']/prob_killed_knowing_race_norm['prob_killed_knowing_race'].sum()\n",
    "prob_killed_knowing_race_norm.drop(columns=['prob_killed_knowing_race'],inplace=True)\n",
    "prob_killed_knowing_race_norm"
   ]
  },
  {
   "cell_type": "code",
   "execution_count": 583,
   "metadata": {},
   "outputs": [],
   "source": [
    "final = final.merge(prob_killed_knowing_race_norm, how='inner', left_on='race', right_on='race')"
   ]
  },
  {
   "cell_type": "code",
   "execution_count": null,
   "metadata": {},
   "outputs": [],
   "source": []
  },
  {
   "cell_type": "code",
   "execution_count": 584,
   "metadata": {},
   "outputs": [
    {
     "data": {
      "text/html": [
       "<div>\n",
       "<style scoped>\n",
       "    .dataframe tbody tr th:only-of-type {\n",
       "        vertical-align: middle;\n",
       "    }\n",
       "\n",
       "    .dataframe tbody tr th {\n",
       "        vertical-align: top;\n",
       "    }\n",
       "\n",
       "    .dataframe thead th {\n",
       "        text-align: right;\n",
       "    }\n",
       "</style>\n",
       "<table border=\"1\" class=\"dataframe\">\n",
       "  <thead>\n",
       "    <tr style=\"text-align: right;\">\n",
       "      <th></th>\n",
       "      <th>gender</th>\n",
       "      <th>prob_killed_knowing_gender_norm</th>\n",
       "    </tr>\n",
       "  </thead>\n",
       "  <tbody>\n",
       "    <tr>\n",
       "      <th>0</th>\n",
       "      <td>F</td>\n",
       "      <td>0.04608</td>\n",
       "    </tr>\n",
       "    <tr>\n",
       "      <th>1</th>\n",
       "      <td>M</td>\n",
       "      <td>0.95392</td>\n",
       "    </tr>\n",
       "  </tbody>\n",
       "</table>\n",
       "</div>"
      ],
      "text/plain": [
       "  gender  prob_killed_knowing_gender_norm\n",
       "0      F                          0.04608\n",
       "1      M                          0.95392"
      ]
     },
     "execution_count": 584,
     "metadata": {},
     "output_type": "execute_result"
    }
   ],
   "source": [
    "prob_killed_knowing_gender_norm=(final.groupby('gender').agg({'prob_killed_knowing_gender':'max'})).reset_index()\n",
    "prob_killed_knowing_gender_norm['prob_killed_knowing_gender_norm']=prob_killed_knowing_gender_norm['prob_killed_knowing_gender']/prob_killed_knowing_gender_norm['prob_killed_knowing_gender'].sum()\n",
    "prob_killed_knowing_gender_norm.drop(columns=['prob_killed_knowing_gender'],inplace=True)\n",
    "prob_killed_knowing_gender_norm"
   ]
  },
  {
   "cell_type": "code",
   "execution_count": 585,
   "metadata": {},
   "outputs": [],
   "source": [
    "final = final.merge(prob_killed_knowing_gender_norm, how='inner', left_on='gender', right_on='gender')"
   ]
  },
  {
   "cell_type": "code",
   "execution_count": null,
   "metadata": {},
   "outputs": [],
   "source": []
  },
  {
   "cell_type": "code",
   "execution_count": 587,
   "metadata": {},
   "outputs": [
    {
     "data": {
      "text/plain": [
       "state                             AKALARAZCACOCTDCDEFLGAHIIAIDILINKSKYLAMAMDMEMI...\n",
       "prob_killed_knowing_state_norm                                                  1.0\n",
       "dtype: object"
      ]
     },
     "execution_count": 587,
     "metadata": {},
     "output_type": "execute_result"
    }
   ],
   "source": [
    "prob_killed_knowing_state_norm=(final.groupby('state').agg({'prob_killed_knowing_state':'max'})).reset_index()\n",
    "prob_killed_knowing_state_norm['prob_killed_knowing_state_norm']=prob_killed_knowing_state_norm['prob_killed_knowing_state']/prob_killed_knowing_state_norm['prob_killed_knowing_state'].sum()\n",
    "prob_killed_knowing_state_norm.drop(columns=['prob_killed_knowing_state'],inplace=True)\n",
    "prob_killed_knowing_state_norm"
   ]
  },
  {
   "cell_type": "code",
   "execution_count": 588,
   "metadata": {},
   "outputs": [],
   "source": [
    "final = final.merge(prob_killed_knowing_state_norm, how='inner', left_on='state', right_on='state')"
   ]
  },
  {
   "cell_type": "code",
   "execution_count": 589,
   "metadata": {},
   "outputs": [
    {
     "data": {
      "text/html": [
       "<div>\n",
       "<style scoped>\n",
       "    .dataframe tbody tr th:only-of-type {\n",
       "        vertical-align: middle;\n",
       "    }\n",
       "\n",
       "    .dataframe tbody tr th {\n",
       "        vertical-align: top;\n",
       "    }\n",
       "\n",
       "    .dataframe thead th {\n",
       "        text-align: right;\n",
       "    }\n",
       "</style>\n",
       "<table border=\"1\" class=\"dataframe\">\n",
       "  <thead>\n",
       "    <tr style=\"text-align: right;\">\n",
       "      <th></th>\n",
       "      <th>age</th>\n",
       "      <th>gender</th>\n",
       "      <th>race</th>\n",
       "      <th>state</th>\n",
       "      <th>flee</th>\n",
       "      <th>age_bins</th>\n",
       "      <th>population_race</th>\n",
       "      <th>population_gender</th>\n",
       "      <th>population_states</th>\n",
       "      <th>N_poor_by_state</th>\n",
       "      <th>...</th>\n",
       "      <th>prob_state</th>\n",
       "      <th>prob_killed_knowing_race</th>\n",
       "      <th>prob_killed_knowing_gender</th>\n",
       "      <th>prob_killed_knowing_state</th>\n",
       "      <th>prob_race_knowing_poor</th>\n",
       "      <th>prob_killed_knowing_race_and_poor</th>\n",
       "      <th>prob_killed_knowing_race_and_poor_norm</th>\n",
       "      <th>prob_killed_knowing_race_norm</th>\n",
       "      <th>prob_killed_knowing_gender_norm</th>\n",
       "      <th>prob_killed_knowing_state_norm</th>\n",
       "    </tr>\n",
       "  </thead>\n",
       "  <tbody>\n",
       "    <tr>\n",
       "      <th>0</th>\n",
       "      <td>53</td>\n",
       "      <td>M</td>\n",
       "      <td>A</td>\n",
       "      <td>WA</td>\n",
       "      <td>No</td>\n",
       "      <td>&gt;50</td>\n",
       "      <td>19619000</td>\n",
       "      <td>162826299</td>\n",
       "      <td>7588000</td>\n",
       "      <td>628000</td>\n",
       "      <td>...</td>\n",
       "      <td>0.023297</td>\n",
       "      <td>0.298835</td>\n",
       "      <td>1.906359</td>\n",
       "      <td>1.073122</td>\n",
       "      <td>0.043735</td>\n",
       "      <td>3.59905</td>\n",
       "      <td>0.091241</td>\n",
       "      <td>0.063218</td>\n",
       "      <td>0.95392</td>\n",
       "      <td>0.018288</td>\n",
       "    </tr>\n",
       "    <tr>\n",
       "      <th>1</th>\n",
       "      <td>44</td>\n",
       "      <td>M</td>\n",
       "      <td>A</td>\n",
       "      <td>WA</td>\n",
       "      <td>No</td>\n",
       "      <td>35-50</td>\n",
       "      <td>19619000</td>\n",
       "      <td>162826299</td>\n",
       "      <td>7588000</td>\n",
       "      <td>628000</td>\n",
       "      <td>...</td>\n",
       "      <td>0.023297</td>\n",
       "      <td>0.298835</td>\n",
       "      <td>1.906359</td>\n",
       "      <td>1.073122</td>\n",
       "      <td>0.043735</td>\n",
       "      <td>3.59905</td>\n",
       "      <td>0.091241</td>\n",
       "      <td>0.063218</td>\n",
       "      <td>0.95392</td>\n",
       "      <td>0.018288</td>\n",
       "    </tr>\n",
       "  </tbody>\n",
       "</table>\n",
       "<p>2 rows × 28 columns</p>\n",
       "</div>"
      ],
      "text/plain": [
       "   age gender race state flee age_bins  population_race  population_gender  \\\n",
       "0   53      M    A    WA   No      >50         19619000          162826299   \n",
       "1   44      M    A    WA   No    35-50         19619000          162826299   \n",
       "\n",
       "   population_states  N_poor_by_state  ...  prob_state  \\\n",
       "0            7588000           628000  ...    0.023297   \n",
       "1            7588000           628000  ...    0.023297   \n",
       "\n",
       "   prob_killed_knowing_race  prob_killed_knowing_gender  \\\n",
       "0                  0.298835                    1.906359   \n",
       "1                  0.298835                    1.906359   \n",
       "\n",
       "   prob_killed_knowing_state  prob_race_knowing_poor  \\\n",
       "0                   1.073122                0.043735   \n",
       "1                   1.073122                0.043735   \n",
       "\n",
       "   prob_killed_knowing_race_and_poor  prob_killed_knowing_race_and_poor_norm  \\\n",
       "0                            3.59905                                0.091241   \n",
       "1                            3.59905                                0.091241   \n",
       "\n",
       "   prob_killed_knowing_race_norm  prob_killed_knowing_gender_norm  \\\n",
       "0                       0.063218                          0.95392   \n",
       "1                       0.063218                          0.95392   \n",
       "\n",
       "   prob_killed_knowing_state_norm  \n",
       "0                        0.018288  \n",
       "1                        0.018288  \n",
       "\n",
       "[2 rows x 28 columns]"
      ]
     },
     "execution_count": 589,
     "metadata": {},
     "output_type": "execute_result"
    }
   ],
   "source": [
    "final.head(2)"
   ]
  },
  {
   "cell_type": "code",
   "execution_count": null,
   "metadata": {},
   "outputs": [],
   "source": []
  },
  {
   "cell_type": "code",
   "execution_count": null,
   "metadata": {},
   "outputs": [],
   "source": []
  },
  {
   "cell_type": "code",
   "execution_count": 605,
   "metadata": {},
   "outputs": [],
   "source": [
    "final.to_excel('Police_kills.xlsx', index=False)"
   ]
  },
  {
   "cell_type": "code",
   "execution_count": 601,
   "metadata": {},
   "outputs": [
    {
     "data": {
      "text/plain": [
       "(5456, 28)"
      ]
     },
     "execution_count": 601,
     "metadata": {},
     "output_type": "execute_result"
    }
   ],
   "source": [
    "final.shape"
   ]
  },
  {
   "cell_type": "code",
   "execution_count": 603,
   "metadata": {},
   "outputs": [
    {
     "ename": "FileNotFoundError",
     "evalue": "[Errno 2] No such file or directory: 'Police_kills.xlsx'",
     "output_type": "error",
     "traceback": [
      "\u001b[1;31m---------------------------------------------------------------------------\u001b[0m",
      "\u001b[1;31mFileNotFoundError\u001b[0m                         Traceback (most recent call last)",
      "\u001b[1;32m<ipython-input-603-d1004e4d7e8f>\u001b[0m in \u001b[0;36m<module>\u001b[1;34m\u001b[0m\n\u001b[1;32m----> 1\u001b[1;33m \u001b[0mpd\u001b[0m\u001b[1;33m.\u001b[0m\u001b[0mread_csv\u001b[0m\u001b[1;33m(\u001b[0m\u001b[1;34m'Police_kills.xlsx'\u001b[0m\u001b[1;33m)\u001b[0m\u001b[1;33m\u001b[0m\u001b[1;33m\u001b[0m\u001b[0m\n\u001b[0m",
      "\u001b[1;32m~\\Anaconda3\\lib\\site-packages\\pandas\\util\\_decorators.py\u001b[0m in \u001b[0;36mwrapper\u001b[1;34m(*args, **kwargs)\u001b[0m\n\u001b[0;32m    309\u001b[0m                     \u001b[0mstacklevel\u001b[0m\u001b[1;33m=\u001b[0m\u001b[0mstacklevel\u001b[0m\u001b[1;33m,\u001b[0m\u001b[1;33m\u001b[0m\u001b[1;33m\u001b[0m\u001b[0m\n\u001b[0;32m    310\u001b[0m                 )\n\u001b[1;32m--> 311\u001b[1;33m             \u001b[1;32mreturn\u001b[0m \u001b[0mfunc\u001b[0m\u001b[1;33m(\u001b[0m\u001b[1;33m*\u001b[0m\u001b[0margs\u001b[0m\u001b[1;33m,\u001b[0m \u001b[1;33m**\u001b[0m\u001b[0mkwargs\u001b[0m\u001b[1;33m)\u001b[0m\u001b[1;33m\u001b[0m\u001b[1;33m\u001b[0m\u001b[0m\n\u001b[0m\u001b[0;32m    312\u001b[0m \u001b[1;33m\u001b[0m\u001b[0m\n\u001b[0;32m    313\u001b[0m         \u001b[1;32mreturn\u001b[0m \u001b[0mwrapper\u001b[0m\u001b[1;33m\u001b[0m\u001b[1;33m\u001b[0m\u001b[0m\n",
      "\u001b[1;32m~\\Anaconda3\\lib\\site-packages\\pandas\\io\\parsers\\readers.py\u001b[0m in \u001b[0;36mread_csv\u001b[1;34m(filepath_or_buffer, sep, delimiter, header, names, index_col, usecols, squeeze, prefix, mangle_dupe_cols, dtype, engine, converters, true_values, false_values, skipinitialspace, skiprows, skipfooter, nrows, na_values, keep_default_na, na_filter, verbose, skip_blank_lines, parse_dates, infer_datetime_format, keep_date_col, date_parser, dayfirst, cache_dates, iterator, chunksize, compression, thousands, decimal, lineterminator, quotechar, quoting, doublequote, escapechar, comment, encoding, encoding_errors, dialect, error_bad_lines, warn_bad_lines, on_bad_lines, delim_whitespace, low_memory, memory_map, float_precision, storage_options)\u001b[0m\n\u001b[0;32m    584\u001b[0m     \u001b[0mkwds\u001b[0m\u001b[1;33m.\u001b[0m\u001b[0mupdate\u001b[0m\u001b[1;33m(\u001b[0m\u001b[0mkwds_defaults\u001b[0m\u001b[1;33m)\u001b[0m\u001b[1;33m\u001b[0m\u001b[1;33m\u001b[0m\u001b[0m\n\u001b[0;32m    585\u001b[0m \u001b[1;33m\u001b[0m\u001b[0m\n\u001b[1;32m--> 586\u001b[1;33m     \u001b[1;32mreturn\u001b[0m \u001b[0m_read\u001b[0m\u001b[1;33m(\u001b[0m\u001b[0mfilepath_or_buffer\u001b[0m\u001b[1;33m,\u001b[0m \u001b[0mkwds\u001b[0m\u001b[1;33m)\u001b[0m\u001b[1;33m\u001b[0m\u001b[1;33m\u001b[0m\u001b[0m\n\u001b[0m\u001b[0;32m    587\u001b[0m \u001b[1;33m\u001b[0m\u001b[0m\n\u001b[0;32m    588\u001b[0m \u001b[1;33m\u001b[0m\u001b[0m\n",
      "\u001b[1;32m~\\Anaconda3\\lib\\site-packages\\pandas\\io\\parsers\\readers.py\u001b[0m in \u001b[0;36m_read\u001b[1;34m(filepath_or_buffer, kwds)\u001b[0m\n\u001b[0;32m    480\u001b[0m \u001b[1;33m\u001b[0m\u001b[0m\n\u001b[0;32m    481\u001b[0m     \u001b[1;31m# Create the parser.\u001b[0m\u001b[1;33m\u001b[0m\u001b[1;33m\u001b[0m\u001b[1;33m\u001b[0m\u001b[0m\n\u001b[1;32m--> 482\u001b[1;33m     \u001b[0mparser\u001b[0m \u001b[1;33m=\u001b[0m \u001b[0mTextFileReader\u001b[0m\u001b[1;33m(\u001b[0m\u001b[0mfilepath_or_buffer\u001b[0m\u001b[1;33m,\u001b[0m \u001b[1;33m**\u001b[0m\u001b[0mkwds\u001b[0m\u001b[1;33m)\u001b[0m\u001b[1;33m\u001b[0m\u001b[1;33m\u001b[0m\u001b[0m\n\u001b[0m\u001b[0;32m    483\u001b[0m \u001b[1;33m\u001b[0m\u001b[0m\n\u001b[0;32m    484\u001b[0m     \u001b[1;32mif\u001b[0m \u001b[0mchunksize\u001b[0m \u001b[1;32mor\u001b[0m \u001b[0miterator\u001b[0m\u001b[1;33m:\u001b[0m\u001b[1;33m\u001b[0m\u001b[1;33m\u001b[0m\u001b[0m\n",
      "\u001b[1;32m~\\Anaconda3\\lib\\site-packages\\pandas\\io\\parsers\\readers.py\u001b[0m in \u001b[0;36m__init__\u001b[1;34m(self, f, engine, **kwds)\u001b[0m\n\u001b[0;32m    809\u001b[0m             \u001b[0mself\u001b[0m\u001b[1;33m.\u001b[0m\u001b[0moptions\u001b[0m\u001b[1;33m[\u001b[0m\u001b[1;34m\"has_index_names\"\u001b[0m\u001b[1;33m]\u001b[0m \u001b[1;33m=\u001b[0m \u001b[0mkwds\u001b[0m\u001b[1;33m[\u001b[0m\u001b[1;34m\"has_index_names\"\u001b[0m\u001b[1;33m]\u001b[0m\u001b[1;33m\u001b[0m\u001b[1;33m\u001b[0m\u001b[0m\n\u001b[0;32m    810\u001b[0m \u001b[1;33m\u001b[0m\u001b[0m\n\u001b[1;32m--> 811\u001b[1;33m         \u001b[0mself\u001b[0m\u001b[1;33m.\u001b[0m\u001b[0m_engine\u001b[0m \u001b[1;33m=\u001b[0m \u001b[0mself\u001b[0m\u001b[1;33m.\u001b[0m\u001b[0m_make_engine\u001b[0m\u001b[1;33m(\u001b[0m\u001b[0mself\u001b[0m\u001b[1;33m.\u001b[0m\u001b[0mengine\u001b[0m\u001b[1;33m)\u001b[0m\u001b[1;33m\u001b[0m\u001b[1;33m\u001b[0m\u001b[0m\n\u001b[0m\u001b[0;32m    812\u001b[0m \u001b[1;33m\u001b[0m\u001b[0m\n\u001b[0;32m    813\u001b[0m     \u001b[1;32mdef\u001b[0m \u001b[0mclose\u001b[0m\u001b[1;33m(\u001b[0m\u001b[0mself\u001b[0m\u001b[1;33m)\u001b[0m\u001b[1;33m:\u001b[0m\u001b[1;33m\u001b[0m\u001b[1;33m\u001b[0m\u001b[0m\n",
      "\u001b[1;32m~\\Anaconda3\\lib\\site-packages\\pandas\\io\\parsers\\readers.py\u001b[0m in \u001b[0;36m_make_engine\u001b[1;34m(self, engine)\u001b[0m\n\u001b[0;32m   1038\u001b[0m             )\n\u001b[0;32m   1039\u001b[0m         \u001b[1;31m# error: Too many arguments for \"ParserBase\"\u001b[0m\u001b[1;33m\u001b[0m\u001b[1;33m\u001b[0m\u001b[1;33m\u001b[0m\u001b[0m\n\u001b[1;32m-> 1040\u001b[1;33m         \u001b[1;32mreturn\u001b[0m \u001b[0mmapping\u001b[0m\u001b[1;33m[\u001b[0m\u001b[0mengine\u001b[0m\u001b[1;33m]\u001b[0m\u001b[1;33m(\u001b[0m\u001b[0mself\u001b[0m\u001b[1;33m.\u001b[0m\u001b[0mf\u001b[0m\u001b[1;33m,\u001b[0m \u001b[1;33m**\u001b[0m\u001b[0mself\u001b[0m\u001b[1;33m.\u001b[0m\u001b[0moptions\u001b[0m\u001b[1;33m)\u001b[0m  \u001b[1;31m# type: ignore[call-arg]\u001b[0m\u001b[1;33m\u001b[0m\u001b[1;33m\u001b[0m\u001b[0m\n\u001b[0m\u001b[0;32m   1041\u001b[0m \u001b[1;33m\u001b[0m\u001b[0m\n\u001b[0;32m   1042\u001b[0m     \u001b[1;32mdef\u001b[0m \u001b[0m_failover_to_python\u001b[0m\u001b[1;33m(\u001b[0m\u001b[0mself\u001b[0m\u001b[1;33m)\u001b[0m\u001b[1;33m:\u001b[0m\u001b[1;33m\u001b[0m\u001b[1;33m\u001b[0m\u001b[0m\n",
      "\u001b[1;32m~\\Anaconda3\\lib\\site-packages\\pandas\\io\\parsers\\c_parser_wrapper.py\u001b[0m in \u001b[0;36m__init__\u001b[1;34m(self, src, **kwds)\u001b[0m\n\u001b[0;32m     49\u001b[0m \u001b[1;33m\u001b[0m\u001b[0m\n\u001b[0;32m     50\u001b[0m         \u001b[1;31m# open handles\u001b[0m\u001b[1;33m\u001b[0m\u001b[1;33m\u001b[0m\u001b[1;33m\u001b[0m\u001b[0m\n\u001b[1;32m---> 51\u001b[1;33m         \u001b[0mself\u001b[0m\u001b[1;33m.\u001b[0m\u001b[0m_open_handles\u001b[0m\u001b[1;33m(\u001b[0m\u001b[0msrc\u001b[0m\u001b[1;33m,\u001b[0m \u001b[0mkwds\u001b[0m\u001b[1;33m)\u001b[0m\u001b[1;33m\u001b[0m\u001b[1;33m\u001b[0m\u001b[0m\n\u001b[0m\u001b[0;32m     52\u001b[0m         \u001b[1;32massert\u001b[0m \u001b[0mself\u001b[0m\u001b[1;33m.\u001b[0m\u001b[0mhandles\u001b[0m \u001b[1;32mis\u001b[0m \u001b[1;32mnot\u001b[0m \u001b[1;32mNone\u001b[0m\u001b[1;33m\u001b[0m\u001b[1;33m\u001b[0m\u001b[0m\n\u001b[0;32m     53\u001b[0m \u001b[1;33m\u001b[0m\u001b[0m\n",
      "\u001b[1;32m~\\Anaconda3\\lib\\site-packages\\pandas\\io\\parsers\\base_parser.py\u001b[0m in \u001b[0;36m_open_handles\u001b[1;34m(self, src, kwds)\u001b[0m\n\u001b[0;32m    227\u001b[0m             \u001b[0mmemory_map\u001b[0m\u001b[1;33m=\u001b[0m\u001b[0mkwds\u001b[0m\u001b[1;33m.\u001b[0m\u001b[0mget\u001b[0m\u001b[1;33m(\u001b[0m\u001b[1;34m\"memory_map\"\u001b[0m\u001b[1;33m,\u001b[0m \u001b[1;32mFalse\u001b[0m\u001b[1;33m)\u001b[0m\u001b[1;33m,\u001b[0m\u001b[1;33m\u001b[0m\u001b[1;33m\u001b[0m\u001b[0m\n\u001b[0;32m    228\u001b[0m             \u001b[0mstorage_options\u001b[0m\u001b[1;33m=\u001b[0m\u001b[0mkwds\u001b[0m\u001b[1;33m.\u001b[0m\u001b[0mget\u001b[0m\u001b[1;33m(\u001b[0m\u001b[1;34m\"storage_options\"\u001b[0m\u001b[1;33m,\u001b[0m \u001b[1;32mNone\u001b[0m\u001b[1;33m)\u001b[0m\u001b[1;33m,\u001b[0m\u001b[1;33m\u001b[0m\u001b[1;33m\u001b[0m\u001b[0m\n\u001b[1;32m--> 229\u001b[1;33m             \u001b[0merrors\u001b[0m\u001b[1;33m=\u001b[0m\u001b[0mkwds\u001b[0m\u001b[1;33m.\u001b[0m\u001b[0mget\u001b[0m\u001b[1;33m(\u001b[0m\u001b[1;34m\"encoding_errors\"\u001b[0m\u001b[1;33m,\u001b[0m \u001b[1;34m\"strict\"\u001b[0m\u001b[1;33m)\u001b[0m\u001b[1;33m,\u001b[0m\u001b[1;33m\u001b[0m\u001b[1;33m\u001b[0m\u001b[0m\n\u001b[0m\u001b[0;32m    230\u001b[0m         )\n\u001b[0;32m    231\u001b[0m \u001b[1;33m\u001b[0m\u001b[0m\n",
      "\u001b[1;32m~\\Anaconda3\\lib\\site-packages\\pandas\\io\\common.py\u001b[0m in \u001b[0;36mget_handle\u001b[1;34m(path_or_buf, mode, encoding, compression, memory_map, is_text, errors, storage_options)\u001b[0m\n\u001b[0;32m    705\u001b[0m                 \u001b[0mencoding\u001b[0m\u001b[1;33m=\u001b[0m\u001b[0mioargs\u001b[0m\u001b[1;33m.\u001b[0m\u001b[0mencoding\u001b[0m\u001b[1;33m,\u001b[0m\u001b[1;33m\u001b[0m\u001b[1;33m\u001b[0m\u001b[0m\n\u001b[0;32m    706\u001b[0m                 \u001b[0merrors\u001b[0m\u001b[1;33m=\u001b[0m\u001b[0merrors\u001b[0m\u001b[1;33m,\u001b[0m\u001b[1;33m\u001b[0m\u001b[1;33m\u001b[0m\u001b[0m\n\u001b[1;32m--> 707\u001b[1;33m                 \u001b[0mnewline\u001b[0m\u001b[1;33m=\u001b[0m\u001b[1;34m\"\"\u001b[0m\u001b[1;33m,\u001b[0m\u001b[1;33m\u001b[0m\u001b[1;33m\u001b[0m\u001b[0m\n\u001b[0m\u001b[0;32m    708\u001b[0m             )\n\u001b[0;32m    709\u001b[0m         \u001b[1;32melse\u001b[0m\u001b[1;33m:\u001b[0m\u001b[1;33m\u001b[0m\u001b[1;33m\u001b[0m\u001b[0m\n",
      "\u001b[1;31mFileNotFoundError\u001b[0m: [Errno 2] No such file or directory: 'Police_kills.xlsx'"
     ]
    }
   ],
   "source": [
    "pd.read_csv('Police_kills.xlsx')"
   ]
  },
  {
   "cell_type": "code",
   "execution_count": null,
   "metadata": {},
   "outputs": [],
   "source": []
  }
 ],
 "metadata": {
  "kernelspec": {
   "display_name": "Python 3",
   "language": "python",
   "name": "python3"
  },
  "language_info": {
   "codemirror_mode": {
    "name": "ipython",
    "version": 3
   },
   "file_extension": ".py",
   "mimetype": "text/x-python",
   "name": "python",
   "nbconvert_exporter": "python",
   "pygments_lexer": "ipython3",
   "version": "3.7.3"
  }
 },
 "nbformat": 4,
 "nbformat_minor": 4
}
