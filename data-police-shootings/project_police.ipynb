{
 "cells": [
  {
   "cell_type": "code",
   "execution_count": 1,
   "metadata": {},
   "outputs": [
    {
     "name": "stderr",
     "output_type": "stream",
     "text": [
      "C:\\Users\\Utilizador\\Anaconda3\\lib\\site-packages\\pandas\\compat\\_optional.py:138: UserWarning: Pandas requires version '2.7.0' or newer of 'numexpr' (version '2.6.9' currently installed).\n",
      "  warnings.warn(msg, UserWarning)\n"
     ]
    }
   ],
   "source": [
    "import pandas as pd\n",
    "import numpy as np\n",
    "import matplotlib.pyplot as plt\n",
    "import seaborn as sns\n"
   ]
  },
  {
   "cell_type": "code",
   "execution_count": 2,
   "metadata": {},
   "outputs": [
    {
     "data": {
      "text/html": [
       "<div>\n",
       "<style scoped>\n",
       "    .dataframe tbody tr th:only-of-type {\n",
       "        vertical-align: middle;\n",
       "    }\n",
       "\n",
       "    .dataframe tbody tr th {\n",
       "        vertical-align: top;\n",
       "    }\n",
       "\n",
       "    .dataframe thead th {\n",
       "        text-align: right;\n",
       "    }\n",
       "</style>\n",
       "<table border=\"1\" class=\"dataframe\">\n",
       "  <thead>\n",
       "    <tr style=\"text-align: right;\">\n",
       "      <th></th>\n",
       "      <th>id</th>\n",
       "      <th>name</th>\n",
       "      <th>date</th>\n",
       "      <th>manner_of_death</th>\n",
       "      <th>armed</th>\n",
       "      <th>age</th>\n",
       "      <th>gender</th>\n",
       "      <th>race</th>\n",
       "      <th>city</th>\n",
       "      <th>state</th>\n",
       "      <th>signs_of_mental_illness</th>\n",
       "      <th>threat_level</th>\n",
       "      <th>flee</th>\n",
       "      <th>body_camera</th>\n",
       "      <th>longitude</th>\n",
       "      <th>latitude</th>\n",
       "      <th>is_geocoding_exact</th>\n",
       "    </tr>\n",
       "  </thead>\n",
       "  <tbody>\n",
       "    <tr>\n",
       "      <th>0</th>\n",
       "      <td>3</td>\n",
       "      <td>Tim Elliot</td>\n",
       "      <td>2015-01-02</td>\n",
       "      <td>shot</td>\n",
       "      <td>gun</td>\n",
       "      <td>53.0</td>\n",
       "      <td>M</td>\n",
       "      <td>A</td>\n",
       "      <td>Shelton</td>\n",
       "      <td>WA</td>\n",
       "      <td>True</td>\n",
       "      <td>attack</td>\n",
       "      <td>Not fleeing</td>\n",
       "      <td>False</td>\n",
       "      <td>-123.122</td>\n",
       "      <td>47.247</td>\n",
       "      <td>True</td>\n",
       "    </tr>\n",
       "    <tr>\n",
       "      <th>1</th>\n",
       "      <td>4</td>\n",
       "      <td>Lewis Lee Lembke</td>\n",
       "      <td>2015-01-02</td>\n",
       "      <td>shot</td>\n",
       "      <td>gun</td>\n",
       "      <td>47.0</td>\n",
       "      <td>M</td>\n",
       "      <td>W</td>\n",
       "      <td>Aloha</td>\n",
       "      <td>OR</td>\n",
       "      <td>False</td>\n",
       "      <td>attack</td>\n",
       "      <td>Not fleeing</td>\n",
       "      <td>False</td>\n",
       "      <td>-122.892</td>\n",
       "      <td>45.487</td>\n",
       "      <td>True</td>\n",
       "    </tr>\n",
       "    <tr>\n",
       "      <th>2</th>\n",
       "      <td>5</td>\n",
       "      <td>John Paul Quintero</td>\n",
       "      <td>2015-01-03</td>\n",
       "      <td>shot and Tasered</td>\n",
       "      <td>unarmed</td>\n",
       "      <td>23.0</td>\n",
       "      <td>M</td>\n",
       "      <td>H</td>\n",
       "      <td>Wichita</td>\n",
       "      <td>KS</td>\n",
       "      <td>False</td>\n",
       "      <td>other</td>\n",
       "      <td>Not fleeing</td>\n",
       "      <td>False</td>\n",
       "      <td>-97.281</td>\n",
       "      <td>37.695</td>\n",
       "      <td>True</td>\n",
       "    </tr>\n",
       "    <tr>\n",
       "      <th>3</th>\n",
       "      <td>8</td>\n",
       "      <td>Matthew Hoffman</td>\n",
       "      <td>2015-01-04</td>\n",
       "      <td>shot</td>\n",
       "      <td>toy weapon</td>\n",
       "      <td>32.0</td>\n",
       "      <td>M</td>\n",
       "      <td>W</td>\n",
       "      <td>San Francisco</td>\n",
       "      <td>CA</td>\n",
       "      <td>True</td>\n",
       "      <td>attack</td>\n",
       "      <td>Not fleeing</td>\n",
       "      <td>False</td>\n",
       "      <td>-122.422</td>\n",
       "      <td>37.763</td>\n",
       "      <td>True</td>\n",
       "    </tr>\n",
       "    <tr>\n",
       "      <th>4</th>\n",
       "      <td>9</td>\n",
       "      <td>Michael Rodriguez</td>\n",
       "      <td>2015-01-04</td>\n",
       "      <td>shot</td>\n",
       "      <td>nail gun</td>\n",
       "      <td>39.0</td>\n",
       "      <td>M</td>\n",
       "      <td>H</td>\n",
       "      <td>Evans</td>\n",
       "      <td>CO</td>\n",
       "      <td>False</td>\n",
       "      <td>attack</td>\n",
       "      <td>Not fleeing</td>\n",
       "      <td>False</td>\n",
       "      <td>-104.692</td>\n",
       "      <td>40.384</td>\n",
       "      <td>True</td>\n",
       "    </tr>\n",
       "  </tbody>\n",
       "</table>\n",
       "</div>"
      ],
      "text/plain": [
       "   id                name        date   manner_of_death       armed   age  \\\n",
       "0   3          Tim Elliot  2015-01-02              shot         gun  53.0   \n",
       "1   4    Lewis Lee Lembke  2015-01-02              shot         gun  47.0   \n",
       "2   5  John Paul Quintero  2015-01-03  shot and Tasered     unarmed  23.0   \n",
       "3   8     Matthew Hoffman  2015-01-04              shot  toy weapon  32.0   \n",
       "4   9   Michael Rodriguez  2015-01-04              shot    nail gun  39.0   \n",
       "\n",
       "  gender race           city state  signs_of_mental_illness threat_level  \\\n",
       "0      M    A        Shelton    WA                     True       attack   \n",
       "1      M    W          Aloha    OR                    False       attack   \n",
       "2      M    H        Wichita    KS                    False        other   \n",
       "3      M    W  San Francisco    CA                     True       attack   \n",
       "4      M    H          Evans    CO                    False       attack   \n",
       "\n",
       "          flee  body_camera  longitude  latitude  is_geocoding_exact  \n",
       "0  Not fleeing        False   -123.122    47.247                True  \n",
       "1  Not fleeing        False   -122.892    45.487                True  \n",
       "2  Not fleeing        False    -97.281    37.695                True  \n",
       "3  Not fleeing        False   -122.422    37.763                True  \n",
       "4  Not fleeing        False   -104.692    40.384                True  "
      ]
     },
     "execution_count": 2,
     "metadata": {},
     "output_type": "execute_result"
    }
   ],
   "source": [
    "police = pd.read_csv('fatal-police-shootings-data.csv')\n",
    "police.head()"
   ]
  },
  {
   "cell_type": "markdown",
   "metadata": {},
   "source": [
    "### Dataset Exploration"
   ]
  },
  {
   "cell_type": "code",
   "execution_count": 3,
   "metadata": {},
   "outputs": [],
   "source": [
    "police2=police.copy()"
   ]
  },
  {
   "cell_type": "code",
   "execution_count": 4,
   "metadata": {},
   "outputs": [
    {
     "data": {
      "text/plain": [
       "(7110, 17)"
      ]
     },
     "execution_count": 4,
     "metadata": {},
     "output_type": "execute_result"
    }
   ],
   "source": [
    "police2.shape"
   ]
  },
  {
   "cell_type": "code",
   "execution_count": 5,
   "metadata": {},
   "outputs": [
    {
     "data": {
      "text/plain": [
       "id                           int64\n",
       "name                        object\n",
       "date                        object\n",
       "manner_of_death             object\n",
       "armed                       object\n",
       "age                        float64\n",
       "gender                      object\n",
       "race                        object\n",
       "city                        object\n",
       "state                       object\n",
       "signs_of_mental_illness       bool\n",
       "threat_level                object\n",
       "flee                        object\n",
       "body_camera                   bool\n",
       "longitude                  float64\n",
       "latitude                   float64\n",
       "is_geocoding_exact            bool\n",
       "dtype: object"
      ]
     },
     "execution_count": 5,
     "metadata": {},
     "output_type": "execute_result"
    }
   ],
   "source": [
    "police2.dtypes"
   ]
  },
  {
   "cell_type": "code",
   "execution_count": 6,
   "metadata": {},
   "outputs": [
    {
     "data": {
      "text/plain": [
       "id                            0\n",
       "name                        324\n",
       "date                          0\n",
       "manner_of_death               0\n",
       "armed                       209\n",
       "age                         380\n",
       "gender                        5\n",
       "race                       1171\n",
       "city                          0\n",
       "state                         0\n",
       "signs_of_mental_illness       0\n",
       "threat_level                  0\n",
       "flee                        595\n",
       "body_camera                   0\n",
       "longitude                   683\n",
       "latitude                    683\n",
       "is_geocoding_exact            0\n",
       "dtype: int64"
      ]
     },
     "execution_count": 6,
     "metadata": {},
     "output_type": "execute_result"
    }
   ],
   "source": [
    "police2.isnull().sum()"
   ]
  },
  {
   "cell_type": "code",
   "execution_count": 127,
   "metadata": {},
   "outputs": [],
   "source": [
    "# drop rows with 'race' null\n",
    "police2=police2[police2['race'].notna()]"
   ]
  },
  {
   "cell_type": "code",
   "execution_count": null,
   "metadata": {},
   "outputs": [],
   "source": [
    "# lets group 'others' and 'native american' in the same column\n",
    "police2['race'].replace({'N':'O'},inplace=True)"
   ]
  },
  {
   "cell_type": "code",
   "execution_count": 145,
   "metadata": {},
   "outputs": [],
   "source": [
    "#police2.groupby('race').agg({'id':'count'})\n",
    "#plt.bar(x=police2['race'].value_counts().index, height=police2['race'].value_counts().values)\n",
    "#plt.show()"
   ]
  },
  {
   "cell_type": "code",
   "execution_count": 157,
   "metadata": {},
   "outputs": [
    {
     "data": {
      "text/html": [
       "<div>\n",
       "<style scoped>\n",
       "    .dataframe tbody tr th:only-of-type {\n",
       "        vertical-align: middle;\n",
       "    }\n",
       "\n",
       "    .dataframe tbody tr th {\n",
       "        vertical-align: top;\n",
       "    }\n",
       "\n",
       "    .dataframe thead th {\n",
       "        text-align: right;\n",
       "    }\n",
       "</style>\n",
       "<table border=\"1\" class=\"dataframe\">\n",
       "  <thead>\n",
       "    <tr style=\"text-align: right;\">\n",
       "      <th></th>\n",
       "      <th>race</th>\n",
       "      <th>0</th>\n",
       "    </tr>\n",
       "  </thead>\n",
       "  <tbody>\n",
       "    <tr>\n",
       "      <th>0</th>\n",
       "      <td>A</td>\n",
       "      <td>1.8</td>\n",
       "    </tr>\n",
       "    <tr>\n",
       "      <th>1</th>\n",
       "      <td>B</td>\n",
       "      <td>26.8</td>\n",
       "    </tr>\n",
       "    <tr>\n",
       "      <th>2</th>\n",
       "      <td>H</td>\n",
       "      <td>18.3</td>\n",
       "    </tr>\n",
       "    <tr>\n",
       "      <th>3</th>\n",
       "      <td>O</td>\n",
       "      <td>2.3</td>\n",
       "    </tr>\n",
       "    <tr>\n",
       "      <th>4</th>\n",
       "      <td>W</td>\n",
       "      <td>50.8</td>\n",
       "    </tr>\n",
       "  </tbody>\n",
       "</table>\n",
       "</div>"
      ],
      "text/plain": [
       "  race     0\n",
       "0    A   1.8\n",
       "1    B  26.8\n",
       "2    H  18.3\n",
       "3    O   2.3\n",
       "4    W  50.8"
      ]
     },
     "execution_count": 157,
     "metadata": {},
     "output_type": "execute_result"
    }
   ],
   "source": [
    "police2_new=police2.groupby('race').apply(lambda x : x['id'].count()/len(police2)*100).reset_index().round(1)\n",
    "police2_new"
   ]
  },
  {
   "cell_type": "code",
   "execution_count": 158,
   "metadata": {},
   "outputs": [],
   "source": [
    "police2_new.rename(columns={'race':'Race',0:'Quantity'},inplace=True)"
   ]
  },
  {
   "cell_type": "code",
   "execution_count": 163,
   "metadata": {},
   "outputs": [],
   "source": [
    "police2_new.sort_values(by='Quantity',ascending=False,inplace=True)"
   ]
  },
  {
   "cell_type": "code",
   "execution_count": 165,
   "metadata": {},
   "outputs": [
    {
     "data": {
      "image/png": "[encoded data removed]",
      "text/plain": [
       "<Figure size 432x288 with 1 Axes>"
      ]
     },
     "metadata": {
      "needs_background": "light"
     },
     "output_type": "display_data"
    }
   ],
   "source": [
    "plt.bar(police2_new['Race'],police2_new['Quantity'])\n",
    "plt.xlabel('Race')\n",
    "plt.ylabel('% Kills')\n",
    "plt.title('% Kills caused by police Officer by victim race')\n",
    "plt.show()"
   ]
  },
  {
   "cell_type": "markdown",
   "metadata": {},
   "source": [
    "### Now lets normalize the data using the percentage of population of usa by race"
   ]
  },
  {
   "cell_type": "code",
   "execution_count": 254,
   "metadata": {},
   "outputs": [
    {
     "data": {
      "text/html": [
       "<div>\n",
       "<style scoped>\n",
       "    .dataframe tbody tr th:only-of-type {\n",
       "        vertical-align: middle;\n",
       "    }\n",
       "\n",
       "    .dataframe tbody tr th {\n",
       "        vertical-align: top;\n",
       "    }\n",
       "\n",
       "    .dataframe thead th {\n",
       "        text-align: right;\n",
       "    }\n",
       "</style>\n",
       "<table border=\"1\" class=\"dataframe\">\n",
       "  <thead>\n",
       "    <tr style=\"text-align: right;\">\n",
       "      <th></th>\n",
       "      <th>Race</th>\n",
       "      <th>Quantity</th>\n",
       "      <th>Percentage_race_total</th>\n",
       "    </tr>\n",
       "  </thead>\n",
       "  <tbody>\n",
       "    <tr>\n",
       "      <th>4</th>\n",
       "      <td>W</td>\n",
       "      <td>50.8</td>\n",
       "      <td>57.8</td>\n",
       "    </tr>\n",
       "    <tr>\n",
       "      <th>1</th>\n",
       "      <td>B</td>\n",
       "      <td>26.8</td>\n",
       "      <td>18.7</td>\n",
       "    </tr>\n",
       "    <tr>\n",
       "      <th>2</th>\n",
       "      <td>H</td>\n",
       "      <td>18.3</td>\n",
       "      <td>12.1</td>\n",
       "    </tr>\n",
       "    <tr>\n",
       "      <th>3</th>\n",
       "      <td>O</td>\n",
       "      <td>2.3</td>\n",
       "      <td>5.9</td>\n",
       "    </tr>\n",
       "    <tr>\n",
       "      <th>0</th>\n",
       "      <td>A</td>\n",
       "      <td>1.8</td>\n",
       "      <td>5.0</td>\n",
       "    </tr>\n",
       "  </tbody>\n",
       "</table>\n",
       "</div>"
      ],
      "text/plain": [
       "  Race  Quantity  Percentage_race_total\n",
       "4    W      50.8                   57.8\n",
       "1    B      26.8                   18.7\n",
       "2    H      18.3                   12.1\n",
       "3    O       2.3                    5.9\n",
       "0    A       1.8                    5.0"
      ]
     },
     "execution_count": 254,
     "metadata": {},
     "output_type": "execute_result"
    }
   ],
   "source": [
    "police2_new['Percentage_race_total']=[57.8,18.7,12.1,5.9,5.0]\n",
    "police2_new"
   ]
  },
  {
   "cell_type": "code",
   "execution_count": 257,
   "metadata": {},
   "outputs": [
    {
     "data": {
      "text/html": [
       "<div>\n",
       "<style scoped>\n",
       "    .dataframe tbody tr th:only-of-type {\n",
       "        vertical-align: middle;\n",
       "    }\n",
       "\n",
       "    .dataframe tbody tr th {\n",
       "        vertical-align: top;\n",
       "    }\n",
       "\n",
       "    .dataframe thead th {\n",
       "        text-align: right;\n",
       "    }\n",
       "</style>\n",
       "<table border=\"1\" class=\"dataframe\">\n",
       "  <thead>\n",
       "    <tr style=\"text-align: right;\">\n",
       "      <th></th>\n",
       "      <th>Race</th>\n",
       "      <th>% race knowing was killed</th>\n",
       "      <th>%_race_total</th>\n",
       "    </tr>\n",
       "  </thead>\n",
       "  <tbody>\n",
       "    <tr>\n",
       "      <th>4</th>\n",
       "      <td>W</td>\n",
       "      <td>50.8</td>\n",
       "      <td>57.8</td>\n",
       "    </tr>\n",
       "    <tr>\n",
       "      <th>1</th>\n",
       "      <td>B</td>\n",
       "      <td>26.8</td>\n",
       "      <td>18.7</td>\n",
       "    </tr>\n",
       "    <tr>\n",
       "      <th>2</th>\n",
       "      <td>H</td>\n",
       "      <td>18.3</td>\n",
       "      <td>12.1</td>\n",
       "    </tr>\n",
       "    <tr>\n",
       "      <th>3</th>\n",
       "      <td>O</td>\n",
       "      <td>2.3</td>\n",
       "      <td>5.9</td>\n",
       "    </tr>\n",
       "    <tr>\n",
       "      <th>0</th>\n",
       "      <td>A</td>\n",
       "      <td>1.8</td>\n",
       "      <td>5.0</td>\n",
       "    </tr>\n",
       "  </tbody>\n",
       "</table>\n",
       "</div>"
      ],
      "text/plain": [
       "  Race  % race knowing was killed  %_race_total\n",
       "4    W                       50.8          57.8\n",
       "1    B                       26.8          18.7\n",
       "2    H                       18.3          12.1\n",
       "3    O                        2.3           5.9\n",
       "0    A                        1.8           5.0"
      ]
     },
     "execution_count": 257,
     "metadata": {},
     "output_type": "execute_result"
    }
   ],
   "source": [
    "police2_new.rename(columns={'Quantity':'%_race_knowing_was_killed','Percentage_race_total':'%_race_total'}, inplace=True)\n",
    "police2_new"
   ]
  },
  {
   "cell_type": "code",
   "execution_count": 258,
   "metadata": {},
   "outputs": [],
   "source": [
    "police2_new['%_killed_knowing_race']=police2_new['% race knowing was killed']/police2_new['%_race_total']"
   ]
  },
  {
   "cell_type": "code",
   "execution_count": 259,
   "metadata": {},
   "outputs": [
    {
     "data": {
      "text/html": [
       "<div>\n",
       "<style scoped>\n",
       "    .dataframe tbody tr th:only-of-type {\n",
       "        vertical-align: middle;\n",
       "    }\n",
       "\n",
       "    .dataframe tbody tr th {\n",
       "        vertical-align: top;\n",
       "    }\n",
       "\n",
       "    .dataframe thead th {\n",
       "        text-align: right;\n",
       "    }\n",
       "</style>\n",
       "<table border=\"1\" class=\"dataframe\">\n",
       "  <thead>\n",
       "    <tr style=\"text-align: right;\">\n",
       "      <th></th>\n",
       "      <th>Race</th>\n",
       "      <th>% race knowing was killed</th>\n",
       "      <th>%_race_total</th>\n",
       "      <th>%_killed_knowing_race</th>\n",
       "      <th>%_killed_knowing_race_norm</th>\n",
       "    </tr>\n",
       "  </thead>\n",
       "  <tbody>\n",
       "    <tr>\n",
       "      <th>4</th>\n",
       "      <td>W</td>\n",
       "      <td>50.8</td>\n",
       "      <td>57.8</td>\n",
       "      <td>0.878893</td>\n",
       "      <td>0.192138</td>\n",
       "    </tr>\n",
       "    <tr>\n",
       "      <th>1</th>\n",
       "      <td>B</td>\n",
       "      <td>26.8</td>\n",
       "      <td>18.7</td>\n",
       "      <td>1.433155</td>\n",
       "      <td>0.313308</td>\n",
       "    </tr>\n",
       "    <tr>\n",
       "      <th>2</th>\n",
       "      <td>H</td>\n",
       "      <td>18.3</td>\n",
       "      <td>12.1</td>\n",
       "      <td>1.512397</td>\n",
       "      <td>0.330631</td>\n",
       "    </tr>\n",
       "    <tr>\n",
       "      <th>3</th>\n",
       "      <td>O</td>\n",
       "      <td>2.3</td>\n",
       "      <td>5.9</td>\n",
       "      <td>0.389831</td>\n",
       "      <td>0.085222</td>\n",
       "    </tr>\n",
       "    <tr>\n",
       "      <th>0</th>\n",
       "      <td>A</td>\n",
       "      <td>1.8</td>\n",
       "      <td>5.0</td>\n",
       "      <td>0.360000</td>\n",
       "      <td>0.078701</td>\n",
       "    </tr>\n",
       "  </tbody>\n",
       "</table>\n",
       "</div>"
      ],
      "text/plain": [
       "  Race  % race knowing was killed  %_race_total  %_killed_knowing_race  \\\n",
       "4    W                       50.8          57.8               0.878893   \n",
       "1    B                       26.8          18.7               1.433155   \n",
       "2    H                       18.3          12.1               1.512397   \n",
       "3    O                        2.3           5.9               0.389831   \n",
       "0    A                        1.8           5.0               0.360000   \n",
       "\n",
       "   %_killed_knowing_race_norm  \n",
       "4                    0.192138  \n",
       "1                    0.313308  \n",
       "2                    0.330631  \n",
       "3                    0.085222  \n",
       "0                    0.078701  "
      ]
     },
     "execution_count": 259,
     "metadata": {},
     "output_type": "execute_result"
    }
   ],
   "source": [
    "police2_new['%_killed_knowing_race_norm']=police2_new['%_killed_knowing_race']/police2_new['%_killed_knowing_race'].sum()\n",
    "police2_new"
   ]
  },
  {
   "cell_type": "code",
   "execution_count": 261,
   "metadata": {},
   "outputs": [
    {
     "data": {
      "image/png": "[encoded data removed]",
      "text/plain": [
       "<Figure size 864x432 with 1 Axes>"
      ]
     },
     "metadata": {
      "needs_background": "light"
     },
     "output_type": "display_data"
    }
   ],
   "source": [
    "plt.figure(figsize=(12,6))\n",
    "plt.bar(police2_new['Race'], police2_new['%_killed_knowing_race_norm'],width=0.4)\n",
    "#plt.legend(ncol=2)\n",
    "plt.title('Probability of being killed being from x race')\n",
    "plt.show()"
   ]
  },
  {
   "cell_type": "code",
   "execution_count": null,
   "metadata": {},
   "outputs": [],
   "source": []
  },
  {
   "cell_type": "code",
   "execution_count": null,
   "metadata": {},
   "outputs": [],
   "source": []
  },
  {
   "cell_type": "code",
   "execution_count": null,
   "metadata": {},
   "outputs": [],
   "source": []
  },
  {
   "cell_type": "markdown",
   "metadata": {},
   "source": [
    "### Race_Poverty dataset -> Compare Poverty_race with kills_race"
   ]
  },
  {
   "cell_type": "code",
   "execution_count": 265,
   "metadata": {},
   "outputs": [],
   "source": [
    "race = pd.read_excel('poverty_race_2.xlsx')"
   ]
  },
  {
   "cell_type": "code",
   "execution_count": 266,
   "metadata": {},
   "outputs": [
    {
     "data": {
      "text/html": [
       "<div>\n",
       "<style scoped>\n",
       "    .dataframe tbody tr th:only-of-type {\n",
       "        vertical-align: middle;\n",
       "    }\n",
       "\n",
       "    .dataframe tbody tr th {\n",
       "        vertical-align: top;\n",
       "    }\n",
       "\n",
       "    .dataframe thead th {\n",
       "        text-align: right;\n",
       "    }\n",
       "</style>\n",
       "<table border=\"1\" class=\"dataframe\">\n",
       "  <thead>\n",
       "    <tr style=\"text-align: right;\">\n",
       "      <th></th>\n",
       "      <th>Year</th>\n",
       "      <th>Total</th>\n",
       "      <th>White alone (22)</th>\n",
       "      <th>White alone, not Hispanic (22)</th>\n",
       "      <th>Black alone or in combination</th>\n",
       "      <th>Black alone (24)</th>\n",
       "      <th>Asian alone or in combination</th>\n",
       "      <th>Asian alone (25)</th>\n",
       "      <th>Hispanic (any race) (26)</th>\n",
       "    </tr>\n",
       "  </thead>\n",
       "  <tbody>\n",
       "    <tr>\n",
       "      <th>0</th>\n",
       "      <td>2020</td>\n",
       "      <td>37247.0</td>\n",
       "      <td>25007</td>\n",
       "      <td>15942</td>\n",
       "      <td>9219</td>\n",
       "      <td>8472</td>\n",
       "      <td>1808</td>\n",
       "      <td>1629</td>\n",
       "      <td>10409</td>\n",
       "    </tr>\n",
       "    <tr>\n",
       "      <th>1</th>\n",
       "      <td>2019</td>\n",
       "      <td>33984.0</td>\n",
       "      <td>22512</td>\n",
       "      <td>14152</td>\n",
       "      <td>8836</td>\n",
       "      <td>8073</td>\n",
       "      <td>1588</td>\n",
       "      <td>1464</td>\n",
       "      <td>9545</td>\n",
       "    </tr>\n",
       "  </tbody>\n",
       "</table>\n",
       "</div>"
      ],
      "text/plain": [
       "   Year    Total White alone (22) White alone, not Hispanic (22)  \\\n",
       "0  2020  37247.0            25007                          15942   \n",
       "1  2019  33984.0            22512                          14152   \n",
       "\n",
       "  Black alone or in combination Black alone (24)  \\\n",
       "0                          9219             8472   \n",
       "1                          8836             8073   \n",
       "\n",
       "  Asian alone or in combination Asian alone (25) Hispanic (any race) (26)  \n",
       "0                          1808             1629                    10409  \n",
       "1                          1588             1464                     9545  "
      ]
     },
     "execution_count": 266,
     "metadata": {},
     "output_type": "execute_result"
    }
   ],
   "source": [
    "race.head(2)"
   ]
  },
  {
   "cell_type": "code",
   "execution_count": 267,
   "metadata": {},
   "outputs": [],
   "source": [
    "# until 2002 we have all values. Before 2002 there are missing values so i'll filter that dataset\n",
    "# to have only values until 2002\n",
    "race=race[:21]"
   ]
  },
  {
   "cell_type": "code",
   "execution_count": 268,
   "metadata": {},
   "outputs": [],
   "source": [
    "# Keep only columns that are 'race' alone\n",
    "race = race.drop(columns=['White alone (22)', 'Black alone or in combination','Asian alone or in combination'])\n",
    "race=race.astype({'Total':'int32','White alone, not Hispanic (22)':'int32','Black alone (24)':'int32','Asian alone (25)':'int32','Hispanic (any race) (26)':'int32'})"
   ]
  },
  {
   "cell_type": "code",
   "execution_count": 269,
   "metadata": {},
   "outputs": [
    {
     "data": {
      "text/plain": [
       "Year                              object\n",
       "Total                              int32\n",
       "White alone, not Hispanic (22)     int32\n",
       "Black alone (24)                   int32\n",
       "Asian alone (25)                   int32\n",
       "Hispanic (any race) (26)           int32\n",
       "dtype: object"
      ]
     },
     "execution_count": 269,
     "metadata": {},
     "output_type": "execute_result"
    }
   ],
   "source": [
    "race.dtypes"
   ]
  },
  {
   "cell_type": "code",
   "execution_count": 271,
   "metadata": {},
   "outputs": [
    {
     "data": {
      "text/html": [
       "<div>\n",
       "<style scoped>\n",
       "    .dataframe tbody tr th:only-of-type {\n",
       "        vertical-align: middle;\n",
       "    }\n",
       "\n",
       "    .dataframe tbody tr th {\n",
       "        vertical-align: top;\n",
       "    }\n",
       "\n",
       "    .dataframe thead th {\n",
       "        text-align: right;\n",
       "    }\n",
       "</style>\n",
       "<table border=\"1\" class=\"dataframe\">\n",
       "  <thead>\n",
       "    <tr style=\"text-align: right;\">\n",
       "      <th></th>\n",
       "      <th>Year</th>\n",
       "      <th>Total</th>\n",
       "      <th>White alone, not Hispanic (22)</th>\n",
       "      <th>Black alone (24)</th>\n",
       "      <th>Asian alone (25)</th>\n",
       "      <th>Hispanic (any race) (26)</th>\n",
       "      <th>Total_2</th>\n",
       "      <th>Other</th>\n",
       "    </tr>\n",
       "  </thead>\n",
       "  <tbody>\n",
       "    <tr>\n",
       "      <th>0</th>\n",
       "      <td>2020</td>\n",
       "      <td>37247</td>\n",
       "      <td>15942</td>\n",
       "      <td>8472</td>\n",
       "      <td>1629</td>\n",
       "      <td>10409</td>\n",
       "      <td>36452</td>\n",
       "      <td>795</td>\n",
       "    </tr>\n",
       "    <tr>\n",
       "      <th>1</th>\n",
       "      <td>2019</td>\n",
       "      <td>33984</td>\n",
       "      <td>14152</td>\n",
       "      <td>8073</td>\n",
       "      <td>1464</td>\n",
       "      <td>9545</td>\n",
       "      <td>33234</td>\n",
       "      <td>750</td>\n",
       "    </tr>\n",
       "    <tr>\n",
       "      <th>2</th>\n",
       "      <td>2018</td>\n",
       "      <td>38146</td>\n",
       "      <td>15725</td>\n",
       "      <td>8884</td>\n",
       "      <td>1996</td>\n",
       "      <td>10526</td>\n",
       "      <td>37131</td>\n",
       "      <td>1015</td>\n",
       "    </tr>\n",
       "    <tr>\n",
       "      <th>3</th>\n",
       "      <td>2017 (1)</td>\n",
       "      <td>39564</td>\n",
       "      <td>16619</td>\n",
       "      <td>9224</td>\n",
       "      <td>1891</td>\n",
       "      <td>10816</td>\n",
       "      <td>38550</td>\n",
       "      <td>1014</td>\n",
       "    </tr>\n",
       "    <tr>\n",
       "      <th>4</th>\n",
       "      <td>2017</td>\n",
       "      <td>39698</td>\n",
       "      <td>16993</td>\n",
       "      <td>8993</td>\n",
       "      <td>1953</td>\n",
       "      <td>10790</td>\n",
       "      <td>38729</td>\n",
       "      <td>969</td>\n",
       "    </tr>\n",
       "  </tbody>\n",
       "</table>\n",
       "</div>"
      ],
      "text/plain": [
       "       Year  Total  White alone, not Hispanic (22)  Black alone (24)  \\\n",
       "0      2020  37247                           15942              8472   \n",
       "1      2019  33984                           14152              8073   \n",
       "2      2018  38146                           15725              8884   \n",
       "3  2017 (1)  39564                           16619              9224   \n",
       "4      2017  39698                           16993              8993   \n",
       "\n",
       "   Asian alone (25)  Hispanic (any race) (26)  Total_2  Other  \n",
       "0              1629                     10409    36452    795  \n",
       "1              1464                      9545    33234    750  \n",
       "2              1996                     10526    37131   1015  \n",
       "3              1891                     10816    38550   1014  \n",
       "4              1953                     10790    38729    969  "
      ]
     },
     "execution_count": 271,
     "metadata": {},
     "output_type": "execute_result"
    }
   ],
   "source": [
    "race['Total_2']=race.loc[:,'White alone, not Hispanic (22)':'Hispanic (any race) (26)'].sum(axis=1)\n",
    "race['Other']=race['Total']-race['Total_2']\n",
    "race.head()"
   ]
  },
  {
   "cell_type": "code",
   "execution_count": 272,
   "metadata": {},
   "outputs": [],
   "source": [
    "race.drop(columns=['Total_2'], inplace=True)\n",
    "race.rename(columns={'White alone, not Hispanic (22)':'W','Black alone (24)':'B','Asian alone (25)':'A','Hispanic (any race) (26)':'H','Other':'O'},inplace=True)"
   ]
  },
  {
   "cell_type": "code",
   "execution_count": 273,
   "metadata": {},
   "outputs": [
    {
     "data": {
      "text/html": [
       "<div>\n",
       "<style scoped>\n",
       "    .dataframe tbody tr th:only-of-type {\n",
       "        vertical-align: middle;\n",
       "    }\n",
       "\n",
       "    .dataframe tbody tr th {\n",
       "        vertical-align: top;\n",
       "    }\n",
       "\n",
       "    .dataframe thead th {\n",
       "        text-align: right;\n",
       "    }\n",
       "</style>\n",
       "<table border=\"1\" class=\"dataframe\">\n",
       "  <thead>\n",
       "    <tr style=\"text-align: right;\">\n",
       "      <th></th>\n",
       "      <th>Year</th>\n",
       "      <th>Total</th>\n",
       "      <th>W</th>\n",
       "      <th>B</th>\n",
       "      <th>A</th>\n",
       "      <th>H</th>\n",
       "      <th>O</th>\n",
       "    </tr>\n",
       "  </thead>\n",
       "  <tbody>\n",
       "    <tr>\n",
       "      <th>0</th>\n",
       "      <td>2020</td>\n",
       "      <td>37247</td>\n",
       "      <td>15942</td>\n",
       "      <td>8472</td>\n",
       "      <td>1629</td>\n",
       "      <td>10409</td>\n",
       "      <td>795</td>\n",
       "    </tr>\n",
       "    <tr>\n",
       "      <th>1</th>\n",
       "      <td>2019</td>\n",
       "      <td>33984</td>\n",
       "      <td>14152</td>\n",
       "      <td>8073</td>\n",
       "      <td>1464</td>\n",
       "      <td>9545</td>\n",
       "      <td>750</td>\n",
       "    </tr>\n",
       "  </tbody>\n",
       "</table>\n",
       "</div>"
      ],
      "text/plain": [
       "   Year  Total      W     B     A      H    O\n",
       "0  2020  37247  15942  8472  1629  10409  795\n",
       "1  2019  33984  14152  8073  1464   9545  750"
      ]
     },
     "execution_count": 273,
     "metadata": {},
     "output_type": "execute_result"
    }
   ],
   "source": [
    "race.head(2)"
   ]
  },
  {
   "cell_type": "code",
   "execution_count": 274,
   "metadata": {},
   "outputs": [
    {
     "data": {
      "text/html": [
       "<div>\n",
       "<style scoped>\n",
       "    .dataframe tbody tr th:only-of-type {\n",
       "        vertical-align: middle;\n",
       "    }\n",
       "\n",
       "    .dataframe tbody tr th {\n",
       "        vertical-align: top;\n",
       "    }\n",
       "\n",
       "    .dataframe thead th {\n",
       "        text-align: right;\n",
       "    }\n",
       "</style>\n",
       "<table border=\"1\" class=\"dataframe\">\n",
       "  <thead>\n",
       "    <tr style=\"text-align: right;\">\n",
       "      <th></th>\n",
       "      <th>Year</th>\n",
       "      <th>Total</th>\n",
       "      <th>Race</th>\n",
       "      <th>Quantity</th>\n",
       "    </tr>\n",
       "  </thead>\n",
       "  <tbody>\n",
       "    <tr>\n",
       "      <th>0</th>\n",
       "      <td>2020</td>\n",
       "      <td>37247</td>\n",
       "      <td>W</td>\n",
       "      <td>15942</td>\n",
       "    </tr>\n",
       "    <tr>\n",
       "      <th>1</th>\n",
       "      <td>2019</td>\n",
       "      <td>33984</td>\n",
       "      <td>W</td>\n",
       "      <td>14152</td>\n",
       "    </tr>\n",
       "    <tr>\n",
       "      <th>2</th>\n",
       "      <td>2018</td>\n",
       "      <td>38146</td>\n",
       "      <td>W</td>\n",
       "      <td>15725</td>\n",
       "    </tr>\n",
       "    <tr>\n",
       "      <th>3</th>\n",
       "      <td>2017 (1)</td>\n",
       "      <td>39564</td>\n",
       "      <td>W</td>\n",
       "      <td>16619</td>\n",
       "    </tr>\n",
       "    <tr>\n",
       "      <th>4</th>\n",
       "      <td>2017</td>\n",
       "      <td>39698</td>\n",
       "      <td>W</td>\n",
       "      <td>16993</td>\n",
       "    </tr>\n",
       "  </tbody>\n",
       "</table>\n",
       "</div>"
      ],
      "text/plain": [
       "       Year  Total Race  Quantity\n",
       "0      2020  37247    W     15942\n",
       "1      2019  33984    W     14152\n",
       "2      2018  38146    W     15725\n",
       "3  2017 (1)  39564    W     16619\n",
       "4      2017  39698    W     16993"
      ]
     },
     "execution_count": 274,
     "metadata": {},
     "output_type": "execute_result"
    }
   ],
   "source": [
    "columns = ['Year', 'Total']\n",
    "race = pd.melt(race,columns, var_name='Race', value_name='Quantity')\n",
    "race.head()"
   ]
  },
  {
   "cell_type": "code",
   "execution_count": 277,
   "metadata": {},
   "outputs": [
    {
     "data": {
      "text/plain": [
       "Year        0\n",
       "Total       0\n",
       "Race        0\n",
       "Quantity    0\n",
       "dtype: int64"
      ]
     },
     "execution_count": 277,
     "metadata": {},
     "output_type": "execute_result"
    }
   ],
   "source": [
    "race.isnull().sum()"
   ]
  },
  {
   "cell_type": "code",
   "execution_count": 278,
   "metadata": {},
   "outputs": [
    {
     "data": {
      "text/plain": [
       "Year        object\n",
       "Total        int32\n",
       "Race        object\n",
       "Quantity     int64\n",
       "dtype: object"
      ]
     },
     "execution_count": 278,
     "metadata": {},
     "output_type": "execute_result"
    }
   ],
   "source": [
    "# need to change the 'quantity' type to int\n",
    "race.dtypes"
   ]
  },
  {
   "cell_type": "code",
   "execution_count": 96,
   "metadata": {},
   "outputs": [],
   "source": [
    "#vertical.astype({'Quantity':'int32'}).dtypes"
   ]
  },
  {
   "cell_type": "code",
   "execution_count": 279,
   "metadata": {},
   "outputs": [
    {
     "data": {
      "text/html": [
       "<div>\n",
       "<style scoped>\n",
       "    .dataframe tbody tr th:only-of-type {\n",
       "        vertical-align: middle;\n",
       "    }\n",
       "\n",
       "    .dataframe tbody tr th {\n",
       "        vertical-align: top;\n",
       "    }\n",
       "\n",
       "    .dataframe thead th {\n",
       "        text-align: right;\n",
       "    }\n",
       "</style>\n",
       "<table border=\"1\" class=\"dataframe\">\n",
       "  <thead>\n",
       "    <tr style=\"text-align: right;\">\n",
       "      <th></th>\n",
       "      <th>Race</th>\n",
       "      <th>Quantity</th>\n",
       "    </tr>\n",
       "  </thead>\n",
       "  <tbody>\n",
       "    <tr>\n",
       "      <th>0</th>\n",
       "      <td>A</td>\n",
       "      <td>1718.0</td>\n",
       "    </tr>\n",
       "    <tr>\n",
       "      <th>1</th>\n",
       "      <td>B</td>\n",
       "      <td>9554.0</td>\n",
       "    </tr>\n",
       "    <tr>\n",
       "      <th>2</th>\n",
       "      <td>H</td>\n",
       "      <td>11119.0</td>\n",
       "    </tr>\n",
       "    <tr>\n",
       "      <th>3</th>\n",
       "      <td>O</td>\n",
       "      <td>904.0</td>\n",
       "    </tr>\n",
       "    <tr>\n",
       "      <th>4</th>\n",
       "      <td>W</td>\n",
       "      <td>17240.0</td>\n",
       "    </tr>\n",
       "  </tbody>\n",
       "</table>\n",
       "</div>"
      ],
      "text/plain": [
       "  Race  Quantity\n",
       "0    A    1718.0\n",
       "1    B    9554.0\n",
       "2    H   11119.0\n",
       "3    O     904.0\n",
       "4    W   17240.0"
      ]
     },
     "execution_count": 279,
     "metadata": {},
     "output_type": "execute_result"
    }
   ],
   "source": [
    "race=(race.groupby('Race').agg({'Quantity':'mean'}).reset_index().round(0))\n",
    "race"
   ]
  },
  {
   "cell_type": "code",
   "execution_count": 280,
   "metadata": {},
   "outputs": [
    {
     "data": {
      "text/html": [
       "<div>\n",
       "<style scoped>\n",
       "    .dataframe tbody tr th:only-of-type {\n",
       "        vertical-align: middle;\n",
       "    }\n",
       "\n",
       "    .dataframe tbody tr th {\n",
       "        vertical-align: top;\n",
       "    }\n",
       "\n",
       "    .dataframe thead th {\n",
       "        text-align: right;\n",
       "    }\n",
       "</style>\n",
       "<table border=\"1\" class=\"dataframe\">\n",
       "  <thead>\n",
       "    <tr style=\"text-align: right;\">\n",
       "      <th></th>\n",
       "      <th>Race</th>\n",
       "      <th>Quantity</th>\n",
       "      <th>%_race_knowing_poor</th>\n",
       "    </tr>\n",
       "  </thead>\n",
       "  <tbody>\n",
       "    <tr>\n",
       "      <th>0</th>\n",
       "      <td>A</td>\n",
       "      <td>1718.0</td>\n",
       "      <td>4.2</td>\n",
       "    </tr>\n",
       "    <tr>\n",
       "      <th>1</th>\n",
       "      <td>B</td>\n",
       "      <td>9554.0</td>\n",
       "      <td>23.6</td>\n",
       "    </tr>\n",
       "    <tr>\n",
       "      <th>2</th>\n",
       "      <td>H</td>\n",
       "      <td>11119.0</td>\n",
       "      <td>27.4</td>\n",
       "    </tr>\n",
       "    <tr>\n",
       "      <th>3</th>\n",
       "      <td>O</td>\n",
       "      <td>904.0</td>\n",
       "      <td>2.2</td>\n",
       "    </tr>\n",
       "    <tr>\n",
       "      <th>4</th>\n",
       "      <td>W</td>\n",
       "      <td>17240.0</td>\n",
       "      <td>42.5</td>\n",
       "    </tr>\n",
       "  </tbody>\n",
       "</table>\n",
       "</div>"
      ],
      "text/plain": [
       "  Race  Quantity  %_race_knowing_poor\n",
       "0    A    1718.0                  4.2\n",
       "1    B    9554.0                 23.6\n",
       "2    H   11119.0                 27.4\n",
       "3    O     904.0                  2.2\n",
       "4    W   17240.0                 42.5"
      ]
     },
     "execution_count": 280,
     "metadata": {},
     "output_type": "execute_result"
    }
   ],
   "source": [
    "race['%_race_knowing_poor']=(race['Quantity']/race['Quantity'].sum()*100).round(1)\n",
    "race"
   ]
  },
  {
   "cell_type": "code",
   "execution_count": 285,
   "metadata": {},
   "outputs": [],
   "source": [
    "race.sort_values(by='Quantity', ascending=False, inplace=True)"
   ]
  },
  {
   "cell_type": "code",
   "execution_count": 286,
   "metadata": {},
   "outputs": [
    {
     "data": {
      "text/html": [
       "<div>\n",
       "<style scoped>\n",
       "    .dataframe tbody tr th:only-of-type {\n",
       "        vertical-align: middle;\n",
       "    }\n",
       "\n",
       "    .dataframe tbody tr th {\n",
       "        vertical-align: top;\n",
       "    }\n",
       "\n",
       "    .dataframe thead th {\n",
       "        text-align: right;\n",
       "    }\n",
       "</style>\n",
       "<table border=\"1\" class=\"dataframe\">\n",
       "  <thead>\n",
       "    <tr style=\"text-align: right;\">\n",
       "      <th></th>\n",
       "      <th>Race</th>\n",
       "      <th>Quantity</th>\n",
       "      <th>%_race_knowing_poor</th>\n",
       "      <th>%_race_and_poor</th>\n",
       "    </tr>\n",
       "  </thead>\n",
       "  <tbody>\n",
       "    <tr>\n",
       "      <th>4</th>\n",
       "      <td>W</td>\n",
       "      <td>17240.0</td>\n",
       "      <td>42.5</td>\n",
       "      <td>0.000052</td>\n",
       "    </tr>\n",
       "    <tr>\n",
       "      <th>2</th>\n",
       "      <td>H</td>\n",
       "      <td>11119.0</td>\n",
       "      <td>27.4</td>\n",
       "      <td>0.000033</td>\n",
       "    </tr>\n",
       "    <tr>\n",
       "      <th>1</th>\n",
       "      <td>B</td>\n",
       "      <td>9554.0</td>\n",
       "      <td>23.6</td>\n",
       "      <td>0.000029</td>\n",
       "    </tr>\n",
       "    <tr>\n",
       "      <th>0</th>\n",
       "      <td>A</td>\n",
       "      <td>1718.0</td>\n",
       "      <td>4.2</td>\n",
       "      <td>0.000005</td>\n",
       "    </tr>\n",
       "    <tr>\n",
       "      <th>3</th>\n",
       "      <td>O</td>\n",
       "      <td>904.0</td>\n",
       "      <td>2.2</td>\n",
       "      <td>0.000003</td>\n",
       "    </tr>\n",
       "  </tbody>\n",
       "</table>\n",
       "</div>"
      ],
      "text/plain": [
       "  Race  Quantity  %_race_knowing_poor  %_race_and_poor\n",
       "4    W   17240.0                 42.5         0.000052\n",
       "2    H   11119.0                 27.4         0.000033\n",
       "1    B    9554.0                 23.6         0.000029\n",
       "0    A    1718.0                  4.2         0.000005\n",
       "3    O     904.0                  2.2         0.000003"
      ]
     },
     "execution_count": 286,
     "metadata": {},
     "output_type": "execute_result"
    }
   ],
   "source": [
    "# P(race and poor)=P(race|poor)*P(poor) --> P(poor)=Nº poor/Total Population\n",
    "race['%_race_and_poor']=((race['%_race_knowing_poor']/100)*((race['Quantity'].sum())/332523600))#.round()\n",
    "race"
   ]
  },
  {
   "cell_type": "code",
   "execution_count": null,
   "metadata": {},
   "outputs": [],
   "source": [
    "# We'll consider that all the people killed by the police are poor or rich in the same proportion for\n",
    "# all races. So we'll consider that P(race and poor | killed) = P(race|killed)"
   ]
  },
  {
   "cell_type": "code",
   "execution_count": 289,
   "metadata": {},
   "outputs": [],
   "source": [
    "race=race.merge(police2_new, how='outer', left_on='Race', right_on='Race')"
   ]
  },
  {
   "cell_type": "code",
   "execution_count": 290,
   "metadata": {},
   "outputs": [
    {
     "data": {
      "text/html": [
       "<div>\n",
       "<style scoped>\n",
       "    .dataframe tbody tr th:only-of-type {\n",
       "        vertical-align: middle;\n",
       "    }\n",
       "\n",
       "    .dataframe tbody tr th {\n",
       "        vertical-align: top;\n",
       "    }\n",
       "\n",
       "    .dataframe thead th {\n",
       "        text-align: right;\n",
       "    }\n",
       "</style>\n",
       "<table border=\"1\" class=\"dataframe\">\n",
       "  <thead>\n",
       "    <tr style=\"text-align: right;\">\n",
       "      <th></th>\n",
       "      <th>Race</th>\n",
       "      <th>Quantity</th>\n",
       "      <th>%_race_knowing_poor</th>\n",
       "      <th>%_race_and_poor</th>\n",
       "      <th>% race knowing was killed</th>\n",
       "      <th>%_race_total</th>\n",
       "      <th>%_killed_knowing_race</th>\n",
       "      <th>%_killed_knowing_race_norm</th>\n",
       "    </tr>\n",
       "  </thead>\n",
       "  <tbody>\n",
       "    <tr>\n",
       "      <th>0</th>\n",
       "      <td>W</td>\n",
       "      <td>17240.0</td>\n",
       "      <td>42.5</td>\n",
       "      <td>0.000052</td>\n",
       "      <td>50.8</td>\n",
       "      <td>57.8</td>\n",
       "      <td>0.878893</td>\n",
       "      <td>0.192138</td>\n",
       "    </tr>\n",
       "    <tr>\n",
       "      <th>1</th>\n",
       "      <td>H</td>\n",
       "      <td>11119.0</td>\n",
       "      <td>27.4</td>\n",
       "      <td>0.000033</td>\n",
       "      <td>18.3</td>\n",
       "      <td>12.1</td>\n",
       "      <td>1.512397</td>\n",
       "      <td>0.330631</td>\n",
       "    </tr>\n",
       "    <tr>\n",
       "      <th>2</th>\n",
       "      <td>B</td>\n",
       "      <td>9554.0</td>\n",
       "      <td>23.6</td>\n",
       "      <td>0.000029</td>\n",
       "      <td>26.8</td>\n",
       "      <td>18.7</td>\n",
       "      <td>1.433155</td>\n",
       "      <td>0.313308</td>\n",
       "    </tr>\n",
       "    <tr>\n",
       "      <th>3</th>\n",
       "      <td>A</td>\n",
       "      <td>1718.0</td>\n",
       "      <td>4.2</td>\n",
       "      <td>0.000005</td>\n",
       "      <td>1.8</td>\n",
       "      <td>5.0</td>\n",
       "      <td>0.360000</td>\n",
       "      <td>0.078701</td>\n",
       "    </tr>\n",
       "    <tr>\n",
       "      <th>4</th>\n",
       "      <td>O</td>\n",
       "      <td>904.0</td>\n",
       "      <td>2.2</td>\n",
       "      <td>0.000003</td>\n",
       "      <td>2.3</td>\n",
       "      <td>5.9</td>\n",
       "      <td>0.389831</td>\n",
       "      <td>0.085222</td>\n",
       "    </tr>\n",
       "  </tbody>\n",
       "</table>\n",
       "</div>"
      ],
      "text/plain": [
       "  Race  Quantity  %_race_knowing_poor  %_race_and_poor  \\\n",
       "0    W   17240.0                 42.5         0.000052   \n",
       "1    H   11119.0                 27.4         0.000033   \n",
       "2    B    9554.0                 23.6         0.000029   \n",
       "3    A    1718.0                  4.2         0.000005   \n",
       "4    O     904.0                  2.2         0.000003   \n",
       "\n",
       "   % race knowing was killed  %_race_total  %_killed_knowing_race  \\\n",
       "0                       50.8          57.8               0.878893   \n",
       "1                       18.3          12.1               1.512397   \n",
       "2                       26.8          18.7               1.433155   \n",
       "3                        1.8           5.0               0.360000   \n",
       "4                        2.3           5.9               0.389831   \n",
       "\n",
       "   %_killed_knowing_race_norm  \n",
       "0                    0.192138  \n",
       "1                    0.330631  \n",
       "2                    0.313308  \n",
       "3                    0.078701  \n",
       "4                    0.085222  "
      ]
     },
     "execution_count": 290,
     "metadata": {},
     "output_type": "execute_result"
    }
   ],
   "source": [
    "race"
   ]
  },
  {
   "cell_type": "code",
   "execution_count": 293,
   "metadata": {},
   "outputs": [
    {
     "data": {
      "text/html": [
       "<div>\n",
       "<style scoped>\n",
       "    .dataframe tbody tr th:only-of-type {\n",
       "        vertical-align: middle;\n",
       "    }\n",
       "\n",
       "    .dataframe tbody tr th {\n",
       "        vertical-align: top;\n",
       "    }\n",
       "\n",
       "    .dataframe thead th {\n",
       "        text-align: right;\n",
       "    }\n",
       "</style>\n",
       "<table border=\"1\" class=\"dataframe\">\n",
       "  <thead>\n",
       "    <tr style=\"text-align: right;\">\n",
       "      <th></th>\n",
       "      <th>Race</th>\n",
       "      <th>Quantity</th>\n",
       "      <th>%_race_knowing_poor</th>\n",
       "      <th>%_race_and_poor</th>\n",
       "      <th>% race knowing was killed</th>\n",
       "      <th>%_race_total</th>\n",
       "      <th>%_killed_knowing_race</th>\n",
       "      <th>%_killed_knowing_race_norm</th>\n",
       "      <th>%_killed_knowing_race_and_poor</th>\n",
       "      <th>%_killed_knowing_race_and_poor_norm</th>\n",
       "    </tr>\n",
       "  </thead>\n",
       "  <tbody>\n",
       "    <tr>\n",
       "      <th>0</th>\n",
       "      <td>W</td>\n",
       "      <td>17240.0</td>\n",
       "      <td>42.5</td>\n",
       "      <td>0.000052</td>\n",
       "      <td>50.8</td>\n",
       "      <td>57.8</td>\n",
       "      <td>0.878893</td>\n",
       "      <td>0.192138</td>\n",
       "      <td>9805.439819</td>\n",
       "      <td>0.267236</td>\n",
       "    </tr>\n",
       "    <tr>\n",
       "      <th>1</th>\n",
       "      <td>H</td>\n",
       "      <td>11119.0</td>\n",
       "      <td>27.4</td>\n",
       "      <td>0.000033</td>\n",
       "      <td>18.3</td>\n",
       "      <td>12.1</td>\n",
       "      <td>1.512397</td>\n",
       "      <td>0.330631</td>\n",
       "      <td>5478.893054</td>\n",
       "      <td>0.149321</td>\n",
       "    </tr>\n",
       "    <tr>\n",
       "      <th>2</th>\n",
       "      <td>B</td>\n",
       "      <td>9554.0</td>\n",
       "      <td>23.6</td>\n",
       "      <td>0.000029</td>\n",
       "      <td>26.8</td>\n",
       "      <td>18.7</td>\n",
       "      <td>1.433155</td>\n",
       "      <td>0.313308</td>\n",
       "      <td>9315.691273</td>\n",
       "      <td>0.253889</td>\n",
       "    </tr>\n",
       "    <tr>\n",
       "      <th>3</th>\n",
       "      <td>A</td>\n",
       "      <td>1718.0</td>\n",
       "      <td>4.2</td>\n",
       "      <td>0.000005</td>\n",
       "      <td>1.8</td>\n",
       "      <td>5.0</td>\n",
       "      <td>0.360000</td>\n",
       "      <td>0.078701</td>\n",
       "      <td>3515.729969</td>\n",
       "      <td>0.095817</td>\n",
       "    </tr>\n",
       "    <tr>\n",
       "      <th>4</th>\n",
       "      <td>O</td>\n",
       "      <td>904.0</td>\n",
       "      <td>2.2</td>\n",
       "      <td>0.000003</td>\n",
       "      <td>2.3</td>\n",
       "      <td>5.9</td>\n",
       "      <td>0.389831</td>\n",
       "      <td>0.085222</td>\n",
       "      <td>8576.250378</td>\n",
       "      <td>0.233736</td>\n",
       "    </tr>\n",
       "  </tbody>\n",
       "</table>\n",
       "</div>"
      ],
      "text/plain": [
       "  Race  Quantity  %_race_knowing_poor  %_race_and_poor  \\\n",
       "0    W   17240.0                 42.5         0.000052   \n",
       "1    H   11119.0                 27.4         0.000033   \n",
       "2    B    9554.0                 23.6         0.000029   \n",
       "3    A    1718.0                  4.2         0.000005   \n",
       "4    O     904.0                  2.2         0.000003   \n",
       "\n",
       "   % race knowing was killed  %_race_total  %_killed_knowing_race  \\\n",
       "0                       50.8          57.8               0.878893   \n",
       "1                       18.3          12.1               1.512397   \n",
       "2                       26.8          18.7               1.433155   \n",
       "3                        1.8           5.0               0.360000   \n",
       "4                        2.3           5.9               0.389831   \n",
       "\n",
       "   %_killed_knowing_race_norm  %_killed_knowing_race_and_poor  \\\n",
       "0                    0.192138                     9805.439819   \n",
       "1                    0.330631                     5478.893054   \n",
       "2                    0.313308                     9315.691273   \n",
       "3                    0.078701                     3515.729969   \n",
       "4                    0.085222                     8576.250378   \n",
       "\n",
       "   %_killed_knowing_race_and_poor_norm  \n",
       "0                             0.267236  \n",
       "1                             0.149321  \n",
       "2                             0.253889  \n",
       "3                             0.095817  \n",
       "4                             0.233736  "
      ]
     },
     "execution_count": 293,
     "metadata": {},
     "output_type": "execute_result"
    }
   ],
   "source": [
    "race['%_killed_knowing_race_and_poor']=(race['% race knowing was killed']/100)/race['%_race_and_poor']\n",
    "race['%_killed_knowing_race_and_poor_norm']=race['%_killed_knowing_race_and_poor']/race['%_killed_knowing_race_and_poor'].sum()\n",
    "race"
   ]
  },
  {
   "cell_type": "code",
   "execution_count": 294,
   "metadata": {},
   "outputs": [
    {
     "data": {
      "image/png": "[encoded data removed]",
      "text/plain": [
       "<Figure size 864x432 with 1 Axes>"
      ]
     },
     "metadata": {
      "needs_background": "light"
     },
     "output_type": "display_data"
    }
   ],
   "source": [
    "plt.figure(figsize=(12,6))\n",
    "plt.bar(race['Race'], race['%_killed_knowing_race_and_poor_norm'],width=0.4)\n",
    "#plt.legend(ncol=2)\n",
    "plt.title('Probability of being killed being from x race and poor')\n",
    "plt.show()"
   ]
  },
  {
   "cell_type": "code",
   "execution_count": 200,
   "metadata": {},
   "outputs": [
    {
     "data": {
      "image/png": "[encoded data removed]",
      "text/plain": [
       "<Figure size 1008x432 with 1 Axes>"
      ]
     },
     "metadata": {
      "needs_background": "light"
     },
     "output_type": "display_data"
    }
   ],
   "source": [
    "X=['W','B','H','A','O']\n",
    "X_axis = np.arange(len(X))\n",
    "\n",
    "plt.figure(figsize=(14,6))\n",
    "plt.bar(X_axis - 0.2,police2_new['Quantity'],width=0.4, label='% Kills by Race')\n",
    "plt.bar(X_axis + 0.2, height=new_vertical['Percentage'],width=0.4, label='% Poors by Race')\n",
    "\n",
    "plt.xticks(X_axis, X)\n",
    "plt.xlabel(\"Race\")\n",
    "plt.ylabel(\"%\")\n",
    "plt.legend(fontsize=16)\n",
    "plt.show()"
   ]
  },
  {
   "cell_type": "markdown",
   "metadata": {},
   "source": [
    "### Kills_race vs Population_race"
   ]
  },
  {
   "cell_type": "code",
   "execution_count": 230,
   "metadata": {},
   "outputs": [],
   "source": [
    "new_vertical['Percentage_race_total']=[57.8,18.7,12.1,5.9,5.0]"
   ]
  },
  {
   "cell_type": "code",
   "execution_count": 231,
   "metadata": {},
   "outputs": [
    {
     "data": {
      "image/png": "[encoded data removed]",
      "text/plain": [
       "<Figure size 1008x432 with 1 Axes>"
      ]
     },
     "metadata": {
      "needs_background": "light"
     },
     "output_type": "display_data"
    }
   ],
   "source": [
    "X=['W','B','H','A','O']\n",
    "X_axis = np.arange(len(X))\n",
    "\n",
    "plt.figure(figsize=(14,6))\n",
    "plt.bar(X_axis - 0.2,police2_new['Quantity'],width=0.4, label='% Kills by Race')\n",
    "plt.bar(X_axis + 0.2, height=new_vertical['Percentage_race_total'],width=0.4, label='% Population by Race')\n",
    "\n",
    "plt.xticks(X_axis, X)\n",
    "plt.xlabel(\"Race\")\n",
    "plt.ylabel(\"%\")\n",
    "plt.legend(fontsize=16)\n",
    "plt.show()"
   ]
  },
  {
   "cell_type": "markdown",
   "metadata": {},
   "source": [
    "### Build charts comparing kills with different features"
   ]
  },
  {
   "cell_type": "code",
   "execution_count": 295,
   "metadata": {},
   "outputs": [
    {
     "data": {
      "text/html": [
       "<div>\n",
       "<style scoped>\n",
       "    .dataframe tbody tr th:only-of-type {\n",
       "        vertical-align: middle;\n",
       "    }\n",
       "\n",
       "    .dataframe tbody tr th {\n",
       "        vertical-align: top;\n",
       "    }\n",
       "\n",
       "    .dataframe thead th {\n",
       "        text-align: right;\n",
       "    }\n",
       "</style>\n",
       "<table border=\"1\" class=\"dataframe\">\n",
       "  <thead>\n",
       "    <tr style=\"text-align: right;\">\n",
       "      <th></th>\n",
       "      <th>id</th>\n",
       "      <th>name</th>\n",
       "      <th>date</th>\n",
       "      <th>manner_of_death</th>\n",
       "      <th>armed</th>\n",
       "      <th>age</th>\n",
       "      <th>gender</th>\n",
       "      <th>race</th>\n",
       "      <th>city</th>\n",
       "      <th>state</th>\n",
       "      <th>signs_of_mental_illness</th>\n",
       "      <th>threat_level</th>\n",
       "      <th>flee</th>\n",
       "      <th>body_camera</th>\n",
       "      <th>longitude</th>\n",
       "      <th>latitude</th>\n",
       "      <th>is_geocoding_exact</th>\n",
       "    </tr>\n",
       "  </thead>\n",
       "  <tbody>\n",
       "    <tr>\n",
       "      <th>0</th>\n",
       "      <td>3</td>\n",
       "      <td>Tim Elliot</td>\n",
       "      <td>2015-01-02</td>\n",
       "      <td>shot</td>\n",
       "      <td>gun</td>\n",
       "      <td>53.0</td>\n",
       "      <td>M</td>\n",
       "      <td>A</td>\n",
       "      <td>Shelton</td>\n",
       "      <td>WA</td>\n",
       "      <td>True</td>\n",
       "      <td>attack</td>\n",
       "      <td>Not fleeing</td>\n",
       "      <td>False</td>\n",
       "      <td>-123.122</td>\n",
       "      <td>47.247</td>\n",
       "      <td>True</td>\n",
       "    </tr>\n",
       "    <tr>\n",
       "      <th>1</th>\n",
       "      <td>4</td>\n",
       "      <td>Lewis Lee Lembke</td>\n",
       "      <td>2015-01-02</td>\n",
       "      <td>shot</td>\n",
       "      <td>gun</td>\n",
       "      <td>47.0</td>\n",
       "      <td>M</td>\n",
       "      <td>W</td>\n",
       "      <td>Aloha</td>\n",
       "      <td>OR</td>\n",
       "      <td>False</td>\n",
       "      <td>attack</td>\n",
       "      <td>Not fleeing</td>\n",
       "      <td>False</td>\n",
       "      <td>-122.892</td>\n",
       "      <td>45.487</td>\n",
       "      <td>True</td>\n",
       "    </tr>\n",
       "    <tr>\n",
       "      <th>2</th>\n",
       "      <td>5</td>\n",
       "      <td>John Paul Quintero</td>\n",
       "      <td>2015-01-03</td>\n",
       "      <td>shot and Tasered</td>\n",
       "      <td>unarmed</td>\n",
       "      <td>23.0</td>\n",
       "      <td>M</td>\n",
       "      <td>H</td>\n",
       "      <td>Wichita</td>\n",
       "      <td>KS</td>\n",
       "      <td>False</td>\n",
       "      <td>other</td>\n",
       "      <td>Not fleeing</td>\n",
       "      <td>False</td>\n",
       "      <td>-97.281</td>\n",
       "      <td>37.695</td>\n",
       "      <td>True</td>\n",
       "    </tr>\n",
       "    <tr>\n",
       "      <th>3</th>\n",
       "      <td>8</td>\n",
       "      <td>Matthew Hoffman</td>\n",
       "      <td>2015-01-04</td>\n",
       "      <td>shot</td>\n",
       "      <td>toy weapon</td>\n",
       "      <td>32.0</td>\n",
       "      <td>M</td>\n",
       "      <td>W</td>\n",
       "      <td>San Francisco</td>\n",
       "      <td>CA</td>\n",
       "      <td>True</td>\n",
       "      <td>attack</td>\n",
       "      <td>Not fleeing</td>\n",
       "      <td>False</td>\n",
       "      <td>-122.422</td>\n",
       "      <td>37.763</td>\n",
       "      <td>True</td>\n",
       "    </tr>\n",
       "    <tr>\n",
       "      <th>4</th>\n",
       "      <td>9</td>\n",
       "      <td>Michael Rodriguez</td>\n",
       "      <td>2015-01-04</td>\n",
       "      <td>shot</td>\n",
       "      <td>nail gun</td>\n",
       "      <td>39.0</td>\n",
       "      <td>M</td>\n",
       "      <td>H</td>\n",
       "      <td>Evans</td>\n",
       "      <td>CO</td>\n",
       "      <td>False</td>\n",
       "      <td>attack</td>\n",
       "      <td>Not fleeing</td>\n",
       "      <td>False</td>\n",
       "      <td>-104.692</td>\n",
       "      <td>40.384</td>\n",
       "      <td>True</td>\n",
       "    </tr>\n",
       "  </tbody>\n",
       "</table>\n",
       "</div>"
      ],
      "text/plain": [
       "   id                name        date   manner_of_death       armed   age  \\\n",
       "0   3          Tim Elliot  2015-01-02              shot         gun  53.0   \n",
       "1   4    Lewis Lee Lembke  2015-01-02              shot         gun  47.0   \n",
       "2   5  John Paul Quintero  2015-01-03  shot and Tasered     unarmed  23.0   \n",
       "3   8     Matthew Hoffman  2015-01-04              shot  toy weapon  32.0   \n",
       "4   9   Michael Rodriguez  2015-01-04              shot    nail gun  39.0   \n",
       "\n",
       "  gender race           city state  signs_of_mental_illness threat_level  \\\n",
       "0      M    A        Shelton    WA                     True       attack   \n",
       "1      M    W          Aloha    OR                    False       attack   \n",
       "2      M    H        Wichita    KS                    False        other   \n",
       "3      M    W  San Francisco    CA                     True       attack   \n",
       "4      M    H          Evans    CO                    False       attack   \n",
       "\n",
       "          flee  body_camera  longitude  latitude  is_geocoding_exact  \n",
       "0  Not fleeing        False   -123.122    47.247                True  \n",
       "1  Not fleeing        False   -122.892    45.487                True  \n",
       "2  Not fleeing        False    -97.281    37.695                True  \n",
       "3  Not fleeing        False   -122.422    37.763                True  \n",
       "4  Not fleeing        False   -104.692    40.384                True  "
      ]
     },
     "execution_count": 295,
     "metadata": {},
     "output_type": "execute_result"
    }
   ],
   "source": [
    "police3=police.copy()\n",
    "police3.head()"
   ]
  },
  {
   "cell_type": "code",
   "execution_count": 296,
   "metadata": {},
   "outputs": [
    {
     "data": {
      "text/plain": [
       "id                            0\n",
       "name                        324\n",
       "date                          0\n",
       "manner_of_death               0\n",
       "armed                       209\n",
       "age                         380\n",
       "gender                        5\n",
       "race                       1171\n",
       "city                          0\n",
       "state                         0\n",
       "signs_of_mental_illness       0\n",
       "threat_level                  0\n",
       "flee                        595\n",
       "body_camera                   0\n",
       "longitude                   683\n",
       "latitude                    683\n",
       "is_geocoding_exact            0\n",
       "dtype: int64"
      ]
     },
     "execution_count": 296,
     "metadata": {},
     "output_type": "execute_result"
    }
   ],
   "source": [
    "police3.isnull().sum()"
   ]
  },
  {
   "cell_type": "code",
   "execution_count": 297,
   "metadata": {},
   "outputs": [],
   "source": [
    "police3=police3[police3['race'].notna()]"
   ]
  },
  {
   "cell_type": "code",
   "execution_count": 298,
   "metadata": {},
   "outputs": [
    {
     "data": {
      "text/plain": [
       "id                           0\n",
       "name                        45\n",
       "date                         0\n",
       "manner_of_death              0\n",
       "armed                      199\n",
       "age                        114\n",
       "gender                       1\n",
       "race                         0\n",
       "city                         0\n",
       "state                        0\n",
       "signs_of_mental_illness      0\n",
       "threat_level                 0\n",
       "flee                       380\n",
       "body_camera                  0\n",
       "longitude                  331\n",
       "latitude                   331\n",
       "is_geocoding_exact           0\n",
       "dtype: int64"
      ]
     },
     "execution_count": 298,
     "metadata": {},
     "output_type": "execute_result"
    }
   ],
   "source": [
    "police3.isnull().sum()"
   ]
  },
  {
   "cell_type": "code",
   "execution_count": 299,
   "metadata": {},
   "outputs": [],
   "source": [
    "police3=police3[police3['armed'].notna()]"
   ]
  },
  {
   "cell_type": "code",
   "execution_count": 304,
   "metadata": {},
   "outputs": [
    {
     "data": {
      "text/plain": [
       "gun                  3397\n",
       "knife                 872\n",
       "unarmed               415\n",
       "toy weapon            209\n",
       "vehicle               185\n",
       "                     ... \n",
       "fireworks               1\n",
       "pen                     1\n",
       "chainsaw                1\n",
       "gun and sword           1\n",
       "knife and vehicle       1\n",
       "Name: armed, Length: 98, dtype: int64"
      ]
     },
     "execution_count": 304,
     "metadata": {},
     "output_type": "execute_result"
    }
   ],
   "source": [
    "police3['armed'].value_counts()"
   ]
  },
  {
   "cell_type": "code",
   "execution_count": 303,
   "metadata": {},
   "outputs": [
    {
     "data": {
      "image/png": "[encoded data removed]",
      "text/plain": [
       "<Figure size 432x288 with 1 Axes>"
      ]
     },
     "metadata": {
      "needs_background": "light"
     },
     "output_type": "display_data"
    }
   ],
   "source": [
    "plt.bar(police3['armed'].value_counts().index, police3['armed'].value_counts().index)\n",
    "plt.show()"
   ]
  },
  {
   "cell_type": "code",
   "execution_count": null,
   "metadata": {},
   "outputs": [],
   "source": []
  },
  {
   "cell_type": "markdown",
   "metadata": {},
   "source": [
    "### Race_Poverty dataset -> Check dependence between race and poverty"
   ]
  },
  {
   "cell_type": "code",
   "execution_count": 228,
   "metadata": {},
   "outputs": [],
   "source": [
    "new_vertical['Percentage_race_total']=[57.8,18.7,12.1,5.9,5.0]"
   ]
  },
  {
   "cell_type": "code",
   "execution_count": 229,
   "metadata": {},
   "outputs": [
    {
     "data": {
      "text/html": [
       "<div>\n",
       "<style scoped>\n",
       "    .dataframe tbody tr th:only-of-type {\n",
       "        vertical-align: middle;\n",
       "    }\n",
       "\n",
       "    .dataframe tbody tr th {\n",
       "        vertical-align: top;\n",
       "    }\n",
       "\n",
       "    .dataframe thead th {\n",
       "        text-align: right;\n",
       "    }\n",
       "</style>\n",
       "<table border=\"1\" class=\"dataframe\">\n",
       "  <thead>\n",
       "    <tr style=\"text-align: right;\">\n",
       "      <th></th>\n",
       "      <th>Race</th>\n",
       "      <th>Quantity</th>\n",
       "      <th>Percentage</th>\n",
       "      <th>Percentage_race_total</th>\n",
       "    </tr>\n",
       "  </thead>\n",
       "  <tbody>\n",
       "    <tr>\n",
       "      <th>4</th>\n",
       "      <td>W</td>\n",
       "      <td>17240.0</td>\n",
       "      <td>0.425</td>\n",
       "      <td>57.8</td>\n",
       "    </tr>\n",
       "    <tr>\n",
       "      <th>2</th>\n",
       "      <td>H</td>\n",
       "      <td>11119.0</td>\n",
       "      <td>0.274</td>\n",
       "      <td>18.7</td>\n",
       "    </tr>\n",
       "    <tr>\n",
       "      <th>1</th>\n",
       "      <td>B</td>\n",
       "      <td>9554.0</td>\n",
       "      <td>0.236</td>\n",
       "      <td>12.1</td>\n",
       "    </tr>\n",
       "    <tr>\n",
       "      <th>0</th>\n",
       "      <td>A</td>\n",
       "      <td>1718.0</td>\n",
       "      <td>0.042</td>\n",
       "      <td>5.9</td>\n",
       "    </tr>\n",
       "    <tr>\n",
       "      <th>3</th>\n",
       "      <td>O</td>\n",
       "      <td>904.0</td>\n",
       "      <td>0.022</td>\n",
       "      <td>5.0</td>\n",
       "    </tr>\n",
       "  </tbody>\n",
       "</table>\n",
       "</div>"
      ],
      "text/plain": [
       "  Race  Quantity  Percentage  Percentage_race_total\n",
       "4    W   17240.0       0.425                   57.8\n",
       "2    H   11119.0       0.274                   18.7\n",
       "1    B    9554.0       0.236                   12.1\n",
       "0    A    1718.0       0.042                    5.9\n",
       "3    O     904.0       0.022                    5.0"
      ]
     },
     "execution_count": 229,
     "metadata": {},
     "output_type": "execute_result"
    }
   ],
   "source": [
    "new_vertical"
   ]
  },
  {
   "cell_type": "code",
   "execution_count": 216,
   "metadata": {},
   "outputs": [],
   "source": [
    "new_vertical['Percentage']=new_vertical['Percentage']/100"
   ]
  },
  {
   "cell_type": "code",
   "execution_count": 217,
   "metadata": {},
   "outputs": [
    {
     "data": {
      "text/html": [
       "<div>\n",
       "<style scoped>\n",
       "    .dataframe tbody tr th:only-of-type {\n",
       "        vertical-align: middle;\n",
       "    }\n",
       "\n",
       "    .dataframe tbody tr th {\n",
       "        vertical-align: top;\n",
       "    }\n",
       "\n",
       "    .dataframe thead th {\n",
       "        text-align: right;\n",
       "    }\n",
       "</style>\n",
       "<table border=\"1\" class=\"dataframe\">\n",
       "  <thead>\n",
       "    <tr style=\"text-align: right;\">\n",
       "      <th></th>\n",
       "      <th>Race</th>\n",
       "      <th>Quantity</th>\n",
       "      <th>Percentage</th>\n",
       "      <th>Percentage_race_total</th>\n",
       "      <th>final_value</th>\n",
       "    </tr>\n",
       "  </thead>\n",
       "  <tbody>\n",
       "    <tr>\n",
       "      <th>4</th>\n",
       "      <td>W</td>\n",
       "      <td>17240.0</td>\n",
       "      <td>0.425</td>\n",
       "      <td>0.578</td>\n",
       "      <td>0.245650</td>\n",
       "    </tr>\n",
       "    <tr>\n",
       "      <th>2</th>\n",
       "      <td>H</td>\n",
       "      <td>11119.0</td>\n",
       "      <td>0.274</td>\n",
       "      <td>0.187</td>\n",
       "      <td>0.051238</td>\n",
       "    </tr>\n",
       "    <tr>\n",
       "      <th>1</th>\n",
       "      <td>B</td>\n",
       "      <td>9554.0</td>\n",
       "      <td>0.236</td>\n",
       "      <td>0.121</td>\n",
       "      <td>0.028556</td>\n",
       "    </tr>\n",
       "    <tr>\n",
       "      <th>0</th>\n",
       "      <td>A</td>\n",
       "      <td>1718.0</td>\n",
       "      <td>0.042</td>\n",
       "      <td>0.059</td>\n",
       "      <td>0.002478</td>\n",
       "    </tr>\n",
       "    <tr>\n",
       "      <th>3</th>\n",
       "      <td>O</td>\n",
       "      <td>904.0</td>\n",
       "      <td>0.022</td>\n",
       "      <td>0.050</td>\n",
       "      <td>0.001100</td>\n",
       "    </tr>\n",
       "  </tbody>\n",
       "</table>\n",
       "</div>"
      ],
      "text/plain": [
       "  Race  Quantity  Percentage  Percentage_race_total  final_value\n",
       "4    W   17240.0       0.425                  0.578     0.245650\n",
       "2    H   11119.0       0.274                  0.187     0.051238\n",
       "1    B    9554.0       0.236                  0.121     0.028556\n",
       "0    A    1718.0       0.042                  0.059     0.002478\n",
       "3    O     904.0       0.022                  0.050     0.001100"
      ]
     },
     "execution_count": 217,
     "metadata": {},
     "output_type": "execute_result"
    }
   ],
   "source": [
    "new_vertical['final_value']=new_vertical['Percentage']*new_vertical['Percentage_race_total']\n",
    "new_vertical"
   ]
  },
  {
   "cell_type": "code",
   "execution_count": 232,
   "metadata": {},
   "outputs": [
    {
     "data": {
      "text/html": [
       "<div>\n",
       "<style scoped>\n",
       "    .dataframe tbody tr th:only-of-type {\n",
       "        vertical-align: middle;\n",
       "    }\n",
       "\n",
       "    .dataframe tbody tr th {\n",
       "        vertical-align: top;\n",
       "    }\n",
       "\n",
       "    .dataframe thead th {\n",
       "        text-align: right;\n",
       "    }\n",
       "</style>\n",
       "<table border=\"1\" class=\"dataframe\">\n",
       "  <thead>\n",
       "    <tr style=\"text-align: right;\">\n",
       "      <th></th>\n",
       "      <th>Race</th>\n",
       "      <th>Quantity</th>\n",
       "      <th>Percentage</th>\n",
       "      <th>Percentage_race_total</th>\n",
       "      <th>P_killed_being_race</th>\n",
       "    </tr>\n",
       "  </thead>\n",
       "  <tbody>\n",
       "    <tr>\n",
       "      <th>4</th>\n",
       "      <td>W</td>\n",
       "      <td>17240.0</td>\n",
       "      <td>0.425</td>\n",
       "      <td>57.8</td>\n",
       "      <td>0.007353</td>\n",
       "    </tr>\n",
       "    <tr>\n",
       "      <th>2</th>\n",
       "      <td>H</td>\n",
       "      <td>11119.0</td>\n",
       "      <td>0.274</td>\n",
       "      <td>18.7</td>\n",
       "      <td>0.014652</td>\n",
       "    </tr>\n",
       "    <tr>\n",
       "      <th>1</th>\n",
       "      <td>B</td>\n",
       "      <td>9554.0</td>\n",
       "      <td>0.236</td>\n",
       "      <td>12.1</td>\n",
       "      <td>0.019504</td>\n",
       "    </tr>\n",
       "    <tr>\n",
       "      <th>0</th>\n",
       "      <td>A</td>\n",
       "      <td>1718.0</td>\n",
       "      <td>0.042</td>\n",
       "      <td>5.9</td>\n",
       "      <td>0.007119</td>\n",
       "    </tr>\n",
       "    <tr>\n",
       "      <th>3</th>\n",
       "      <td>O</td>\n",
       "      <td>904.0</td>\n",
       "      <td>0.022</td>\n",
       "      <td>5.0</td>\n",
       "      <td>0.004400</td>\n",
       "    </tr>\n",
       "  </tbody>\n",
       "</table>\n",
       "</div>"
      ],
      "text/plain": [
       "  Race  Quantity  Percentage  Percentage_race_total  P_killed_being_race\n",
       "4    W   17240.0       0.425                   57.8             0.007353\n",
       "2    H   11119.0       0.274                   18.7             0.014652\n",
       "1    B    9554.0       0.236                   12.1             0.019504\n",
       "0    A    1718.0       0.042                    5.9             0.007119\n",
       "3    O     904.0       0.022                    5.0             0.004400"
      ]
     },
     "execution_count": 232,
     "metadata": {},
     "output_type": "execute_result"
    }
   ],
   "source": [
    "new_vertical['P_killed_being_race']=new_vertical['Percentage']/new_vertical['Percentage_race_total']\n",
    "new_vertical"
   ]
  },
  {
   "cell_type": "code",
   "execution_count": 235,
   "metadata": {},
   "outputs": [
    {
     "data": {
      "text/plain": [
       "18.857917772498645"
      ]
     },
     "execution_count": 235,
     "metadata": {},
     "output_type": "execute_result"
    }
   ],
   "source": [
    "1/(new_vertical['P_killed_being_race'].sum())"
   ]
  },
  {
   "cell_type": "code",
   "execution_count": 236,
   "metadata": {},
   "outputs": [
    {
     "data": {
      "text/html": [
       "<div>\n",
       "<style scoped>\n",
       "    .dataframe tbody tr th:only-of-type {\n",
       "        vertical-align: middle;\n",
       "    }\n",
       "\n",
       "    .dataframe tbody tr th {\n",
       "        vertical-align: top;\n",
       "    }\n",
       "\n",
       "    .dataframe thead th {\n",
       "        text-align: right;\n",
       "    }\n",
       "</style>\n",
       "<table border=\"1\" class=\"dataframe\">\n",
       "  <thead>\n",
       "    <tr style=\"text-align: right;\">\n",
       "      <th></th>\n",
       "      <th>Race</th>\n",
       "      <th>Quantity</th>\n",
       "      <th>Percentage</th>\n",
       "      <th>Percentage_race_total</th>\n",
       "      <th>P_killed_being_race</th>\n",
       "      <th>P_killed_being_race_norm</th>\n",
       "    </tr>\n",
       "  </thead>\n",
       "  <tbody>\n",
       "    <tr>\n",
       "      <th>4</th>\n",
       "      <td>W</td>\n",
       "      <td>17240.0</td>\n",
       "      <td>0.425</td>\n",
       "      <td>57.8</td>\n",
       "      <td>0.007353</td>\n",
       "      <td>0.138661</td>\n",
       "    </tr>\n",
       "    <tr>\n",
       "      <th>2</th>\n",
       "      <td>H</td>\n",
       "      <td>11119.0</td>\n",
       "      <td>0.274</td>\n",
       "      <td>18.7</td>\n",
       "      <td>0.014652</td>\n",
       "      <td>0.276314</td>\n",
       "    </tr>\n",
       "    <tr>\n",
       "      <th>1</th>\n",
       "      <td>B</td>\n",
       "      <td>9554.0</td>\n",
       "      <td>0.236</td>\n",
       "      <td>12.1</td>\n",
       "      <td>0.019504</td>\n",
       "      <td>0.367807</td>\n",
       "    </tr>\n",
       "    <tr>\n",
       "      <th>0</th>\n",
       "      <td>A</td>\n",
       "      <td>1718.0</td>\n",
       "      <td>0.042</td>\n",
       "      <td>5.9</td>\n",
       "      <td>0.007119</td>\n",
       "      <td>0.134243</td>\n",
       "    </tr>\n",
       "    <tr>\n",
       "      <th>3</th>\n",
       "      <td>O</td>\n",
       "      <td>904.0</td>\n",
       "      <td>0.022</td>\n",
       "      <td>5.0</td>\n",
       "      <td>0.004400</td>\n",
       "      <td>0.082975</td>\n",
       "    </tr>\n",
       "  </tbody>\n",
       "</table>\n",
       "</div>"
      ],
      "text/plain": [
       "  Race  Quantity  Percentage  Percentage_race_total  P_killed_being_race  \\\n",
       "4    W   17240.0       0.425                   57.8             0.007353   \n",
       "2    H   11119.0       0.274                   18.7             0.014652   \n",
       "1    B    9554.0       0.236                   12.1             0.019504   \n",
       "0    A    1718.0       0.042                    5.9             0.007119   \n",
       "3    O     904.0       0.022                    5.0             0.004400   \n",
       "\n",
       "   P_killed_being_race_norm  \n",
       "4                  0.138661  \n",
       "2                  0.276314  \n",
       "1                  0.367807  \n",
       "0                  0.134243  \n",
       "3                  0.082975  "
      ]
     },
     "execution_count": 236,
     "metadata": {},
     "output_type": "execute_result"
    }
   ],
   "source": [
    "# Probability of being killed knowing you're from a specific race\n",
    "new_vertical['P_killed_being_race_norm']=new_vertical['P_killed_being_race']/(new_vertical['P_killed_being_race'].sum())\n",
    "new_vertical"
   ]
  },
  {
   "cell_type": "code",
   "execution_count": 237,
   "metadata": {},
   "outputs": [
    {
     "data": {
      "text/plain": [
       "1.0"
      ]
     },
     "execution_count": 237,
     "metadata": {},
     "output_type": "execute_result"
    }
   ],
   "source": [
    "new_vertical['P_killed_being_race_norm'].sum()"
   ]
  },
  {
   "cell_type": "code",
   "execution_count": null,
   "metadata": {},
   "outputs": [],
   "source": []
  },
  {
   "cell_type": "code",
   "execution_count": null,
   "metadata": {},
   "outputs": [],
   "source": []
  },
  {
   "cell_type": "code",
   "execution_count": null,
   "metadata": {},
   "outputs": [],
   "source": []
  },
  {
   "cell_type": "code",
   "execution_count": 210,
   "metadata": {},
   "outputs": [
    {
     "data": {
      "text/plain": [
       "{'W': 0.578, 'B': 0.121, 'H': 0.187, 'A': 0.059, 'O': 0.05}"
      ]
     },
     "execution_count": 210,
     "metadata": {},
     "output_type": "execute_result"
    }
   ],
   "source": [
    "us_race_perce_dict={'W':0.578, 'B':0.121, 'H':0.187,'A':0.059,'O':0.05}\n",
    "us_race_perce_dict"
   ]
  },
  {
   "cell_type": "code",
   "execution_count": 213,
   "metadata": {},
   "outputs": [
    {
     "data": {
      "text/html": [
       "<div>\n",
       "<style scoped>\n",
       "    .dataframe tbody tr th:only-of-type {\n",
       "        vertical-align: middle;\n",
       "    }\n",
       "\n",
       "    .dataframe tbody tr th {\n",
       "        vertical-align: top;\n",
       "    }\n",
       "\n",
       "    .dataframe thead th {\n",
       "        text-align: right;\n",
       "    }\n",
       "</style>\n",
       "<table border=\"1\" class=\"dataframe\">\n",
       "  <thead>\n",
       "    <tr style=\"text-align: right;\">\n",
       "      <th></th>\n",
       "      <th>0</th>\n",
       "    </tr>\n",
       "  </thead>\n",
       "  <tbody>\n",
       "    <tr>\n",
       "      <th>W</th>\n",
       "      <td>0.578</td>\n",
       "    </tr>\n",
       "    <tr>\n",
       "      <th>B</th>\n",
       "      <td>0.121</td>\n",
       "    </tr>\n",
       "    <tr>\n",
       "      <th>H</th>\n",
       "      <td>0.187</td>\n",
       "    </tr>\n",
       "    <tr>\n",
       "      <th>A</th>\n",
       "      <td>0.059</td>\n",
       "    </tr>\n",
       "    <tr>\n",
       "      <th>O</th>\n",
       "      <td>0.050</td>\n",
       "    </tr>\n",
       "  </tbody>\n",
       "</table>\n",
       "</div>"
      ],
      "text/plain": [
       "       0\n",
       "W  0.578\n",
       "B  0.121\n",
       "H  0.187\n",
       "A  0.059\n",
       "O  0.050"
      ]
     },
     "execution_count": 213,
     "metadata": {},
     "output_type": "execute_result"
    }
   ],
   "source": [
    "us_race_perce = pd.DataFrame.from_dict(data=us_race_perce_dict, orient='index')\n",
    "us_race_perce"
   ]
  },
  {
   "cell_type": "code",
   "execution_count": null,
   "metadata": {},
   "outputs": [],
   "source": []
  },
  {
   "cell_type": "code",
   "execution_count": null,
   "metadata": {},
   "outputs": [],
   "source": []
  },
  {
   "cell_type": "code",
   "execution_count": null,
   "metadata": {},
   "outputs": [],
   "source": []
  },
  {
   "cell_type": "code",
   "execution_count": null,
   "metadata": {},
   "outputs": [],
   "source": []
  },
  {
   "cell_type": "code",
   "execution_count": 225,
   "metadata": {},
   "outputs": [
    {
     "data": {
      "text/html": [
       "<div>\n",
       "<style scoped>\n",
       "    .dataframe tbody tr th:only-of-type {\n",
       "        vertical-align: middle;\n",
       "    }\n",
       "\n",
       "    .dataframe tbody tr th {\n",
       "        vertical-align: top;\n",
       "    }\n",
       "\n",
       "    .dataframe thead th {\n",
       "        text-align: right;\n",
       "    }\n",
       "</style>\n",
       "<table border=\"1\" class=\"dataframe\">\n",
       "  <thead>\n",
       "    <tr style=\"text-align: right;\">\n",
       "      <th></th>\n",
       "      <th>Location,\"White\",\"Black\",\"Hispanic\",\"Asian/Native Hawaiian and Pacific Islander\",\"American Indian/Alaska Native\",\"Multiple Races\",\"Total\",Footnotes</th>\n",
       "    </tr>\n",
       "  </thead>\n",
       "  <tbody>\n",
       "    <tr>\n",
       "      <th>0</th>\n",
       "      <td>United States,\"0.090\",\"0.212\",\"0.172\",\"0.097\",...</td>\n",
       "    </tr>\n",
       "    <tr>\n",
       "      <th>1</th>\n",
       "      <td>Alabama,\"0.115\",\"0.236\",\"0.244\",\"0.107\",\"0.156...</td>\n",
       "    </tr>\n",
       "    <tr>\n",
       "      <th>2</th>\n",
       "      <td>Alaska,\"0.069\",\"N/A\",\"0.149\",\"N/A\",\"0.240\",\"0....</td>\n",
       "    </tr>\n",
       "    <tr>\n",
       "      <th>3</th>\n",
       "      <td>Arizona,\"0.092\",\"0.175\",\"0.182\",\"0.115\",\"0.290...</td>\n",
       "    </tr>\n",
       "    <tr>\n",
       "      <th>4</th>\n",
       "      <td>Arkansas,\"0.134\",\"0.289\",\"0.201\",\"0.125\",\"0.15...</td>\n",
       "    </tr>\n",
       "    <tr>\n",
       "      <th>5</th>\n",
       "      <td>California,\"0.084\",\"0.193\",\"0.150\",\"0.090\",\"0....</td>\n",
       "    </tr>\n",
       "    <tr>\n",
       "      <th>6</th>\n",
       "      <td>Colorado,\"0.070\",\"0.197\",\"0.143\",\"0.082\",\"0.18...</td>\n",
       "    </tr>\n",
       "    <tr>\n",
       "      <th>7</th>\n",
       "      <td>Connecticut,\"0.058\",\"0.184\",\"0.220\",\"0.088\",\"N...</td>\n",
       "    </tr>\n",
       "    <tr>\n",
       "      <th>8</th>\n",
       "      <td>Delaware,\"0.073\",\"0.173\",\"0.211\",\"0.084\",\"N/A\"...</td>\n",
       "    </tr>\n",
       "    <tr>\n",
       "      <th>9</th>\n",
       "      <td>District of Columbia,\"0.051\",\"0.234\",\"0.089\",\"...</td>\n",
       "    </tr>\n",
       "    <tr>\n",
       "      <th>10</th>\n",
       "      <td>Florida,\"0.092\",\"0.198\",\"0.157\",\"0.102\",\"0.139...</td>\n",
       "    </tr>\n",
       "    <tr>\n",
       "      <th>11</th>\n",
       "      <td>Georgia,\"0.091\",\"0.191\",\"0.197\",\"0.096\",\"0.232...</td>\n",
       "    </tr>\n",
       "    <tr>\n",
       "      <th>12</th>\n",
       "      <td>Hawaii,\"0.101\",\"N/A\",\"0.137\",\"0.091\",\"0.553\",\"...</td>\n",
       "    </tr>\n",
       "    <tr>\n",
       "      <th>13</th>\n",
       "      <td>Idaho,\"0.096\",\"N/A\",\"0.186\",\"0.199\",\"0.274\",\"0...</td>\n",
       "    </tr>\n",
       "    <tr>\n",
       "      <th>14</th>\n",
       "      <td>Illinois,\"0.079\",\"0.241\",\"0.136\",\"0.102\",\"0.20...</td>\n",
       "    </tr>\n",
       "    <tr>\n",
       "      <th>15</th>\n",
       "      <td>Indiana,\"0.100\",\"0.250\",\"0.153\",\"0.133\",\"0.184...</td>\n",
       "    </tr>\n",
       "    <tr>\n",
       "      <th>16</th>\n",
       "      <td>Iowa,\"0.099\",\"0.305\",\"0.184\",\"0.117\",\"0.391\",\"...</td>\n",
       "    </tr>\n",
       "    <tr>\n",
       "      <th>17</th>\n",
       "      <td>Kansas,\"0.089\",\"0.208\",\"0.208\",\"0.127\",\"0.222\"...</td>\n",
       "    </tr>\n",
       "    <tr>\n",
       "      <th>18</th>\n",
       "      <td>Kentucky,\"0.150\",\"0.236\",\"0.211\",\"0.126\",\"N/A\"...</td>\n",
       "    </tr>\n",
       "    <tr>\n",
       "      <th>19</th>\n",
       "      <td>Louisiana,\"0.125\",\"0.294\",\"0.253\",\"0.110\",\"0.1...</td>\n",
       "    </tr>\n",
       "    <tr>\n",
       "      <th>20</th>\n",
       "      <td>Maine,\"0.102\",\"0.291\",\"0.092\",\"N/A\",\"0.151\",\"0...</td>\n",
       "    </tr>\n",
       "    <tr>\n",
       "      <th>21</th>\n",
       "      <td>Maryland,\"0.062\",\"0.128\",\"0.116\",\"0.081\",\"0.18...</td>\n",
       "    </tr>\n",
       "    <tr>\n",
       "      <th>22</th>\n",
       "      <td>Massachusetts,\"0.065\",\"0.178\",\"0.192\",\"0.107\",...</td>\n",
       "    </tr>\n",
       "    <tr>\n",
       "      <th>23</th>\n",
       "      <td>Michigan,\"0.099\",\"0.267\",\"0.198\",\"0.104\",\"0.21...</td>\n",
       "    </tr>\n",
       "    <tr>\n",
       "      <th>24</th>\n",
       "      <td>Minnesota,\"0.066\",\"0.269\",\"0.148\",\"0.094\",\"0.3...</td>\n",
       "    </tr>\n",
       "    <tr>\n",
       "      <th>25</th>\n",
       "      <td>Mississippi,\"0.117\",\"0.305\",\"0.308\",\"0.110\",\"0...</td>\n",
       "    </tr>\n",
       "    <tr>\n",
       "      <th>26</th>\n",
       "      <td>Missouri,\"0.110\",\"0.200\",\"0.177\",\"0.136\",\"0.25...</td>\n",
       "    </tr>\n",
       "    <tr>\n",
       "      <th>27</th>\n",
       "      <td>Montana,\"0.109\",\"N/A\",\"0.227\",\"N/A\",\"0.338\",\"0...</td>\n",
       "    </tr>\n",
       "    <tr>\n",
       "      <th>28</th>\n",
       "      <td>Nebraska,\"0.081\",\"0.146\",\"0.198\",\"0.151\",\"0.21...</td>\n",
       "    </tr>\n",
       "    <tr>\n",
       "      <th>29</th>\n",
       "      <td>Nevada,\"0.099\",\"0.212\",\"0.168\",\"0.099\",\"0.145\"...</td>\n",
       "    </tr>\n",
       "    <tr>\n",
       "      <th>30</th>\n",
       "      <td>New Hampshire,\"0.073\",\"N/A\",\"0.109\",\"N/A\",\"N/A...</td>\n",
       "    </tr>\n",
       "    <tr>\n",
       "      <th>31</th>\n",
       "      <td>New Jersey,\"0.056\",\"0.163\",\"0.157\",\"0.058\",\"N/...</td>\n",
       "    </tr>\n",
       "    <tr>\n",
       "      <th>32</th>\n",
       "      <td>New Mexico,\"0.114\",\"0.221\",\"0.208\",\"0.128\",\"0....</td>\n",
       "    </tr>\n",
       "    <tr>\n",
       "      <th>33</th>\n",
       "      <td>New York,\"0.091\",\"0.191\",\"0.185\",\"0.134\",\"0.25...</td>\n",
       "    </tr>\n",
       "    <tr>\n",
       "      <th>34</th>\n",
       "      <td>North Carolina,\"0.095\",\"0.211\",\"0.216\",\"0.079\"...</td>\n",
       "    </tr>\n",
       "    <tr>\n",
       "      <th>35</th>\n",
       "      <td>North Dakota,\"0.083\",\"N/A\",\"0.157\",\"N/A\",\"0.38...</td>\n",
       "    </tr>\n",
       "    <tr>\n",
       "      <th>36</th>\n",
       "      <td>Ohio,\"0.100\",\"0.270\",\"0.237\",\"0.098\",\"0.211\",\"...</td>\n",
       "    </tr>\n",
       "    <tr>\n",
       "      <th>37</th>\n",
       "      <td>Oklahoma,\"0.124\",\"0.282\",\"0.221\",\"0.150\",\"0.19...</td>\n",
       "    </tr>\n",
       "    <tr>\n",
       "      <th>38</th>\n",
       "      <td>Oregon,\"0.101\",\"0.273\",\"0.161\",\"0.118\",\"0.185\"...</td>\n",
       "    </tr>\n",
       "    <tr>\n",
       "      <th>39</th>\n",
       "      <td>Pennsylvania,\"0.087\",\"0.246\",\"0.271\",\"0.127\",\"...</td>\n",
       "    </tr>\n",
       "    <tr>\n",
       "      <th>40</th>\n",
       "      <td>Rhode Island,\"0.071\",\"0.243\",\"0.219\",\"0.062\",\"...</td>\n",
       "    </tr>\n",
       "    <tr>\n",
       "      <th>41</th>\n",
       "      <td>South Carolina,\"0.092\",\"0.232\",\"0.213\",\"0.090\"...</td>\n",
       "    </tr>\n",
       "    <tr>\n",
       "      <th>42</th>\n",
       "      <td>South Dakota,\"0.077\",\"N/A\",\"N/A\",\"N/A\",\"0.427\"...</td>\n",
       "    </tr>\n",
       "    <tr>\n",
       "      <th>43</th>\n",
       "      <td>Tennessee,\"0.112\",\"0.213\",\"0.249\",\"0.072\",\"0.2...</td>\n",
       "    </tr>\n",
       "    <tr>\n",
       "      <th>44</th>\n",
       "      <td>Texas,\"0.079\",\"0.184\",\"0.187\",\"0.092\",\"0.120\",...</td>\n",
       "    </tr>\n",
       "    <tr>\n",
       "      <th>45</th>\n",
       "      <td>Utah,\"0.074\",\"0.438\",\"0.158\",\"0.122\",\"0.234\",\"...</td>\n",
       "    </tr>\n",
       "    <tr>\n",
       "      <th>46</th>\n",
       "      <td>Vermont,\"0.098\",\"0.362\",\"0.118\",\"N/A\",\"N/A\",\"N...</td>\n",
       "    </tr>\n",
       "    <tr>\n",
       "      <th>47</th>\n",
       "      <td>Virginia,\"0.077\",\"0.161\",\"0.125\",\"0.070\",\"N/A\"...</td>\n",
       "    </tr>\n",
       "    <tr>\n",
       "      <th>48</th>\n",
       "      <td>Washington,\"0.081\",\"0.157\",\"0.163\",\"0.082\",\"0....</td>\n",
       "    </tr>\n",
       "    <tr>\n",
       "      <th>49</th>\n",
       "      <td>West Virginia,\"0.150\",\"0.274\",\"0.192\",\"N/A\",\"N...</td>\n",
       "    </tr>\n",
       "    <tr>\n",
       "      <th>50</th>\n",
       "      <td>Wisconsin,\"0.075\",\"0.245\",\"0.194\",\"0.107\",\"0.2...</td>\n",
       "    </tr>\n",
       "    <tr>\n",
       "      <th>51</th>\n",
       "      <td>Wyoming,\"0.088\",\"N/A\",\"0.145\",\"N/A\",\"0.151\",\"0...</td>\n",
       "    </tr>\n",
       "    <tr>\n",
       "      <th>52</th>\n",
       "      <td>Puerto Rico,\"0.333\",\"N/A\",\"0.436\",\"N/A\",\"N/A\",...</td>\n",
       "    </tr>\n",
       "  </tbody>\n",
       "</table>\n",
       "</div>"
      ],
      "text/plain": [
       "   Location,\"White\",\"Black\",\"Hispanic\",\"Asian/Native Hawaiian and Pacific Islander\",\"American Indian/Alaska Native\",\"Multiple Races\",\"Total\",Footnotes\n",
       "0   United States,\"0.090\",\"0.212\",\"0.172\",\"0.097\",...                                                                                                 \n",
       "1   Alabama,\"0.115\",\"0.236\",\"0.244\",\"0.107\",\"0.156...                                                                                                 \n",
       "2   Alaska,\"0.069\",\"N/A\",\"0.149\",\"N/A\",\"0.240\",\"0....                                                                                                 \n",
       "3   Arizona,\"0.092\",\"0.175\",\"0.182\",\"0.115\",\"0.290...                                                                                                 \n",
       "4   Arkansas,\"0.134\",\"0.289\",\"0.201\",\"0.125\",\"0.15...                                                                                                 \n",
       "5   California,\"0.084\",\"0.193\",\"0.150\",\"0.090\",\"0....                                                                                                 \n",
       "6   Colorado,\"0.070\",\"0.197\",\"0.143\",\"0.082\",\"0.18...                                                                                                 \n",
       "7   Connecticut,\"0.058\",\"0.184\",\"0.220\",\"0.088\",\"N...                                                                                                 \n",
       "8   Delaware,\"0.073\",\"0.173\",\"0.211\",\"0.084\",\"N/A\"...                                                                                                 \n",
       "9   District of Columbia,\"0.051\",\"0.234\",\"0.089\",\"...                                                                                                 \n",
       "10  Florida,\"0.092\",\"0.198\",\"0.157\",\"0.102\",\"0.139...                                                                                                 \n",
       "11  Georgia,\"0.091\",\"0.191\",\"0.197\",\"0.096\",\"0.232...                                                                                                 \n",
       "12  Hawaii,\"0.101\",\"N/A\",\"0.137\",\"0.091\",\"0.553\",\"...                                                                                                 \n",
       "13  Idaho,\"0.096\",\"N/A\",\"0.186\",\"0.199\",\"0.274\",\"0...                                                                                                 \n",
       "14  Illinois,\"0.079\",\"0.241\",\"0.136\",\"0.102\",\"0.20...                                                                                                 \n",
       "15  Indiana,\"0.100\",\"0.250\",\"0.153\",\"0.133\",\"0.184...                                                                                                 \n",
       "16  Iowa,\"0.099\",\"0.305\",\"0.184\",\"0.117\",\"0.391\",\"...                                                                                                 \n",
       "17  Kansas,\"0.089\",\"0.208\",\"0.208\",\"0.127\",\"0.222\"...                                                                                                 \n",
       "18  Kentucky,\"0.150\",\"0.236\",\"0.211\",\"0.126\",\"N/A\"...                                                                                                 \n",
       "19  Louisiana,\"0.125\",\"0.294\",\"0.253\",\"0.110\",\"0.1...                                                                                                 \n",
       "20  Maine,\"0.102\",\"0.291\",\"0.092\",\"N/A\",\"0.151\",\"0...                                                                                                 \n",
       "21  Maryland,\"0.062\",\"0.128\",\"0.116\",\"0.081\",\"0.18...                                                                                                 \n",
       "22  Massachusetts,\"0.065\",\"0.178\",\"0.192\",\"0.107\",...                                                                                                 \n",
       "23  Michigan,\"0.099\",\"0.267\",\"0.198\",\"0.104\",\"0.21...                                                                                                 \n",
       "24  Minnesota,\"0.066\",\"0.269\",\"0.148\",\"0.094\",\"0.3...                                                                                                 \n",
       "25  Mississippi,\"0.117\",\"0.305\",\"0.308\",\"0.110\",\"0...                                                                                                 \n",
       "26  Missouri,\"0.110\",\"0.200\",\"0.177\",\"0.136\",\"0.25...                                                                                                 \n",
       "27  Montana,\"0.109\",\"N/A\",\"0.227\",\"N/A\",\"0.338\",\"0...                                                                                                 \n",
       "28  Nebraska,\"0.081\",\"0.146\",\"0.198\",\"0.151\",\"0.21...                                                                                                 \n",
       "29  Nevada,\"0.099\",\"0.212\",\"0.168\",\"0.099\",\"0.145\"...                                                                                                 \n",
       "30  New Hampshire,\"0.073\",\"N/A\",\"0.109\",\"N/A\",\"N/A...                                                                                                 \n",
       "31  New Jersey,\"0.056\",\"0.163\",\"0.157\",\"0.058\",\"N/...                                                                                                 \n",
       "32  New Mexico,\"0.114\",\"0.221\",\"0.208\",\"0.128\",\"0....                                                                                                 \n",
       "33  New York,\"0.091\",\"0.191\",\"0.185\",\"0.134\",\"0.25...                                                                                                 \n",
       "34  North Carolina,\"0.095\",\"0.211\",\"0.216\",\"0.079\"...                                                                                                 \n",
       "35  North Dakota,\"0.083\",\"N/A\",\"0.157\",\"N/A\",\"0.38...                                                                                                 \n",
       "36  Ohio,\"0.100\",\"0.270\",\"0.237\",\"0.098\",\"0.211\",\"...                                                                                                 \n",
       "37  Oklahoma,\"0.124\",\"0.282\",\"0.221\",\"0.150\",\"0.19...                                                                                                 \n",
       "38  Oregon,\"0.101\",\"0.273\",\"0.161\",\"0.118\",\"0.185\"...                                                                                                 \n",
       "39  Pennsylvania,\"0.087\",\"0.246\",\"0.271\",\"0.127\",\"...                                                                                                 \n",
       "40  Rhode Island,\"0.071\",\"0.243\",\"0.219\",\"0.062\",\"...                                                                                                 \n",
       "41  South Carolina,\"0.092\",\"0.232\",\"0.213\",\"0.090\"...                                                                                                 \n",
       "42  South Dakota,\"0.077\",\"N/A\",\"N/A\",\"N/A\",\"0.427\"...                                                                                                 \n",
       "43  Tennessee,\"0.112\",\"0.213\",\"0.249\",\"0.072\",\"0.2...                                                                                                 \n",
       "44  Texas,\"0.079\",\"0.184\",\"0.187\",\"0.092\",\"0.120\",...                                                                                                 \n",
       "45  Utah,\"0.074\",\"0.438\",\"0.158\",\"0.122\",\"0.234\",\"...                                                                                                 \n",
       "46  Vermont,\"0.098\",\"0.362\",\"0.118\",\"N/A\",\"N/A\",\"N...                                                                                                 \n",
       "47  Virginia,\"0.077\",\"0.161\",\"0.125\",\"0.070\",\"N/A\"...                                                                                                 \n",
       "48  Washington,\"0.081\",\"0.157\",\"0.163\",\"0.082\",\"0....                                                                                                 \n",
       "49  West Virginia,\"0.150\",\"0.274\",\"0.192\",\"N/A\",\"N...                                                                                                 \n",
       "50  Wisconsin,\"0.075\",\"0.245\",\"0.194\",\"0.107\",\"0.2...                                                                                                 \n",
       "51  Wyoming,\"0.088\",\"N/A\",\"0.145\",\"N/A\",\"0.151\",\"0...                                                                                                 \n",
       "52  Puerto Rico,\"0.333\",\"N/A\",\"0.436\",\"N/A\",\"N/A\",...                                                                                                 "
      ]
     },
     "execution_count": 225,
     "metadata": {},
     "output_type": "execute_result"
    }
   ],
   "source": [
    "pd.read_csv('poverty_total.csv', sep=',')"
   ]
  },
  {
   "cell_type": "code",
   "execution_count": null,
   "metadata": {},
   "outputs": [],
   "source": []
  }
 ],
 "metadata": {
  "kernelspec": {
   "display_name": "Python 3",
   "language": "python",
   "name": "python3"
  },
  "language_info": {
   "codemirror_mode": {
    "name": "ipython",
    "version": 3
   },
   "file_extension": ".py",
   "mimetype": "text/x-python",
   "name": "python",
   "nbconvert_exporter": "python",
   "pygments_lexer": "ipython3",
   "version": "3.7.3"
  }
 },
 "nbformat": 4,
 "nbformat_minor": 4
}
